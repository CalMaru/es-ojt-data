{
 "cells": [
  {
   "cell_type": "markdown",
   "id": "dad96df4-ba26-4fbb-808d-7295c67c4680",
   "metadata": {},
   "source": [
    "# Reporter 적재"
   ]
  },
  {
   "cell_type": "code",
   "execution_count": 1,
   "id": "e7628e0e-666d-4879-9259-b6457f37a032",
   "metadata": {},
   "outputs": [],
   "source": [
    "from pathlib import Path\n",
    "import os\n",
    "\n",
    "os.chdir(Path(os.getcwd()).parent.parent)"
   ]
  },
  {
   "cell_type": "code",
   "execution_count": 3,
   "id": "3f3f152e-4beb-44ff-895a-c09ca465316c",
   "metadata": {},
   "outputs": [],
   "source": [
    "from os.path import join\n",
    "\n",
    "import json\n",
    "\n",
    "import pandas as pd"
   ]
  },
  {
   "cell_type": "code",
   "execution_count": 4,
   "id": "6d530424-c075-4747-8601-817253885e91",
   "metadata": {},
   "outputs": [],
   "source": [
    "root_path = os.getcwd()\n",
    "data_path = join(os.getcwd(), \"data\")\n",
    "pre_path = join(data_path, \"preprocessing\")\n",
    "bulk_path = join(data_path, \"bulk\")"
   ]
  },
  {
   "cell_type": "markdown",
   "id": "edf57acb-2d59-4efa-84fc-8ac34d6ea590",
   "metadata": {},
   "source": [
    "## Load reporters.csv"
   ]
  },
  {
   "cell_type": "code",
   "execution_count": 5,
   "id": "3857459b-f5c3-451c-a548-170eed85629e",
   "metadata": {},
   "outputs": [],
   "source": [
    "target_name = \"reporter\"\n",
    "target_file_name = \"reporters.csv\""
   ]
  },
  {
   "cell_type": "code",
   "execution_count": 6,
   "id": "c1d44737-2ddf-4f34-a329-c1e471693485",
   "metadata": {},
   "outputs": [],
   "source": [
    "target_df = pd.read_csv(join(pre_path, target_file_name))"
   ]
  },
  {
   "cell_type": "code",
   "execution_count": 7,
   "id": "b3dab17e-d62f-4299-a19b-f9e58af79445",
   "metadata": {},
   "outputs": [
    {
     "data": {
      "text/html": [
       "<div>\n",
       "<style scoped>\n",
       "    .dataframe tbody tr th:only-of-type {\n",
       "        vertical-align: middle;\n",
       "    }\n",
       "\n",
       "    .dataframe tbody tr th {\n",
       "        vertical-align: top;\n",
       "    }\n",
       "\n",
       "    .dataframe thead th {\n",
       "        text-align: right;\n",
       "    }\n",
       "</style>\n",
       "<table border=\"1\" class=\"dataframe\">\n",
       "  <thead>\n",
       "    <tr style=\"text-align: right;\">\n",
       "      <th></th>\n",
       "      <th>이름</th>\n",
       "      <th>이름_자모</th>\n",
       "    </tr>\n",
       "  </thead>\n",
       "  <tbody>\n",
       "    <tr>\n",
       "      <th>0</th>\n",
       "      <td>Hoàng Phương Ly</td>\n",
       "      <td>Hoàng Phương Ly</td>\n",
       "    </tr>\n",
       "    <tr>\n",
       "      <th>1</th>\n",
       "      <td>갈태웅</td>\n",
       "      <td>갈태웅</td>\n",
       "    </tr>\n",
       "    <tr>\n",
       "      <th>2</th>\n",
       "      <td>강갑생</td>\n",
       "      <td>강갑생</td>\n",
       "    </tr>\n",
       "    <tr>\n",
       "      <th>3</th>\n",
       "      <td>강경루</td>\n",
       "      <td>강경루</td>\n",
       "    </tr>\n",
       "    <tr>\n",
       "      <th>4</th>\n",
       "      <td>강경민</td>\n",
       "      <td>강경민</td>\n",
       "    </tr>\n",
       "  </tbody>\n",
       "</table>\n",
       "</div>"
      ],
      "text/plain": [
       "                이름            이름_자모\n",
       "0  Hoàng Phương Ly  Hoàng Phương Ly\n",
       "1              갈태웅              갈태웅\n",
       "2              강갑생              강갑생\n",
       "3              강경루              강경루\n",
       "4              강경민              강경민"
      ]
     },
     "execution_count": 7,
     "metadata": {},
     "output_type": "execute_result"
    }
   ],
   "source": [
    "target_df.head()"
   ]
  },
  {
   "cell_type": "code",
   "execution_count": 8,
   "id": "359ab460-06cb-4d1c-9d04-4745eb0c8b04",
   "metadata": {},
   "outputs": [],
   "source": [
    "target_df = target_df.rename(columns={\"이름\": \"name\", \"이름_자모\": \"nameJamo\"})"
   ]
  },
  {
   "cell_type": "code",
   "execution_count": 9,
   "id": "0e00c55d-546f-4d31-836e-91aa71f1bdd3",
   "metadata": {},
   "outputs": [
    {
     "data": {
      "text/html": [
       "<div>\n",
       "<style scoped>\n",
       "    .dataframe tbody tr th:only-of-type {\n",
       "        vertical-align: middle;\n",
       "    }\n",
       "\n",
       "    .dataframe tbody tr th {\n",
       "        vertical-align: top;\n",
       "    }\n",
       "\n",
       "    .dataframe thead th {\n",
       "        text-align: right;\n",
       "    }\n",
       "</style>\n",
       "<table border=\"1\" class=\"dataframe\">\n",
       "  <thead>\n",
       "    <tr style=\"text-align: right;\">\n",
       "      <th></th>\n",
       "      <th>name</th>\n",
       "      <th>nameJamo</th>\n",
       "    </tr>\n",
       "  </thead>\n",
       "  <tbody>\n",
       "    <tr>\n",
       "      <th>0</th>\n",
       "      <td>Hoàng Phương Ly</td>\n",
       "      <td>Hoàng Phương Ly</td>\n",
       "    </tr>\n",
       "    <tr>\n",
       "      <th>1</th>\n",
       "      <td>갈태웅</td>\n",
       "      <td>갈태웅</td>\n",
       "    </tr>\n",
       "    <tr>\n",
       "      <th>2</th>\n",
       "      <td>강갑생</td>\n",
       "      <td>강갑생</td>\n",
       "    </tr>\n",
       "    <tr>\n",
       "      <th>3</th>\n",
       "      <td>강경루</td>\n",
       "      <td>강경루</td>\n",
       "    </tr>\n",
       "    <tr>\n",
       "      <th>4</th>\n",
       "      <td>강경민</td>\n",
       "      <td>강경민</td>\n",
       "    </tr>\n",
       "  </tbody>\n",
       "</table>\n",
       "</div>"
      ],
      "text/plain": [
       "              name         nameJamo\n",
       "0  Hoàng Phương Ly  Hoàng Phương Ly\n",
       "1              갈태웅              갈태웅\n",
       "2              강갑생              강갑생\n",
       "3              강경루              강경루\n",
       "4              강경민              강경민"
      ]
     },
     "execution_count": 9,
     "metadata": {},
     "output_type": "execute_result"
    }
   ],
   "source": [
    "target_df.head()"
   ]
  },
  {
   "cell_type": "markdown",
   "id": "87c16ef6-b833-4d3b-a7d6-613575bab0d0",
   "metadata": {},
   "source": [
    "## Bulk"
   ]
  },
  {
   "cell_type": "code",
   "execution_count": 10,
   "id": "3215c216-dd92-4a83-b356-8e9d6f22819d",
   "metadata": {},
   "outputs": [],
   "source": [
    "action_str = {\n",
    "    \"index\": {\n",
    "        \"_index\": target_name\n",
    "    }\n",
    "}\n",
    "\n",
    "action = json.dumps(action_str)"
   ]
  },
  {
   "cell_type": "code",
   "execution_count": 11,
   "id": "2b0ff04a-6c0e-4801-9166-3db15e8f7e8c",
   "metadata": {},
   "outputs": [],
   "source": [
    "bulk_data = \"\"\n",
    "\n",
    "for index, row in target_df.iterrows():\n",
    "    row_bulk = json.dumps(row.dropna().to_dict(), ensure_ascii=False)\n",
    "    bulk_data += f\"{action}\\n{row_bulk}\\n\""
   ]
  },
  {
   "cell_type": "code",
   "execution_count": 13,
   "id": "4f9bc653-f274-4d07-917f-23c5321ab48a",
   "metadata": {},
   "outputs": [],
   "source": [
    "with open(join(bulk_path, f\"{target_name}.json\"), \"w\", encoding=\"utf-8\") as json_file:\n",
    "    json_file.write(bulk_data)"
   ]
  },
  {
   "cell_type": "code",
   "execution_count": null,
   "id": "f358ab3d-05e6-48cf-9857-5cc7a9e72dfb",
   "metadata": {},
   "outputs": [],
   "source": []
  }
 ],
 "metadata": {
  "kernelspec": {
   "display_name": "es-ojt-data",
   "language": "python",
   "name": "es-ojt-data"
  },
  "language_info": {
   "codemirror_mode": {
    "name": "ipython",
    "version": 3
   },
   "file_extension": ".py",
   "mimetype": "text/x-python",
   "name": "python",
   "nbconvert_exporter": "python",
   "pygments_lexer": "ipython3",
   "version": "3.9.5"
  }
 },
 "nbformat": 4,
 "nbformat_minor": 5
}
