{
 "cells": [
  {
   "cell_type": "markdown",
   "id": "dad96df4-ba26-4fbb-808d-7295c67c4680",
   "metadata": {},
   "source": [
    "# Byline 적재"
   ]
  },
  {
   "cell_type": "code",
   "execution_count": 1,
   "id": "e7628e0e-666d-4879-9259-b6457f37a032",
   "metadata": {},
   "outputs": [],
   "source": [
    "from pathlib import Path\n",
    "import os\n",
    "\n",
    "os.chdir(Path(os.getcwd()).parent.parent)"
   ]
  },
  {
   "cell_type": "code",
   "execution_count": 14,
   "id": "3f3f152e-4beb-44ff-895a-c09ca465316c",
   "metadata": {},
   "outputs": [],
   "source": [
    "from os.path import join\n",
    "\n",
    "import json\n",
    "\n",
    "import pandas as pd\n",
    "import numpy as np"
   ]
  },
  {
   "cell_type": "code",
   "execution_count": 15,
   "id": "6d530424-c075-4747-8601-817253885e91",
   "metadata": {},
   "outputs": [],
   "source": [
    "root_path = os.getcwd()\n",
    "data_path = join(os.getcwd(), \"data\")\n",
    "pre_path = join(data_path, \"preprocessing\")\n",
    "bulk_path = join(data_path, \"bulk\")"
   ]
  },
  {
   "cell_type": "markdown",
   "id": "edf57acb-2d59-4efa-84fc-8ac34d6ea590",
   "metadata": {},
   "source": [
    "## Load bylines.csv"
   ]
  },
  {
   "cell_type": "code",
   "execution_count": 16,
   "id": "3857459b-f5c3-451c-a548-170eed85629e",
   "metadata": {},
   "outputs": [],
   "source": [
    "target_name = \"byline\"\n",
    "target_file_name = \"bylines.csv\""
   ]
  },
  {
   "cell_type": "code",
   "execution_count": 17,
   "id": "c1d44737-2ddf-4f34-a329-c1e471693485",
   "metadata": {},
   "outputs": [],
   "source": [
    "target_df = pd.read_csv(join(pre_path, target_file_name))"
   ]
  },
  {
   "cell_type": "code",
   "execution_count": 18,
   "id": "b3dab17e-d62f-4299-a19b-f9e58af79445",
   "metadata": {},
   "outputs": [
    {
     "data": {
      "text/html": [
       "<div>\n",
       "<style scoped>\n",
       "    .dataframe tbody tr th:only-of-type {\n",
       "        vertical-align: middle;\n",
       "    }\n",
       "\n",
       "    .dataframe tbody tr th {\n",
       "        vertical-align: top;\n",
       "    }\n",
       "\n",
       "    .dataframe thead th {\n",
       "        text-align: right;\n",
       "    }\n",
       "</style>\n",
       "<table border=\"1\" class=\"dataframe\">\n",
       "  <thead>\n",
       "    <tr style=\"text-align: right;\">\n",
       "      <th></th>\n",
       "      <th>이름</th>\n",
       "      <th>정규화</th>\n",
       "    </tr>\n",
       "  </thead>\n",
       "  <tbody>\n",
       "    <tr>\n",
       "      <th>0</th>\n",
       "      <td>(中）/[번역]강지혜\\n[번역]강지혜</td>\n",
       "      <td>강지혜</td>\n",
       "    </tr>\n",
       "    <tr>\n",
       "      <th>1</th>\n",
       "      <td>(강원)강대웅·위준휘\\n위준휘</td>\n",
       "      <td>강대웅||위준휘</td>\n",
       "    </tr>\n",
       "    <tr>\n",
       "      <th>2</th>\n",
       "      <td>(경주) 최주호\\n최주호</td>\n",
       "      <td>최주호</td>\n",
       "    </tr>\n",
       "    <tr>\n",
       "      <th>3</th>\n",
       "      <td>(과천) 박재천\\n박재천</td>\n",
       "      <td>박재천</td>\n",
       "    </tr>\n",
       "    <tr>\n",
       "      <th>4</th>\n",
       "      <td>(광주)박승호\\n박승호</td>\n",
       "      <td>박승호</td>\n",
       "    </tr>\n",
       "  </tbody>\n",
       "</table>\n",
       "</div>"
      ],
      "text/plain": [
       "                     이름       정규화\n",
       "0  (中）/[번역]강지혜\\n[번역]강지혜       강지혜\n",
       "1      (강원)강대웅·위준휘\\n위준휘  강대웅||위준휘\n",
       "2         (경주) 최주호\\n최주호       최주호\n",
       "3         (과천) 박재천\\n박재천       박재천\n",
       "4          (광주)박승호\\n박승호       박승호"
      ]
     },
     "execution_count": 18,
     "metadata": {},
     "output_type": "execute_result"
    }
   ],
   "source": [
    "target_df.head()"
   ]
  },
  {
   "cell_type": "code",
   "execution_count": 19,
   "id": "359ab460-06cb-4d1c-9d04-4745eb0c8b04",
   "metadata": {},
   "outputs": [],
   "source": [
    "target_df = target_df.rename(columns={\"이름\": \"origin\", \"정규화\": \"names\"})"
   ]
  },
  {
   "cell_type": "code",
   "execution_count": 20,
   "id": "0e00c55d-546f-4d31-836e-91aa71f1bdd3",
   "metadata": {},
   "outputs": [
    {
     "data": {
      "text/html": [
       "<div>\n",
       "<style scoped>\n",
       "    .dataframe tbody tr th:only-of-type {\n",
       "        vertical-align: middle;\n",
       "    }\n",
       "\n",
       "    .dataframe tbody tr th {\n",
       "        vertical-align: top;\n",
       "    }\n",
       "\n",
       "    .dataframe thead th {\n",
       "        text-align: right;\n",
       "    }\n",
       "</style>\n",
       "<table border=\"1\" class=\"dataframe\">\n",
       "  <thead>\n",
       "    <tr style=\"text-align: right;\">\n",
       "      <th></th>\n",
       "      <th>origin</th>\n",
       "      <th>names</th>\n",
       "    </tr>\n",
       "  </thead>\n",
       "  <tbody>\n",
       "    <tr>\n",
       "      <th>0</th>\n",
       "      <td>(中）/[번역]강지혜\\n[번역]강지혜</td>\n",
       "      <td>강지혜</td>\n",
       "    </tr>\n",
       "    <tr>\n",
       "      <th>1</th>\n",
       "      <td>(강원)강대웅·위준휘\\n위준휘</td>\n",
       "      <td>강대웅||위준휘</td>\n",
       "    </tr>\n",
       "    <tr>\n",
       "      <th>2</th>\n",
       "      <td>(경주) 최주호\\n최주호</td>\n",
       "      <td>최주호</td>\n",
       "    </tr>\n",
       "    <tr>\n",
       "      <th>3</th>\n",
       "      <td>(과천) 박재천\\n박재천</td>\n",
       "      <td>박재천</td>\n",
       "    </tr>\n",
       "    <tr>\n",
       "      <th>4</th>\n",
       "      <td>(광주)박승호\\n박승호</td>\n",
       "      <td>박승호</td>\n",
       "    </tr>\n",
       "  </tbody>\n",
       "</table>\n",
       "</div>"
      ],
      "text/plain": [
       "                 origin     names\n",
       "0  (中）/[번역]강지혜\\n[번역]강지혜       강지혜\n",
       "1      (강원)강대웅·위준휘\\n위준휘  강대웅||위준휘\n",
       "2         (경주) 최주호\\n최주호       최주호\n",
       "3         (과천) 박재천\\n박재천       박재천\n",
       "4          (광주)박승호\\n박승호       박승호"
      ]
     },
     "execution_count": 20,
     "metadata": {},
     "output_type": "execute_result"
    }
   ],
   "source": [
    "target_df.head()"
   ]
  },
  {
   "cell_type": "markdown",
   "id": "87c16ef6-b833-4d3b-a7d6-613575bab0d0",
   "metadata": {},
   "source": [
    "## Bulk"
   ]
  },
  {
   "cell_type": "code",
   "execution_count": 21,
   "id": "3215c216-dd92-4a83-b356-8e9d6f22819d",
   "metadata": {},
   "outputs": [],
   "source": [
    "action_str = {\n",
    "    \"index\": {\n",
    "        \"_index\": target_name\n",
    "    }\n",
    "}\n",
    "\n",
    "action = json.dumps(action_str)"
   ]
  },
  {
   "cell_type": "code",
   "execution_count": 31,
   "id": "18ebf5b7-9a48-4f0e-a489-886142077ad3",
   "metadata": {},
   "outputs": [],
   "source": [
    "def get_row_dict(row):\n",
    "    origin, raw_name = row[\"origin\"], row[\"names\"]\n",
    "\n",
    "    if isinstance(raw_name, float):\n",
    "        return {\"origin\": origin}\n",
    "\n",
    "    names = raw_name.split(\"||\")\n",
    "\n",
    "    if len(names) == 1:\n",
    "        return {\"origin\": origin, \"names\": names[0]}\n",
    "\n",
    "    return {\"origin\": origin, \"names\": names}"
   ]
  },
  {
   "cell_type": "code",
   "execution_count": 32,
   "id": "2b0ff04a-6c0e-4801-9166-3db15e8f7e8c",
   "metadata": {},
   "outputs": [],
   "source": [
    "bulk_data = \"\"\n",
    "\n",
    "count = 0\n",
    "for index, row in target_df.iterrows():\n",
    "    row_dict = get_row_dict(row)\n",
    "    row_bulk = json.dumps(row_dict, ensure_ascii=False)\n",
    "    bulk_data += f\"{action}\\n{row_bulk}\\n\""
   ]
  },
  {
   "cell_type": "code",
   "execution_count": 33,
   "id": "4f9bc653-f274-4d07-917f-23c5321ab48a",
   "metadata": {},
   "outputs": [],
   "source": [
    "with open(join(bulk_path, f\"{target_name}.json\"), \"w\", encoding=\"utf-8\") as json_file:\n",
    "    json_file.write(bulk_data)"
   ]
  },
  {
   "cell_type": "code",
   "execution_count": null,
   "id": "f358ab3d-05e6-48cf-9857-5cc7a9e72dfb",
   "metadata": {},
   "outputs": [],
   "source": []
  }
 ],
 "metadata": {
  "kernelspec": {
   "display_name": "es-ojt",
   "language": "python",
   "name": ".venv"
  },
  "language_info": {
   "codemirror_mode": {
    "name": "ipython",
    "version": 3
   },
   "file_extension": ".py",
   "mimetype": "text/x-python",
   "name": "python",
   "nbconvert_exporter": "python",
   "pygments_lexer": "ipython3",
   "version": "3.9.5"
  }
 },
 "nbformat": 4,
 "nbformat_minor": 5
}
