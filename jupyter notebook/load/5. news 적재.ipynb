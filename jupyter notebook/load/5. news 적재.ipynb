{
 "cells": [
  {
   "cell_type": "markdown",
   "id": "dad96df4-ba26-4fbb-808d-7295c67c4680",
   "metadata": {},
   "source": [
    "# News적재"
   ]
  },
  {
   "cell_type": "code",
   "execution_count": 3,
   "id": "e7628e0e-666d-4879-9259-b6457f37a032",
   "metadata": {},
   "outputs": [],
   "source": [
    "from pathlib import Path\n",
    "import os\n",
    "\n",
    "os.chdir(Path(os.getcwd()).parent.parent)"
   ]
  },
  {
   "cell_type": "code",
   "execution_count": 4,
   "id": "3f3f152e-4beb-44ff-895a-c09ca465316c",
   "metadata": {},
   "outputs": [],
   "source": [
    "from os.path import join\n",
    "\n",
    "import json\n",
    "import ast\n",
    "\n",
    "import pandas as pd\n",
    "import numpy as np"
   ]
  },
  {
   "cell_type": "code",
   "execution_count": 5,
   "id": "6d530424-c075-4747-8601-817253885e91",
   "metadata": {},
   "outputs": [],
   "source": [
    "root_path = os.getcwd()\n",
    "data_path = join(os.getcwd(), \"data\")\n",
    "raw_path = join(data_path, \"raw\")\n",
    "pre_path = join(data_path, \"preprocessing\")\n",
    "bulk_path = join(data_path, \"bulk\")"
   ]
  },
  {
   "cell_type": "markdown",
   "id": "edf57acb-2d59-4efa-84fc-8ac34d6ea590",
   "metadata": {},
   "source": [
    "## Load news_data_20000.csv"
   ]
  },
  {
   "cell_type": "code",
   "execution_count": 6,
   "id": "3857459b-f5c3-451c-a548-170eed85629e",
   "metadata": {},
   "outputs": [],
   "source": [
    "target_name = \"news\"\n",
    "target_file_name = \"news_data_20000.csv\""
   ]
  },
  {
   "cell_type": "code",
   "execution_count": 7,
   "id": "c1d44737-2ddf-4f34-a329-c1e471693485",
   "metadata": {},
   "outputs": [],
   "source": [
    "target_df = pd.read_csv(join(raw_path, target_file_name))"
   ]
  },
  {
   "cell_type": "code",
   "execution_count": 8,
   "id": "b3dab17e-d62f-4299-a19b-f9e58af79445",
   "metadata": {},
   "outputs": [
    {
     "data": {
      "text/html": [
       "<div>\n",
       "<style scoped>\n",
       "    .dataframe tbody tr th:only-of-type {\n",
       "        vertical-align: middle;\n",
       "    }\n",
       "\n",
       "    .dataframe tbody tr th {\n",
       "        vertical-align: top;\n",
       "    }\n",
       "\n",
       "    .dataframe thead th {\n",
       "        text-align: right;\n",
       "    }\n",
       "</style>\n",
       "<table border=\"1\" class=\"dataframe\">\n",
       "  <thead>\n",
       "    <tr style=\"text-align: right;\">\n",
       "      <th></th>\n",
       "      <th>id</th>\n",
       "      <th>title</th>\n",
       "      <th>content</th>\n",
       "      <th>provider</th>\n",
       "      <th>category</th>\n",
       "      <th>byline</th>\n",
       "      <th>dateline</th>\n",
       "    </tr>\n",
       "  </thead>\n",
       "  <tbody>\n",
       "    <tr>\n",
       "      <th>0</th>\n",
       "      <td>63792442</td>\n",
       "      <td>안산시, 생활임금 시급 1만500원 의결</td>\n",
       "      <td>[헤럴드경제(안산)=박정규 기자]안산시(시장 윤화섭) 생활임금위원회는 2022년 생...</td>\n",
       "      <td>헤럴드경제</td>\n",
       "      <td>['사회&gt;노동_복지', '경제&gt;자동차', '경제&gt;취업_창업']</td>\n",
       "      <td>박정규 기자</td>\n",
       "      <td>2021-09-09T07:44:33.000Z</td>\n",
       "    </tr>\n",
       "    <tr>\n",
       "      <th>1</th>\n",
       "      <td>62993103</td>\n",
       "      <td>울산 하이본 병원, 6월부터 본격 진료 \"척추와 관절 분야 전문\"</td>\n",
       "      <td>척추와 관절 분야 전문인 울산 하이본 병원이 6월부터 본격 진료를 시작했다. \\n\\...</td>\n",
       "      <td>울산매일</td>\n",
       "      <td>['사회&gt;의료_건강', '지역&gt;울산', '지역&gt;강원']</td>\n",
       "      <td>.</td>\n",
       "      <td>2021-08-05T07:49:07.000Z</td>\n",
       "    </tr>\n",
       "    <tr>\n",
       "      <th>2</th>\n",
       "      <td>63800371</td>\n",
       "      <td>금융권 최초 공동 정보지갑서비스 출시…1호 증명서는 '뱅크아이디'</td>\n",
       "      <td>[아시아경제 송승섭 기자]금융분산ID 추진 협의회는 국내 최초 정보지갑인 마이인포에...</td>\n",
       "      <td>아시아경제</td>\n",
       "      <td>['IT_과학&gt;보안', 'IT_과학&gt;모바일', '경제&gt;금융_재테크']</td>\n",
       "      <td>송승섭</td>\n",
       "      <td>2021-09-01T01:34:48.000Z</td>\n",
       "    </tr>\n",
       "    <tr>\n",
       "      <th>3</th>\n",
       "      <td>62398473</td>\n",
       "      <td>“총장 후보자 수사심의위 신청은 모순” “정치적 수단 전락”</td>\n",
       "      <td>서울 서초구 대검찰청 검찰기. 연합뉴스 “정치적 중립성을 지키고 수사 결정 전 과정...</td>\n",
       "      <td>세계일보</td>\n",
       "      <td>['사회&gt;사건_사고', '사회&gt;미디어']</td>\n",
       "      <td>이창훈</td>\n",
       "      <td>2021-04-25T10:18:14.000Z</td>\n",
       "    </tr>\n",
       "    <tr>\n",
       "      <th>4</th>\n",
       "      <td>63350588</td>\n",
       "      <td>[인사]현대해상</td>\n",
       "      <td>◆현대해상 ◇임원 전보 △리스크관리본부장 홍사경 △고객지원본부장 황미은 △CCO 윤...</td>\n",
       "      <td>전자신문</td>\n",
       "      <td>['경제&gt;금융_재테크', '경제&gt;자동차']</td>\n",
       "      <td>김현민</td>\n",
       "      <td>2021-07-01T00:40:53.000Z</td>\n",
       "    </tr>\n",
       "  </tbody>\n",
       "</table>\n",
       "</div>"
      ],
      "text/plain": [
       "         id                                 title  \\\n",
       "0  63792442                안산시, 생활임금 시급 1만500원 의결   \n",
       "1  62993103  울산 하이본 병원, 6월부터 본격 진료 \"척추와 관절 분야 전문\"   \n",
       "2  63800371  금융권 최초 공동 정보지갑서비스 출시…1호 증명서는 '뱅크아이디'   \n",
       "3  62398473     “총장 후보자 수사심의위 신청은 모순” “정치적 수단 전락”   \n",
       "4  63350588                              [인사]현대해상   \n",
       "\n",
       "                                             content provider  \\\n",
       "0  [헤럴드경제(안산)=박정규 기자]안산시(시장 윤화섭) 생활임금위원회는 2022년 생...    헤럴드경제   \n",
       "1  척추와 관절 분야 전문인 울산 하이본 병원이 6월부터 본격 진료를 시작했다. \\n\\...     울산매일   \n",
       "2  [아시아경제 송승섭 기자]금융분산ID 추진 협의회는 국내 최초 정보지갑인 마이인포에...    아시아경제   \n",
       "3  서울 서초구 대검찰청 검찰기. 연합뉴스 “정치적 중립성을 지키고 수사 결정 전 과정...     세계일보   \n",
       "4  ◆현대해상 ◇임원 전보 △리스크관리본부장 홍사경 △고객지원본부장 황미은 △CCO 윤...     전자신문   \n",
       "\n",
       "                                 category  byline                  dateline  \n",
       "0      ['사회>노동_복지', '경제>자동차', '경제>취업_창업']  박정규 기자  2021-09-09T07:44:33.000Z  \n",
       "1          ['사회>의료_건강', '지역>울산', '지역>강원']       .  2021-08-05T07:49:07.000Z  \n",
       "2  ['IT_과학>보안', 'IT_과학>모바일', '경제>금융_재테크']     송승섭  2021-09-01T01:34:48.000Z  \n",
       "3                  ['사회>사건_사고', '사회>미디어']     이창훈  2021-04-25T10:18:14.000Z  \n",
       "4                 ['경제>금융_재테크', '경제>자동차']     김현민  2021-07-01T00:40:53.000Z  "
      ]
     },
     "execution_count": 8,
     "metadata": {},
     "output_type": "execute_result"
    }
   ],
   "source": [
    "target_df.head()"
   ]
  },
  {
   "cell_type": "code",
   "execution_count": 9,
   "id": "6e681eb0-d98c-4635-8d00-55ba14ae2e2f",
   "metadata": {},
   "outputs": [
    {
     "data": {
      "text/plain": [
       "id           int64\n",
       "title       object\n",
       "content     object\n",
       "provider    object\n",
       "category    object\n",
       "byline      object\n",
       "dateline    object\n",
       "dtype: object"
      ]
     },
     "execution_count": 9,
     "metadata": {},
     "output_type": "execute_result"
    }
   ],
   "source": [
    "target_df.dtypes"
   ]
  },
  {
   "cell_type": "markdown",
   "id": "0c1f644e-8aa5-4210-b920-9cad1677e6ab",
   "metadata": {},
   "source": [
    "## 데이터 변환\n",
    "- provider\n",
    "- category\n",
    "- byline\n",
    "- dateline"
   ]
  },
  {
   "cell_type": "markdown",
   "id": "866a0e2e-f305-441a-923e-3bb63a512702",
   "metadata": {},
   "source": [
    "### provider"
   ]
  },
  {
   "cell_type": "code",
   "execution_count": 57,
   "id": "93ea7691-bcfe-4904-812d-0413e241cc29",
   "metadata": {},
   "outputs": [],
   "source": [
    "provider_df = pd.read_csv(join(pre_path, \"providers.csv\"))\n",
    "provider_df = provider_df.rename(columns={\"이름\": \"name\", \"분류\": \"type\", \"지역\": \"location\"})"
   ]
  },
  {
   "cell_type": "code",
   "execution_count": 58,
   "id": "0dac510f-23aa-46c7-b6aa-c8cd9bab57af",
   "metadata": {},
   "outputs": [
    {
     "data": {
      "text/html": [
       "<div>\n",
       "<style scoped>\n",
       "    .dataframe tbody tr th:only-of-type {\n",
       "        vertical-align: middle;\n",
       "    }\n",
       "\n",
       "    .dataframe tbody tr th {\n",
       "        vertical-align: top;\n",
       "    }\n",
       "\n",
       "    .dataframe thead th {\n",
       "        text-align: right;\n",
       "    }\n",
       "</style>\n",
       "<table border=\"1\" class=\"dataframe\">\n",
       "  <thead>\n",
       "    <tr style=\"text-align: right;\">\n",
       "      <th></th>\n",
       "      <th>name</th>\n",
       "      <th>type</th>\n",
       "      <th>location</th>\n",
       "    </tr>\n",
       "  </thead>\n",
       "  <tbody>\n",
       "    <tr>\n",
       "      <th>0</th>\n",
       "      <td>헤럴드경제</td>\n",
       "      <td>경제/IT</td>\n",
       "      <td>NaN</td>\n",
       "    </tr>\n",
       "    <tr>\n",
       "      <th>1</th>\n",
       "      <td>아시아경제</td>\n",
       "      <td>경제/IT</td>\n",
       "      <td>NaN</td>\n",
       "    </tr>\n",
       "    <tr>\n",
       "      <th>2</th>\n",
       "      <td>세계일보</td>\n",
       "      <td>일간지</td>\n",
       "      <td>NaN</td>\n",
       "    </tr>\n",
       "    <tr>\n",
       "      <th>3</th>\n",
       "      <td>전자신문</td>\n",
       "      <td>경제/IT</td>\n",
       "      <td>NaN</td>\n",
       "    </tr>\n",
       "    <tr>\n",
       "      <th>4</th>\n",
       "      <td>부산일보</td>\n",
       "      <td>지역지</td>\n",
       "      <td>부산</td>\n",
       "    </tr>\n",
       "  </tbody>\n",
       "</table>\n",
       "</div>"
      ],
      "text/plain": [
       "    name   type location\n",
       "0  헤럴드경제  경제/IT      NaN\n",
       "1  아시아경제  경제/IT      NaN\n",
       "2   세계일보    일간지      NaN\n",
       "3   전자신문  경제/IT      NaN\n",
       "4   부산일보    지역지       부산"
      ]
     },
     "execution_count": 58,
     "metadata": {},
     "output_type": "execute_result"
    }
   ],
   "source": [
    "provider_df.head()"
   ]
  },
  {
   "cell_type": "code",
   "execution_count": 75,
   "id": "44f33f08-f981-4027-8e1d-ab280911103d",
   "metadata": {},
   "outputs": [],
   "source": [
    "def get_provider_dict(provider: str) -> dict:\n",
    "    provider_row = provider_df.loc[provider_df[\"name\"] == provider].dropna(axis=1)\n",
    "    provider_row = provider_row.loc[provider_row.index[0], :]\n",
    "    return provider_row.to_dict()"
   ]
  },
  {
   "cell_type": "code",
   "execution_count": 60,
   "id": "e63f5394-9a7e-4e32-b36d-9685bef70f06",
   "metadata": {},
   "outputs": [
    {
     "data": {
      "text/plain": [
       "{'name': '헤럴드경제', 'type': '경제/IT'}"
      ]
     },
     "execution_count": 60,
     "metadata": {},
     "output_type": "execute_result"
    }
   ],
   "source": [
    "test_provider = \"헤럴드경제\"\n",
    "get_provider_dict(test_provider)"
   ]
  },
  {
   "cell_type": "markdown",
   "id": "774cbc5b-a51f-4bdd-825a-150573d984e8",
   "metadata": {},
   "source": [
    "### category"
   ]
  },
  {
   "cell_type": "code",
   "execution_count": 82,
   "id": "87825587-a4cb-43ef-9ce0-e8f29da73470",
   "metadata": {},
   "outputs": [],
   "source": [
    "def get_category_dict(category: str) -> list:\n",
    "    category_list = []\n",
    "    for elem in ast.literal_eval(category):\n",
    "        splits = elem.split(\">\")\n",
    "        category_list.append({\"major\": splits[0], \"minor\": splits[1]})\n",
    "\n",
    "    return category_list"
   ]
  },
  {
   "cell_type": "code",
   "execution_count": 83,
   "id": "7a4fbdeb-2ef1-4ea1-b0d2-c3cb228a2cb2",
   "metadata": {},
   "outputs": [
    {
     "data": {
      "text/plain": [
       "[{'major': '사회', 'minor': '노동_복지'},\n",
       " {'major': '경제', 'minor': '자동차'},\n",
       " {'major': '경제', 'minor': '취업_창업'}]"
      ]
     },
     "execution_count": 83,
     "metadata": {},
     "output_type": "execute_result"
    }
   ],
   "source": [
    "category = \"['사회>노동_복지', '경제>자동차', '경제>취업_창업']\"\n",
    "get_category_dict(category)"
   ]
  },
  {
   "cell_type": "markdown",
   "id": "1872e58b-8518-4ef6-a443-f98b4bd226f8",
   "metadata": {},
   "source": [
    "### byline"
   ]
  },
  {
   "cell_type": "markdown",
   "id": "8330bd48-ae8d-49e0-a574-a262b3bace7e",
   "metadata": {},
   "source": [
    "\"이름\" 탭에서 읽어와서 \"정규화\" 탭에 있는 이름으로 매핑\n",
    "\n",
    "1. 이름 없는 경우 -> isinstance(name, float)\n",
    "2. 이름 하나인 경우 -> len(split_names) == 1, split_names[0]\n",
    "3. 이름 여러 개인 경우 -> split_names"
   ]
  },
  {
   "cell_type": "code",
   "execution_count": 10,
   "id": "1b3e36d1-10a5-4849-90d7-804fa3a6e8bd",
   "metadata": {},
   "outputs": [],
   "source": [
    "byline_df = pd.read_csv(join(pre_path, \"bylines.csv\"))"
   ]
  },
  {
   "cell_type": "code",
   "execution_count": 11,
   "id": "4e87a9ee-c31e-4f5b-8552-e4eb3ae5e5fe",
   "metadata": {},
   "outputs": [
    {
     "data": {
      "text/html": [
       "<div>\n",
       "<style scoped>\n",
       "    .dataframe tbody tr th:only-of-type {\n",
       "        vertical-align: middle;\n",
       "    }\n",
       "\n",
       "    .dataframe tbody tr th {\n",
       "        vertical-align: top;\n",
       "    }\n",
       "\n",
       "    .dataframe thead th {\n",
       "        text-align: right;\n",
       "    }\n",
       "</style>\n",
       "<table border=\"1\" class=\"dataframe\">\n",
       "  <thead>\n",
       "    <tr style=\"text-align: right;\">\n",
       "      <th></th>\n",
       "      <th>이름</th>\n",
       "      <th>정규화</th>\n",
       "    </tr>\n",
       "  </thead>\n",
       "  <tbody>\n",
       "    <tr>\n",
       "      <th>0</th>\n",
       "      <td>(中）/[번역]강지혜\\n[번역]강지혜</td>\n",
       "      <td>강지혜</td>\n",
       "    </tr>\n",
       "    <tr>\n",
       "      <th>1</th>\n",
       "      <td>(강원)강대웅·위준휘\\n위준휘</td>\n",
       "      <td>강대웅||위준휘</td>\n",
       "    </tr>\n",
       "    <tr>\n",
       "      <th>2</th>\n",
       "      <td>(경주) 최주호\\n최주호</td>\n",
       "      <td>최주호</td>\n",
       "    </tr>\n",
       "    <tr>\n",
       "      <th>3</th>\n",
       "      <td>(과천) 박재천\\n박재천</td>\n",
       "      <td>박재천</td>\n",
       "    </tr>\n",
       "    <tr>\n",
       "      <th>4</th>\n",
       "      <td>(광주)박승호\\n박승호</td>\n",
       "      <td>박승호</td>\n",
       "    </tr>\n",
       "  </tbody>\n",
       "</table>\n",
       "</div>"
      ],
      "text/plain": [
       "                     이름       정규화\n",
       "0  (中）/[번역]강지혜\\n[번역]강지혜       강지혜\n",
       "1      (강원)강대웅·위준휘\\n위준휘  강대웅||위준휘\n",
       "2         (경주) 최주호\\n최주호       최주호\n",
       "3         (과천) 박재천\\n박재천       박재천\n",
       "4          (광주)박승호\\n박승호       박승호"
      ]
     },
     "execution_count": 11,
     "metadata": {},
     "output_type": "execute_result"
    }
   ],
   "source": [
    "byline_df.head()"
   ]
  },
  {
   "cell_type": "code",
   "execution_count": 95,
   "id": "4ce898fa-69e3-4900-9ecf-1182c2347d14",
   "metadata": {},
   "outputs": [],
   "source": [
    "def get_reporter_dict(byline):\n",
    "    if isinstance(byline, float):\n",
    "        return None\n",
    "    \n",
    "    name = byline_df.loc[byline_df[\"이름\"] == byline][\"정규화\"].values[0]\n",
    "    \n",
    "    if isinstance(name, float):\n",
    "        return None\n",
    "\n",
    "    split_names = name.split(\"||\")\n",
    "    \n",
    "    if len(split_names) == 1:\n",
    "        return split_names[0]\n",
    "    \n",
    "    return split_names"
   ]
  },
  {
   "cell_type": "code",
   "execution_count": 38,
   "id": "59f3a269-b13c-49eb-b868-4739d2536b56",
   "metadata": {},
   "outputs": [
    {
     "data": {
      "text/plain": [
       "['강대웅', '위준휘']"
      ]
     },
     "execution_count": 38,
     "metadata": {},
     "output_type": "execute_result"
    }
   ],
   "source": [
    "byline = \"(강원)강대웅·위준휘\\n위준휘\"\n",
    "get_reporter_dict(byline)"
   ]
  },
  {
   "cell_type": "code",
   "execution_count": 40,
   "id": "53a7eb65-51e2-4729-8f28-1e31618cb747",
   "metadata": {},
   "outputs": [
    {
     "data": {
      "text/plain": [
       "NoneType"
      ]
     },
     "execution_count": 40,
     "metadata": {},
     "output_type": "execute_result"
    }
   ],
   "source": [
    "byline = \"NEWSFLOW;\"\n",
    "reporter = get_reporter_dict(byline)\n",
    "type(reporter)"
   ]
  },
  {
   "cell_type": "markdown",
   "id": "bb9cd1e4-3009-434e-87b9-66f4b985b2e4",
   "metadata": {},
   "source": [
    "### dateline"
   ]
  },
  {
   "cell_type": "code",
   "execution_count": 42,
   "id": "126e7e27-d276-4f4c-8d0d-990c6b19cfb3",
   "metadata": {},
   "outputs": [],
   "source": [
    "datelines = target_df[\"dateline\"]"
   ]
  },
  {
   "cell_type": "code",
   "execution_count": 43,
   "id": "d9efcdfe-6a3c-4e27-84a7-227cb79fa152",
   "metadata": {},
   "outputs": [
    {
     "data": {
      "text/plain": [
       "0"
      ]
     },
     "execution_count": 43,
     "metadata": {},
     "output_type": "execute_result"
    }
   ],
   "source": [
    "nan_cnt = 0\n",
    "\n",
    "for index, value in datelines.items():\n",
    "    if value == np.nan:\n",
    "        nan_cnt += 1\n",
    "\n",
    "nan_cnt"
   ]
  },
  {
   "cell_type": "code",
   "execution_count": 47,
   "id": "a2b6c2d7-c9b2-486f-b4af-4e87ca815736",
   "metadata": {},
   "outputs": [
    {
     "data": {
      "text/plain": [
       "'2021-09-09T07:44:33.000Z'"
      ]
     },
     "execution_count": 47,
     "metadata": {},
     "output_type": "execute_result"
    }
   ],
   "source": [
    "sample = datelines.values[0]\n",
    "sample"
   ]
  },
  {
   "cell_type": "markdown",
   "id": "76a9f8e7-2b04-41fb-ae3f-a9d87563e817",
   "metadata": {},
   "source": [
    "## bulk_df"
   ]
  },
  {
   "cell_type": "code",
   "execution_count": 52,
   "id": "05f0db43-c43c-4b79-bb3d-56e0cf7a9147",
   "metadata": {},
   "outputs": [],
   "source": [
    "columns = [\"id\", \"title\", \"content\", \"provider\", \"category\", \"reporter\", \"dateline\"]\n",
    "bulk_df = pd.DataFrame(columns=columns)"
   ]
  },
  {
   "cell_type": "code",
   "execution_count": 53,
   "id": "e15419c1-9e7d-48b9-be8f-6a4602532141",
   "metadata": {},
   "outputs": [
    {
     "data": {
      "text/plain": [
       "(20000, 7)"
      ]
     },
     "execution_count": 53,
     "metadata": {},
     "output_type": "execute_result"
    }
   ],
   "source": [
    "copy_columns = [\"id\", \"title\", \"content\", \"dateline\"]\n",
    "\n",
    "for column in copy_columns:\n",
    "    bulk_df[column] = target_df[column]\n",
    "\n",
    "bulk_df.shape"
   ]
  },
  {
   "cell_type": "code",
   "execution_count": 54,
   "id": "d4ec7d4b-17b6-460e-a998-0b765fdbe40f",
   "metadata": {},
   "outputs": [
    {
     "data": {
      "text/html": [
       "<div>\n",
       "<style scoped>\n",
       "    .dataframe tbody tr th:only-of-type {\n",
       "        vertical-align: middle;\n",
       "    }\n",
       "\n",
       "    .dataframe tbody tr th {\n",
       "        vertical-align: top;\n",
       "    }\n",
       "\n",
       "    .dataframe thead th {\n",
       "        text-align: right;\n",
       "    }\n",
       "</style>\n",
       "<table border=\"1\" class=\"dataframe\">\n",
       "  <thead>\n",
       "    <tr style=\"text-align: right;\">\n",
       "      <th></th>\n",
       "      <th>id</th>\n",
       "      <th>title</th>\n",
       "      <th>content</th>\n",
       "      <th>provider</th>\n",
       "      <th>category</th>\n",
       "      <th>reporter</th>\n",
       "      <th>dateline</th>\n",
       "    </tr>\n",
       "  </thead>\n",
       "  <tbody>\n",
       "    <tr>\n",
       "      <th>0</th>\n",
       "      <td>63792442</td>\n",
       "      <td>안산시, 생활임금 시급 1만500원 의결</td>\n",
       "      <td>[헤럴드경제(안산)=박정규 기자]안산시(시장 윤화섭) 생활임금위원회는 2022년 생...</td>\n",
       "      <td>NaN</td>\n",
       "      <td>NaN</td>\n",
       "      <td>NaN</td>\n",
       "      <td>2021-09-09T07:44:33.000Z</td>\n",
       "    </tr>\n",
       "    <tr>\n",
       "      <th>1</th>\n",
       "      <td>62993103</td>\n",
       "      <td>울산 하이본 병원, 6월부터 본격 진료 \"척추와 관절 분야 전문\"</td>\n",
       "      <td>척추와 관절 분야 전문인 울산 하이본 병원이 6월부터 본격 진료를 시작했다. \\n\\...</td>\n",
       "      <td>NaN</td>\n",
       "      <td>NaN</td>\n",
       "      <td>NaN</td>\n",
       "      <td>2021-08-05T07:49:07.000Z</td>\n",
       "    </tr>\n",
       "    <tr>\n",
       "      <th>2</th>\n",
       "      <td>63800371</td>\n",
       "      <td>금융권 최초 공동 정보지갑서비스 출시…1호 증명서는 '뱅크아이디'</td>\n",
       "      <td>[아시아경제 송승섭 기자]금융분산ID 추진 협의회는 국내 최초 정보지갑인 마이인포에...</td>\n",
       "      <td>NaN</td>\n",
       "      <td>NaN</td>\n",
       "      <td>NaN</td>\n",
       "      <td>2021-09-01T01:34:48.000Z</td>\n",
       "    </tr>\n",
       "    <tr>\n",
       "      <th>3</th>\n",
       "      <td>62398473</td>\n",
       "      <td>“총장 후보자 수사심의위 신청은 모순” “정치적 수단 전락”</td>\n",
       "      <td>서울 서초구 대검찰청 검찰기. 연합뉴스 “정치적 중립성을 지키고 수사 결정 전 과정...</td>\n",
       "      <td>NaN</td>\n",
       "      <td>NaN</td>\n",
       "      <td>NaN</td>\n",
       "      <td>2021-04-25T10:18:14.000Z</td>\n",
       "    </tr>\n",
       "    <tr>\n",
       "      <th>4</th>\n",
       "      <td>63350588</td>\n",
       "      <td>[인사]현대해상</td>\n",
       "      <td>◆현대해상 ◇임원 전보 △리스크관리본부장 홍사경 △고객지원본부장 황미은 △CCO 윤...</td>\n",
       "      <td>NaN</td>\n",
       "      <td>NaN</td>\n",
       "      <td>NaN</td>\n",
       "      <td>2021-07-01T00:40:53.000Z</td>\n",
       "    </tr>\n",
       "  </tbody>\n",
       "</table>\n",
       "</div>"
      ],
      "text/plain": [
       "         id                                 title  \\\n",
       "0  63792442                안산시, 생활임금 시급 1만500원 의결   \n",
       "1  62993103  울산 하이본 병원, 6월부터 본격 진료 \"척추와 관절 분야 전문\"   \n",
       "2  63800371  금융권 최초 공동 정보지갑서비스 출시…1호 증명서는 '뱅크아이디'   \n",
       "3  62398473     “총장 후보자 수사심의위 신청은 모순” “정치적 수단 전락”   \n",
       "4  63350588                              [인사]현대해상   \n",
       "\n",
       "                                             content provider category  \\\n",
       "0  [헤럴드경제(안산)=박정규 기자]안산시(시장 윤화섭) 생활임금위원회는 2022년 생...      NaN      NaN   \n",
       "1  척추와 관절 분야 전문인 울산 하이본 병원이 6월부터 본격 진료를 시작했다. \\n\\...      NaN      NaN   \n",
       "2  [아시아경제 송승섭 기자]금융분산ID 추진 협의회는 국내 최초 정보지갑인 마이인포에...      NaN      NaN   \n",
       "3  서울 서초구 대검찰청 검찰기. 연합뉴스 “정치적 중립성을 지키고 수사 결정 전 과정...      NaN      NaN   \n",
       "4  ◆현대해상 ◇임원 전보 △리스크관리본부장 홍사경 △고객지원본부장 황미은 △CCO 윤...      NaN      NaN   \n",
       "\n",
       "  reporter                  dateline  \n",
       "0      NaN  2021-09-09T07:44:33.000Z  \n",
       "1      NaN  2021-08-05T07:49:07.000Z  \n",
       "2      NaN  2021-09-01T01:34:48.000Z  \n",
       "3      NaN  2021-04-25T10:18:14.000Z  \n",
       "4      NaN  2021-07-01T00:40:53.000Z  "
      ]
     },
     "execution_count": 54,
     "metadata": {},
     "output_type": "execute_result"
    }
   ],
   "source": [
    "bulk_df.head()"
   ]
  },
  {
   "cell_type": "markdown",
   "id": "1f06ee80-7a8b-4126-abb6-a9efbb0ff831",
   "metadata": {},
   "source": [
    "### provider"
   ]
  },
  {
   "cell_type": "code",
   "execution_count": 76,
   "id": "86629926-c246-4783-9f71-b2e32c94b701",
   "metadata": {},
   "outputs": [],
   "source": [
    "provider_dicts = []\n",
    "for index, value in target_df[\"provider\"].items():\n",
    "    provider_dicts.append(get_provider_dict(value))"
   ]
  },
  {
   "cell_type": "code",
   "execution_count": 77,
   "id": "cdddc026-4d04-46b3-aa8d-a819d8334e78",
   "metadata": {},
   "outputs": [],
   "source": [
    "bulk_df[\"provider\"] = provider_dicts"
   ]
  },
  {
   "cell_type": "code",
   "execution_count": 78,
   "id": "7d667e09-9c54-4425-9a6a-8bfec07a2999",
   "metadata": {},
   "outputs": [
    {
     "data": {
      "text/html": [
       "<div>\n",
       "<style scoped>\n",
       "    .dataframe tbody tr th:only-of-type {\n",
       "        vertical-align: middle;\n",
       "    }\n",
       "\n",
       "    .dataframe tbody tr th {\n",
       "        vertical-align: top;\n",
       "    }\n",
       "\n",
       "    .dataframe thead th {\n",
       "        text-align: right;\n",
       "    }\n",
       "</style>\n",
       "<table border=\"1\" class=\"dataframe\">\n",
       "  <thead>\n",
       "    <tr style=\"text-align: right;\">\n",
       "      <th></th>\n",
       "      <th>id</th>\n",
       "      <th>title</th>\n",
       "      <th>content</th>\n",
       "      <th>provider</th>\n",
       "      <th>category</th>\n",
       "      <th>reporter</th>\n",
       "      <th>dateline</th>\n",
       "    </tr>\n",
       "  </thead>\n",
       "  <tbody>\n",
       "    <tr>\n",
       "      <th>0</th>\n",
       "      <td>63792442</td>\n",
       "      <td>안산시, 생활임금 시급 1만500원 의결</td>\n",
       "      <td>[헤럴드경제(안산)=박정규 기자]안산시(시장 윤화섭) 생활임금위원회는 2022년 생...</td>\n",
       "      <td>{'name': '헤럴드경제', 'type': '경제/IT'}</td>\n",
       "      <td>NaN</td>\n",
       "      <td>NaN</td>\n",
       "      <td>2021-09-09T07:44:33.000Z</td>\n",
       "    </tr>\n",
       "    <tr>\n",
       "      <th>1</th>\n",
       "      <td>62993103</td>\n",
       "      <td>울산 하이본 병원, 6월부터 본격 진료 \"척추와 관절 분야 전문\"</td>\n",
       "      <td>척추와 관절 분야 전문인 울산 하이본 병원이 6월부터 본격 진료를 시작했다. \\n\\...</td>\n",
       "      <td>{'name': '울산매일', 'type': '지역지', 'location': '울산'}</td>\n",
       "      <td>NaN</td>\n",
       "      <td>NaN</td>\n",
       "      <td>2021-08-05T07:49:07.000Z</td>\n",
       "    </tr>\n",
       "    <tr>\n",
       "      <th>2</th>\n",
       "      <td>63800371</td>\n",
       "      <td>금융권 최초 공동 정보지갑서비스 출시…1호 증명서는 '뱅크아이디'</td>\n",
       "      <td>[아시아경제 송승섭 기자]금융분산ID 추진 협의회는 국내 최초 정보지갑인 마이인포에...</td>\n",
       "      <td>{'name': '아시아경제', 'type': '경제/IT'}</td>\n",
       "      <td>NaN</td>\n",
       "      <td>NaN</td>\n",
       "      <td>2021-09-01T01:34:48.000Z</td>\n",
       "    </tr>\n",
       "    <tr>\n",
       "      <th>3</th>\n",
       "      <td>62398473</td>\n",
       "      <td>“총장 후보자 수사심의위 신청은 모순” “정치적 수단 전락”</td>\n",
       "      <td>서울 서초구 대검찰청 검찰기. 연합뉴스 “정치적 중립성을 지키고 수사 결정 전 과정...</td>\n",
       "      <td>{'name': '세계일보', 'type': '일간지'}</td>\n",
       "      <td>NaN</td>\n",
       "      <td>NaN</td>\n",
       "      <td>2021-04-25T10:18:14.000Z</td>\n",
       "    </tr>\n",
       "    <tr>\n",
       "      <th>4</th>\n",
       "      <td>63350588</td>\n",
       "      <td>[인사]현대해상</td>\n",
       "      <td>◆현대해상 ◇임원 전보 △리스크관리본부장 홍사경 △고객지원본부장 황미은 △CCO 윤...</td>\n",
       "      <td>{'name': '전자신문', 'type': '경제/IT'}</td>\n",
       "      <td>NaN</td>\n",
       "      <td>NaN</td>\n",
       "      <td>2021-07-01T00:40:53.000Z</td>\n",
       "    </tr>\n",
       "  </tbody>\n",
       "</table>\n",
       "</div>"
      ],
      "text/plain": [
       "         id                                 title  \\\n",
       "0  63792442                안산시, 생활임금 시급 1만500원 의결   \n",
       "1  62993103  울산 하이본 병원, 6월부터 본격 진료 \"척추와 관절 분야 전문\"   \n",
       "2  63800371  금융권 최초 공동 정보지갑서비스 출시…1호 증명서는 '뱅크아이디'   \n",
       "3  62398473     “총장 후보자 수사심의위 신청은 모순” “정치적 수단 전락”   \n",
       "4  63350588                              [인사]현대해상   \n",
       "\n",
       "                                             content  \\\n",
       "0  [헤럴드경제(안산)=박정규 기자]안산시(시장 윤화섭) 생활임금위원회는 2022년 생...   \n",
       "1  척추와 관절 분야 전문인 울산 하이본 병원이 6월부터 본격 진료를 시작했다. \\n\\...   \n",
       "2  [아시아경제 송승섭 기자]금융분산ID 추진 협의회는 국내 최초 정보지갑인 마이인포에...   \n",
       "3  서울 서초구 대검찰청 검찰기. 연합뉴스 “정치적 중립성을 지키고 수사 결정 전 과정...   \n",
       "4  ◆현대해상 ◇임원 전보 △리스크관리본부장 홍사경 △고객지원본부장 황미은 △CCO 윤...   \n",
       "\n",
       "                                            provider category reporter  \\\n",
       "0                 {'name': '헤럴드경제', 'type': '경제/IT'}      NaN      NaN   \n",
       "1  {'name': '울산매일', 'type': '지역지', 'location': '울산'}      NaN      NaN   \n",
       "2                 {'name': '아시아경제', 'type': '경제/IT'}      NaN      NaN   \n",
       "3                    {'name': '세계일보', 'type': '일간지'}      NaN      NaN   \n",
       "4                  {'name': '전자신문', 'type': '경제/IT'}      NaN      NaN   \n",
       "\n",
       "                   dateline  \n",
       "0  2021-09-09T07:44:33.000Z  \n",
       "1  2021-08-05T07:49:07.000Z  \n",
       "2  2021-09-01T01:34:48.000Z  \n",
       "3  2021-04-25T10:18:14.000Z  \n",
       "4  2021-07-01T00:40:53.000Z  "
      ]
     },
     "execution_count": 78,
     "metadata": {},
     "output_type": "execute_result"
    }
   ],
   "source": [
    "bulk_df.head()"
   ]
  },
  {
   "cell_type": "markdown",
   "id": "ec37568d-0913-4dc0-ae4f-d2de13c6ec7d",
   "metadata": {},
   "source": [
    "### category"
   ]
  },
  {
   "cell_type": "code",
   "execution_count": 84,
   "id": "94554fb6-6843-4747-a17d-63fea84feaa2",
   "metadata": {},
   "outputs": [],
   "source": [
    "category_dicts = []\n",
    "for index, value in target_df[\"category\"].items():\n",
    "    category_dicts.append(get_category_dict(value))"
   ]
  },
  {
   "cell_type": "code",
   "execution_count": 85,
   "id": "1adcf185-b2f1-4289-9ab2-704000388a24",
   "metadata": {},
   "outputs": [],
   "source": [
    "bulk_df[\"category\"] = category_dicts"
   ]
  },
  {
   "cell_type": "code",
   "execution_count": 86,
   "id": "b01b78ee-0772-4b65-8ab5-a5a0a64c2892",
   "metadata": {},
   "outputs": [
    {
     "data": {
      "text/html": [
       "<div>\n",
       "<style scoped>\n",
       "    .dataframe tbody tr th:only-of-type {\n",
       "        vertical-align: middle;\n",
       "    }\n",
       "\n",
       "    .dataframe tbody tr th {\n",
       "        vertical-align: top;\n",
       "    }\n",
       "\n",
       "    .dataframe thead th {\n",
       "        text-align: right;\n",
       "    }\n",
       "</style>\n",
       "<table border=\"1\" class=\"dataframe\">\n",
       "  <thead>\n",
       "    <tr style=\"text-align: right;\">\n",
       "      <th></th>\n",
       "      <th>id</th>\n",
       "      <th>title</th>\n",
       "      <th>content</th>\n",
       "      <th>provider</th>\n",
       "      <th>category</th>\n",
       "      <th>reporter</th>\n",
       "      <th>dateline</th>\n",
       "    </tr>\n",
       "  </thead>\n",
       "  <tbody>\n",
       "    <tr>\n",
       "      <th>0</th>\n",
       "      <td>63792442</td>\n",
       "      <td>안산시, 생활임금 시급 1만500원 의결</td>\n",
       "      <td>[헤럴드경제(안산)=박정규 기자]안산시(시장 윤화섭) 생활임금위원회는 2022년 생...</td>\n",
       "      <td>{'name': '헤럴드경제', 'type': '경제/IT'}</td>\n",
       "      <td>[{'major': '사회', 'minor': '노동_복지'}, {'major': ...</td>\n",
       "      <td>NaN</td>\n",
       "      <td>2021-09-09T07:44:33.000Z</td>\n",
       "    </tr>\n",
       "    <tr>\n",
       "      <th>1</th>\n",
       "      <td>62993103</td>\n",
       "      <td>울산 하이본 병원, 6월부터 본격 진료 \"척추와 관절 분야 전문\"</td>\n",
       "      <td>척추와 관절 분야 전문인 울산 하이본 병원이 6월부터 본격 진료를 시작했다. \\n\\...</td>\n",
       "      <td>{'name': '울산매일', 'type': '지역지', 'location': '울산'}</td>\n",
       "      <td>[{'major': '사회', 'minor': '의료_건강'}, {'major': ...</td>\n",
       "      <td>NaN</td>\n",
       "      <td>2021-08-05T07:49:07.000Z</td>\n",
       "    </tr>\n",
       "    <tr>\n",
       "      <th>2</th>\n",
       "      <td>63800371</td>\n",
       "      <td>금융권 최초 공동 정보지갑서비스 출시…1호 증명서는 '뱅크아이디'</td>\n",
       "      <td>[아시아경제 송승섭 기자]금융분산ID 추진 협의회는 국내 최초 정보지갑인 마이인포에...</td>\n",
       "      <td>{'name': '아시아경제', 'type': '경제/IT'}</td>\n",
       "      <td>[{'major': 'IT_과학', 'minor': '보안'}, {'major': ...</td>\n",
       "      <td>NaN</td>\n",
       "      <td>2021-09-01T01:34:48.000Z</td>\n",
       "    </tr>\n",
       "    <tr>\n",
       "      <th>3</th>\n",
       "      <td>62398473</td>\n",
       "      <td>“총장 후보자 수사심의위 신청은 모순” “정치적 수단 전락”</td>\n",
       "      <td>서울 서초구 대검찰청 검찰기. 연합뉴스 “정치적 중립성을 지키고 수사 결정 전 과정...</td>\n",
       "      <td>{'name': '세계일보', 'type': '일간지'}</td>\n",
       "      <td>[{'major': '사회', 'minor': '사건_사고'}, {'major': ...</td>\n",
       "      <td>NaN</td>\n",
       "      <td>2021-04-25T10:18:14.000Z</td>\n",
       "    </tr>\n",
       "    <tr>\n",
       "      <th>4</th>\n",
       "      <td>63350588</td>\n",
       "      <td>[인사]현대해상</td>\n",
       "      <td>◆현대해상 ◇임원 전보 △리스크관리본부장 홍사경 △고객지원본부장 황미은 △CCO 윤...</td>\n",
       "      <td>{'name': '전자신문', 'type': '경제/IT'}</td>\n",
       "      <td>[{'major': '경제', 'minor': '금융_재테크'}, {'major':...</td>\n",
       "      <td>NaN</td>\n",
       "      <td>2021-07-01T00:40:53.000Z</td>\n",
       "    </tr>\n",
       "  </tbody>\n",
       "</table>\n",
       "</div>"
      ],
      "text/plain": [
       "         id                                 title  \\\n",
       "0  63792442                안산시, 생활임금 시급 1만500원 의결   \n",
       "1  62993103  울산 하이본 병원, 6월부터 본격 진료 \"척추와 관절 분야 전문\"   \n",
       "2  63800371  금융권 최초 공동 정보지갑서비스 출시…1호 증명서는 '뱅크아이디'   \n",
       "3  62398473     “총장 후보자 수사심의위 신청은 모순” “정치적 수단 전락”   \n",
       "4  63350588                              [인사]현대해상   \n",
       "\n",
       "                                             content  \\\n",
       "0  [헤럴드경제(안산)=박정규 기자]안산시(시장 윤화섭) 생활임금위원회는 2022년 생...   \n",
       "1  척추와 관절 분야 전문인 울산 하이본 병원이 6월부터 본격 진료를 시작했다. \\n\\...   \n",
       "2  [아시아경제 송승섭 기자]금융분산ID 추진 협의회는 국내 최초 정보지갑인 마이인포에...   \n",
       "3  서울 서초구 대검찰청 검찰기. 연합뉴스 “정치적 중립성을 지키고 수사 결정 전 과정...   \n",
       "4  ◆현대해상 ◇임원 전보 △리스크관리본부장 홍사경 △고객지원본부장 황미은 △CCO 윤...   \n",
       "\n",
       "                                            provider  \\\n",
       "0                 {'name': '헤럴드경제', 'type': '경제/IT'}   \n",
       "1  {'name': '울산매일', 'type': '지역지', 'location': '울산'}   \n",
       "2                 {'name': '아시아경제', 'type': '경제/IT'}   \n",
       "3                    {'name': '세계일보', 'type': '일간지'}   \n",
       "4                  {'name': '전자신문', 'type': '경제/IT'}   \n",
       "\n",
       "                                            category reporter  \\\n",
       "0  [{'major': '사회', 'minor': '노동_복지'}, {'major': ...      NaN   \n",
       "1  [{'major': '사회', 'minor': '의료_건강'}, {'major': ...      NaN   \n",
       "2  [{'major': 'IT_과학', 'minor': '보안'}, {'major': ...      NaN   \n",
       "3  [{'major': '사회', 'minor': '사건_사고'}, {'major': ...      NaN   \n",
       "4  [{'major': '경제', 'minor': '금융_재테크'}, {'major':...      NaN   \n",
       "\n",
       "                   dateline  \n",
       "0  2021-09-09T07:44:33.000Z  \n",
       "1  2021-08-05T07:49:07.000Z  \n",
       "2  2021-09-01T01:34:48.000Z  \n",
       "3  2021-04-25T10:18:14.000Z  \n",
       "4  2021-07-01T00:40:53.000Z  "
      ]
     },
     "execution_count": 86,
     "metadata": {},
     "output_type": "execute_result"
    }
   ],
   "source": [
    "bulk_df.head()"
   ]
  },
  {
   "cell_type": "markdown",
   "id": "8e36e1b7-f667-40c3-9400-f10e8394b60d",
   "metadata": {},
   "source": [
    "### reporter"
   ]
  },
  {
   "cell_type": "code",
   "execution_count": 96,
   "id": "e58db4e9-2dfc-4e0c-8a4b-868173e74c97",
   "metadata": {},
   "outputs": [],
   "source": [
    "reporter_dicts = []\n",
    "for index, value in target_df[\"byline\"].items():\n",
    "    reporter_dicts.append(get_reporter_dict(value))"
   ]
  },
  {
   "cell_type": "code",
   "execution_count": 97,
   "id": "9ea6844d-2b3e-4215-ad00-b13f2dc6e71e",
   "metadata": {},
   "outputs": [],
   "source": [
    "bulk_df[\"reporter\"] = reporter_dicts"
   ]
  },
  {
   "cell_type": "code",
   "execution_count": 98,
   "id": "c8700d5e-c790-451f-9235-403b49871770",
   "metadata": {},
   "outputs": [
    {
     "data": {
      "text/html": [
       "<div>\n",
       "<style scoped>\n",
       "    .dataframe tbody tr th:only-of-type {\n",
       "        vertical-align: middle;\n",
       "    }\n",
       "\n",
       "    .dataframe tbody tr th {\n",
       "        vertical-align: top;\n",
       "    }\n",
       "\n",
       "    .dataframe thead th {\n",
       "        text-align: right;\n",
       "    }\n",
       "</style>\n",
       "<table border=\"1\" class=\"dataframe\">\n",
       "  <thead>\n",
       "    <tr style=\"text-align: right;\">\n",
       "      <th></th>\n",
       "      <th>id</th>\n",
       "      <th>title</th>\n",
       "      <th>content</th>\n",
       "      <th>provider</th>\n",
       "      <th>category</th>\n",
       "      <th>reporter</th>\n",
       "      <th>dateline</th>\n",
       "    </tr>\n",
       "  </thead>\n",
       "  <tbody>\n",
       "    <tr>\n",
       "      <th>0</th>\n",
       "      <td>63792442</td>\n",
       "      <td>안산시, 생활임금 시급 1만500원 의결</td>\n",
       "      <td>[헤럴드경제(안산)=박정규 기자]안산시(시장 윤화섭) 생활임금위원회는 2022년 생...</td>\n",
       "      <td>{'name': '헤럴드경제', 'type': '경제/IT'}</td>\n",
       "      <td>[{'major': '사회', 'minor': '노동_복지'}, {'major': ...</td>\n",
       "      <td>박정규</td>\n",
       "      <td>2021-09-09T07:44:33.000Z</td>\n",
       "    </tr>\n",
       "    <tr>\n",
       "      <th>1</th>\n",
       "      <td>62993103</td>\n",
       "      <td>울산 하이본 병원, 6월부터 본격 진료 \"척추와 관절 분야 전문\"</td>\n",
       "      <td>척추와 관절 분야 전문인 울산 하이본 병원이 6월부터 본격 진료를 시작했다. \\n\\...</td>\n",
       "      <td>{'name': '울산매일', 'type': '지역지', 'location': '울산'}</td>\n",
       "      <td>[{'major': '사회', 'minor': '의료_건강'}, {'major': ...</td>\n",
       "      <td>None</td>\n",
       "      <td>2021-08-05T07:49:07.000Z</td>\n",
       "    </tr>\n",
       "    <tr>\n",
       "      <th>2</th>\n",
       "      <td>63800371</td>\n",
       "      <td>금융권 최초 공동 정보지갑서비스 출시…1호 증명서는 '뱅크아이디'</td>\n",
       "      <td>[아시아경제 송승섭 기자]금융분산ID 추진 협의회는 국내 최초 정보지갑인 마이인포에...</td>\n",
       "      <td>{'name': '아시아경제', 'type': '경제/IT'}</td>\n",
       "      <td>[{'major': 'IT_과학', 'minor': '보안'}, {'major': ...</td>\n",
       "      <td>송승섭</td>\n",
       "      <td>2021-09-01T01:34:48.000Z</td>\n",
       "    </tr>\n",
       "    <tr>\n",
       "      <th>3</th>\n",
       "      <td>62398473</td>\n",
       "      <td>“총장 후보자 수사심의위 신청은 모순” “정치적 수단 전락”</td>\n",
       "      <td>서울 서초구 대검찰청 검찰기. 연합뉴스 “정치적 중립성을 지키고 수사 결정 전 과정...</td>\n",
       "      <td>{'name': '세계일보', 'type': '일간지'}</td>\n",
       "      <td>[{'major': '사회', 'minor': '사건_사고'}, {'major': ...</td>\n",
       "      <td>이창훈</td>\n",
       "      <td>2021-04-25T10:18:14.000Z</td>\n",
       "    </tr>\n",
       "    <tr>\n",
       "      <th>4</th>\n",
       "      <td>63350588</td>\n",
       "      <td>[인사]현대해상</td>\n",
       "      <td>◆현대해상 ◇임원 전보 △리스크관리본부장 홍사경 △고객지원본부장 황미은 △CCO 윤...</td>\n",
       "      <td>{'name': '전자신문', 'type': '경제/IT'}</td>\n",
       "      <td>[{'major': '경제', 'minor': '금융_재테크'}, {'major':...</td>\n",
       "      <td>김현민</td>\n",
       "      <td>2021-07-01T00:40:53.000Z</td>\n",
       "    </tr>\n",
       "  </tbody>\n",
       "</table>\n",
       "</div>"
      ],
      "text/plain": [
       "         id                                 title  \\\n",
       "0  63792442                안산시, 생활임금 시급 1만500원 의결   \n",
       "1  62993103  울산 하이본 병원, 6월부터 본격 진료 \"척추와 관절 분야 전문\"   \n",
       "2  63800371  금융권 최초 공동 정보지갑서비스 출시…1호 증명서는 '뱅크아이디'   \n",
       "3  62398473     “총장 후보자 수사심의위 신청은 모순” “정치적 수단 전락”   \n",
       "4  63350588                              [인사]현대해상   \n",
       "\n",
       "                                             content  \\\n",
       "0  [헤럴드경제(안산)=박정규 기자]안산시(시장 윤화섭) 생활임금위원회는 2022년 생...   \n",
       "1  척추와 관절 분야 전문인 울산 하이본 병원이 6월부터 본격 진료를 시작했다. \\n\\...   \n",
       "2  [아시아경제 송승섭 기자]금융분산ID 추진 협의회는 국내 최초 정보지갑인 마이인포에...   \n",
       "3  서울 서초구 대검찰청 검찰기. 연합뉴스 “정치적 중립성을 지키고 수사 결정 전 과정...   \n",
       "4  ◆현대해상 ◇임원 전보 △리스크관리본부장 홍사경 △고객지원본부장 황미은 △CCO 윤...   \n",
       "\n",
       "                                            provider  \\\n",
       "0                 {'name': '헤럴드경제', 'type': '경제/IT'}   \n",
       "1  {'name': '울산매일', 'type': '지역지', 'location': '울산'}   \n",
       "2                 {'name': '아시아경제', 'type': '경제/IT'}   \n",
       "3                    {'name': '세계일보', 'type': '일간지'}   \n",
       "4                  {'name': '전자신문', 'type': '경제/IT'}   \n",
       "\n",
       "                                            category reporter  \\\n",
       "0  [{'major': '사회', 'minor': '노동_복지'}, {'major': ...      박정규   \n",
       "1  [{'major': '사회', 'minor': '의료_건강'}, {'major': ...     None   \n",
       "2  [{'major': 'IT_과학', 'minor': '보안'}, {'major': ...      송승섭   \n",
       "3  [{'major': '사회', 'minor': '사건_사고'}, {'major': ...      이창훈   \n",
       "4  [{'major': '경제', 'minor': '금융_재테크'}, {'major':...      김현민   \n",
       "\n",
       "                   dateline  \n",
       "0  2021-09-09T07:44:33.000Z  \n",
       "1  2021-08-05T07:49:07.000Z  \n",
       "2  2021-09-01T01:34:48.000Z  \n",
       "3  2021-04-25T10:18:14.000Z  \n",
       "4  2021-07-01T00:40:53.000Z  "
      ]
     },
     "execution_count": 98,
     "metadata": {},
     "output_type": "execute_result"
    }
   ],
   "source": [
    "bulk_df.head()"
   ]
  },
  {
   "cell_type": "markdown",
   "id": "ac1ca298-475d-4103-9af2-1d0103091570",
   "metadata": {},
   "source": [
    "### change column name\n",
    "- dateline → date"
   ]
  },
  {
   "cell_type": "code",
   "execution_count": 99,
   "id": "1dcd4b7b-68ff-4ba6-8074-836f4de23b6f",
   "metadata": {},
   "outputs": [],
   "source": [
    "bulk_df = bulk_df.rename(columns={\"dateline\": \"date\"})"
   ]
  },
  {
   "cell_type": "code",
   "execution_count": 100,
   "id": "27c32043-677e-46cd-9241-7ec683d1fdfe",
   "metadata": {},
   "outputs": [
    {
     "data": {
      "text/html": [
       "<div>\n",
       "<style scoped>\n",
       "    .dataframe tbody tr th:only-of-type {\n",
       "        vertical-align: middle;\n",
       "    }\n",
       "\n",
       "    .dataframe tbody tr th {\n",
       "        vertical-align: top;\n",
       "    }\n",
       "\n",
       "    .dataframe thead th {\n",
       "        text-align: right;\n",
       "    }\n",
       "</style>\n",
       "<table border=\"1\" class=\"dataframe\">\n",
       "  <thead>\n",
       "    <tr style=\"text-align: right;\">\n",
       "      <th></th>\n",
       "      <th>id</th>\n",
       "      <th>title</th>\n",
       "      <th>content</th>\n",
       "      <th>provider</th>\n",
       "      <th>category</th>\n",
       "      <th>reporter</th>\n",
       "      <th>date</th>\n",
       "    </tr>\n",
       "  </thead>\n",
       "  <tbody>\n",
       "    <tr>\n",
       "      <th>0</th>\n",
       "      <td>63792442</td>\n",
       "      <td>안산시, 생활임금 시급 1만500원 의결</td>\n",
       "      <td>[헤럴드경제(안산)=박정규 기자]안산시(시장 윤화섭) 생활임금위원회는 2022년 생...</td>\n",
       "      <td>{'name': '헤럴드경제', 'type': '경제/IT'}</td>\n",
       "      <td>[{'major': '사회', 'minor': '노동_복지'}, {'major': ...</td>\n",
       "      <td>박정규</td>\n",
       "      <td>2021-09-09T07:44:33.000Z</td>\n",
       "    </tr>\n",
       "    <tr>\n",
       "      <th>1</th>\n",
       "      <td>62993103</td>\n",
       "      <td>울산 하이본 병원, 6월부터 본격 진료 \"척추와 관절 분야 전문\"</td>\n",
       "      <td>척추와 관절 분야 전문인 울산 하이본 병원이 6월부터 본격 진료를 시작했다. \\n\\...</td>\n",
       "      <td>{'name': '울산매일', 'type': '지역지', 'location': '울산'}</td>\n",
       "      <td>[{'major': '사회', 'minor': '의료_건강'}, {'major': ...</td>\n",
       "      <td>None</td>\n",
       "      <td>2021-08-05T07:49:07.000Z</td>\n",
       "    </tr>\n",
       "    <tr>\n",
       "      <th>2</th>\n",
       "      <td>63800371</td>\n",
       "      <td>금융권 최초 공동 정보지갑서비스 출시…1호 증명서는 '뱅크아이디'</td>\n",
       "      <td>[아시아경제 송승섭 기자]금융분산ID 추진 협의회는 국내 최초 정보지갑인 마이인포에...</td>\n",
       "      <td>{'name': '아시아경제', 'type': '경제/IT'}</td>\n",
       "      <td>[{'major': 'IT_과학', 'minor': '보안'}, {'major': ...</td>\n",
       "      <td>송승섭</td>\n",
       "      <td>2021-09-01T01:34:48.000Z</td>\n",
       "    </tr>\n",
       "    <tr>\n",
       "      <th>3</th>\n",
       "      <td>62398473</td>\n",
       "      <td>“총장 후보자 수사심의위 신청은 모순” “정치적 수단 전락”</td>\n",
       "      <td>서울 서초구 대검찰청 검찰기. 연합뉴스 “정치적 중립성을 지키고 수사 결정 전 과정...</td>\n",
       "      <td>{'name': '세계일보', 'type': '일간지'}</td>\n",
       "      <td>[{'major': '사회', 'minor': '사건_사고'}, {'major': ...</td>\n",
       "      <td>이창훈</td>\n",
       "      <td>2021-04-25T10:18:14.000Z</td>\n",
       "    </tr>\n",
       "    <tr>\n",
       "      <th>4</th>\n",
       "      <td>63350588</td>\n",
       "      <td>[인사]현대해상</td>\n",
       "      <td>◆현대해상 ◇임원 전보 △리스크관리본부장 홍사경 △고객지원본부장 황미은 △CCO 윤...</td>\n",
       "      <td>{'name': '전자신문', 'type': '경제/IT'}</td>\n",
       "      <td>[{'major': '경제', 'minor': '금융_재테크'}, {'major':...</td>\n",
       "      <td>김현민</td>\n",
       "      <td>2021-07-01T00:40:53.000Z</td>\n",
       "    </tr>\n",
       "  </tbody>\n",
       "</table>\n",
       "</div>"
      ],
      "text/plain": [
       "         id                                 title  \\\n",
       "0  63792442                안산시, 생활임금 시급 1만500원 의결   \n",
       "1  62993103  울산 하이본 병원, 6월부터 본격 진료 \"척추와 관절 분야 전문\"   \n",
       "2  63800371  금융권 최초 공동 정보지갑서비스 출시…1호 증명서는 '뱅크아이디'   \n",
       "3  62398473     “총장 후보자 수사심의위 신청은 모순” “정치적 수단 전락”   \n",
       "4  63350588                              [인사]현대해상   \n",
       "\n",
       "                                             content  \\\n",
       "0  [헤럴드경제(안산)=박정규 기자]안산시(시장 윤화섭) 생활임금위원회는 2022년 생...   \n",
       "1  척추와 관절 분야 전문인 울산 하이본 병원이 6월부터 본격 진료를 시작했다. \\n\\...   \n",
       "2  [아시아경제 송승섭 기자]금융분산ID 추진 협의회는 국내 최초 정보지갑인 마이인포에...   \n",
       "3  서울 서초구 대검찰청 검찰기. 연합뉴스 “정치적 중립성을 지키고 수사 결정 전 과정...   \n",
       "4  ◆현대해상 ◇임원 전보 △리스크관리본부장 홍사경 △고객지원본부장 황미은 △CCO 윤...   \n",
       "\n",
       "                                            provider  \\\n",
       "0                 {'name': '헤럴드경제', 'type': '경제/IT'}   \n",
       "1  {'name': '울산매일', 'type': '지역지', 'location': '울산'}   \n",
       "2                 {'name': '아시아경제', 'type': '경제/IT'}   \n",
       "3                    {'name': '세계일보', 'type': '일간지'}   \n",
       "4                  {'name': '전자신문', 'type': '경제/IT'}   \n",
       "\n",
       "                                            category reporter  \\\n",
       "0  [{'major': '사회', 'minor': '노동_복지'}, {'major': ...      박정규   \n",
       "1  [{'major': '사회', 'minor': '의료_건강'}, {'major': ...     None   \n",
       "2  [{'major': 'IT_과학', 'minor': '보안'}, {'major': ...      송승섭   \n",
       "3  [{'major': '사회', 'minor': '사건_사고'}, {'major': ...      이창훈   \n",
       "4  [{'major': '경제', 'minor': '금융_재테크'}, {'major':...      김현민   \n",
       "\n",
       "                       date  \n",
       "0  2021-09-09T07:44:33.000Z  \n",
       "1  2021-08-05T07:49:07.000Z  \n",
       "2  2021-09-01T01:34:48.000Z  \n",
       "3  2021-04-25T10:18:14.000Z  \n",
       "4  2021-07-01T00:40:53.000Z  "
      ]
     },
     "execution_count": 100,
     "metadata": {},
     "output_type": "execute_result"
    }
   ],
   "source": [
    "bulk_df.head()"
   ]
  },
  {
   "cell_type": "markdown",
   "id": "87c16ef6-b833-4d3b-a7d6-613575bab0d0",
   "metadata": {},
   "source": [
    "## Bulk"
   ]
  },
  {
   "cell_type": "code",
   "execution_count": 101,
   "id": "3215c216-dd92-4a83-b356-8e9d6f22819d",
   "metadata": {},
   "outputs": [],
   "source": [
    "action_str = {\n",
    "    \"index\": {\n",
    "        \"_index\": target_name\n",
    "    }\n",
    "}\n",
    "\n",
    "action = json.dumps(action_str)"
   ]
  },
  {
   "cell_type": "code",
   "execution_count": 110,
   "id": "18ebf5b7-9a48-4f0e-a489-886142077ad3",
   "metadata": {},
   "outputs": [],
   "source": [
    "def get_row_dict(row):\n",
    "    return {\"id\": row[\"id\"], \"title\": row[\"title\"], \"content\": row[\"content\"],\n",
    "            \"provider\": row[\"provider\"], \"category\": row[\"category\"], \"reporter\": row[\"reporter\"],\n",
    "            \"date\": row[\"date\"]}"
   ]
  },
  {
   "cell_type": "code",
   "execution_count": 111,
   "id": "2b0ff04a-6c0e-4801-9166-3db15e8f7e8c",
   "metadata": {},
   "outputs": [],
   "source": [
    "bulk_data = \"\"\n",
    "\n",
    "count = 0\n",
    "for index, row in bulk_df.iterrows():\n",
    "    row_dict = get_row_dict(row)\n",
    "    row_bulk = json.dumps(row_dict, ensure_ascii=False)\n",
    "    bulk_data += f\"{action}\\n{row_bulk}\\n\""
   ]
  },
  {
   "cell_type": "code",
   "execution_count": 112,
   "id": "5a840739-5ba2-4f66-a667-e188fef4a36e",
   "metadata": {},
   "outputs": [],
   "source": [
    "with open(join(bulk_path, f\"{target_name}.json\"), \"w\", encoding=\"utf-8\") as json_file:\n",
    "    json_file.write(bulk_data)"
   ]
  },
  {
   "cell_type": "code",
   "execution_count": null,
   "id": "f358ab3d-05e6-48cf-9857-5cc7a9e72dfb",
   "metadata": {},
   "outputs": [],
   "source": []
  }
 ],
 "metadata": {
  "kernelspec": {
   "display_name": "es-ojt",
   "language": "python",
   "name": ".venv"
  },
  "language_info": {
   "codemirror_mode": {
    "name": "ipython",
    "version": 3
   },
   "file_extension": ".py",
   "mimetype": "text/x-python",
   "name": "python",
   "nbconvert_exporter": "python",
   "pygments_lexer": "ipython3",
   "version": "3.9.5"
  }
 },
 "nbformat": 4,
 "nbformat_minor": 5
}
