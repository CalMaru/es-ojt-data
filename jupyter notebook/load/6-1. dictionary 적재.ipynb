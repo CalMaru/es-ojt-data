{
 "cells": [
  {
   "cell_type": "code",
   "execution_count": 1,
   "id": "71006f43-e9de-425e-9c4c-265f7790fc9f",
   "metadata": {},
   "outputs": [],
   "source": [
    "COLUMN_NAME = \"title\"\n",
    "I = 0\n",
    "START = 0\n",
    "END = 19999"
   ]
  },
  {
   "cell_type": "markdown",
   "id": "7cf36b8c-9cde-40b2-a848-ff8d5e03f14a",
   "metadata": {},
   "source": [
    "# Dictionary 적재"
   ]
  },
  {
   "cell_type": "code",
   "execution_count": 2,
   "id": "54e16471-fd57-4ddd-92c5-03723c9de43a",
   "metadata": {},
   "outputs": [],
   "source": [
    "from pathlib import Path\n",
    "import os\n",
    "\n",
    "os.chdir(Path(os.getcwd()).parent.parent)"
   ]
  },
  {
   "cell_type": "code",
   "execution_count": 3,
   "id": "0838e4c4-5c10-46e4-a135-bc0f8284cd42",
   "metadata": {},
   "outputs": [],
   "source": [
    "from os.path import join\n",
    "\n",
    "import json\n",
    "import ast\n",
    "import timeit\n",
    "\n",
    "import pandas as pd\n",
    "import numpy as np\n",
    "from elasticsearch import AsyncElasticsearch\n",
    "from collections import Counter"
   ]
  },
  {
   "cell_type": "code",
   "execution_count": 4,
   "id": "dd10c765-50a2-4b32-9927-2c286f2a490e",
   "metadata": {},
   "outputs": [],
   "source": [
    "root_path = os.getcwd()\n",
    "data_path = join(os.getcwd(), \"data\")\n",
    "raw_path = join(data_path, \"raw\")\n",
    "pre_path = join(data_path, \"preprocessing\")\n",
    "bulk_path = join(data_path, \"bulk\")"
   ]
  },
  {
   "cell_type": "markdown",
   "id": "8d71b1f5-f8da-46c0-bccb-8a17e6e6a2cc",
   "metadata": {},
   "source": [
    "## Elasticsearch client"
   ]
  },
  {
   "cell_type": "code",
   "execution_count": 5,
   "id": "a876c322-e981-44f0-9015-b496ce15a3f2",
   "metadata": {},
   "outputs": [],
   "source": [
    "async def close(es_client: AsyncElasticsearch):\n",
    "    await es_client.close()"
   ]
  },
  {
   "cell_type": "code",
   "execution_count": 6,
   "id": "2d5ffdd1-b814-4da0-94d1-8df4812c2cae",
   "metadata": {},
   "outputs": [],
   "source": [
    "es_config = {\n",
    "    \"hosts\": \"http://localhost:9200\",\n",
    "    \"http_auth\": (\"elastic\", \"42maru\"),\n",
    "    \"scheme\": \"http\"\n",
    "}"
   ]
  },
  {
   "cell_type": "code",
   "execution_count": 7,
   "id": "1cfabc59-bf6b-4579-bb2d-40899e192831",
   "metadata": {},
   "outputs": [],
   "source": [
    "es_client = AsyncElasticsearch(**es_config)"
   ]
  },
  {
   "cell_type": "markdown",
   "id": "c8761411-2381-4473-96f1-a06e7e2ecd86",
   "metadata": {},
   "source": [
    "## Load news_data_20000.csv"
   ]
  },
  {
   "cell_type": "code",
   "execution_count": 8,
   "id": "08a613ff-5228-45d7-b206-57bfca8c8003",
   "metadata": {},
   "outputs": [],
   "source": [
    "target_name = \"news\"\n",
    "target_file_name = \"news_data_20000.csv\""
   ]
  },
  {
   "cell_type": "code",
   "execution_count": 9,
   "id": "a73d472e-fb22-4498-9384-5a8e01150c33",
   "metadata": {},
   "outputs": [],
   "source": [
    "target_df = pd.read_csv(join(raw_path, target_file_name))[[\"title\", \"content\"]]"
   ]
  },
  {
   "cell_type": "code",
   "execution_count": 10,
   "id": "b38a58f5-cbd4-44c2-8cab-2d4e5f7898a5",
   "metadata": {},
   "outputs": [
    {
     "data": {
      "text/html": [
       "<div>\n",
       "<style scoped>\n",
       "    .dataframe tbody tr th:only-of-type {\n",
       "        vertical-align: middle;\n",
       "    }\n",
       "\n",
       "    .dataframe tbody tr th {\n",
       "        vertical-align: top;\n",
       "    }\n",
       "\n",
       "    .dataframe thead th {\n",
       "        text-align: right;\n",
       "    }\n",
       "</style>\n",
       "<table border=\"1\" class=\"dataframe\">\n",
       "  <thead>\n",
       "    <tr style=\"text-align: right;\">\n",
       "      <th></th>\n",
       "      <th>title</th>\n",
       "      <th>content</th>\n",
       "    </tr>\n",
       "  </thead>\n",
       "  <tbody>\n",
       "    <tr>\n",
       "      <th>0</th>\n",
       "      <td>안산시, 생활임금 시급 1만500원 의결</td>\n",
       "      <td>[헤럴드경제(안산)=박정규 기자]안산시(시장 윤화섭) 생활임금위원회는 2022년 생...</td>\n",
       "    </tr>\n",
       "    <tr>\n",
       "      <th>1</th>\n",
       "      <td>울산 하이본 병원, 6월부터 본격 진료 \"척추와 관절 분야 전문\"</td>\n",
       "      <td>척추와 관절 분야 전문인 울산 하이본 병원이 6월부터 본격 진료를 시작했다. \\n\\...</td>\n",
       "    </tr>\n",
       "    <tr>\n",
       "      <th>2</th>\n",
       "      <td>금융권 최초 공동 정보지갑서비스 출시…1호 증명서는 '뱅크아이디'</td>\n",
       "      <td>[아시아경제 송승섭 기자]금융분산ID 추진 협의회는 국내 최초 정보지갑인 마이인포에...</td>\n",
       "    </tr>\n",
       "    <tr>\n",
       "      <th>3</th>\n",
       "      <td>“총장 후보자 수사심의위 신청은 모순” “정치적 수단 전락”</td>\n",
       "      <td>서울 서초구 대검찰청 검찰기. 연합뉴스 “정치적 중립성을 지키고 수사 결정 전 과정...</td>\n",
       "    </tr>\n",
       "    <tr>\n",
       "      <th>4</th>\n",
       "      <td>[인사]현대해상</td>\n",
       "      <td>◆현대해상 ◇임원 전보 △리스크관리본부장 홍사경 △고객지원본부장 황미은 △CCO 윤...</td>\n",
       "    </tr>\n",
       "  </tbody>\n",
       "</table>\n",
       "</div>"
      ],
      "text/plain": [
       "                                  title  \\\n",
       "0                안산시, 생활임금 시급 1만500원 의결   \n",
       "1  울산 하이본 병원, 6월부터 본격 진료 \"척추와 관절 분야 전문\"   \n",
       "2  금융권 최초 공동 정보지갑서비스 출시…1호 증명서는 '뱅크아이디'   \n",
       "3     “총장 후보자 수사심의위 신청은 모순” “정치적 수단 전락”   \n",
       "4                              [인사]현대해상   \n",
       "\n",
       "                                             content  \n",
       "0  [헤럴드경제(안산)=박정규 기자]안산시(시장 윤화섭) 생활임금위원회는 2022년 생...  \n",
       "1  척추와 관절 분야 전문인 울산 하이본 병원이 6월부터 본격 진료를 시작했다. \\n\\...  \n",
       "2  [아시아경제 송승섭 기자]금융분산ID 추진 협의회는 국내 최초 정보지갑인 마이인포에...  \n",
       "3  서울 서초구 대검찰청 검찰기. 연합뉴스 “정치적 중립성을 지키고 수사 결정 전 과정...  \n",
       "4  ◆현대해상 ◇임원 전보 △리스크관리본부장 홍사경 △고객지원본부장 황미은 △CCO 윤...  "
      ]
     },
     "execution_count": 10,
     "metadata": {},
     "output_type": "execute_result"
    }
   ],
   "source": [
    "target_df.head()"
   ]
  },
  {
   "cell_type": "markdown",
   "id": "5019fbc1-a99d-49b0-96e4-f879d4fd1347",
   "metadata": {},
   "source": [
    "## ddd"
   ]
  },
  {
   "cell_type": "code",
   "execution_count": 11,
   "id": "6c85f24c-e616-4f92-9973-3c5304c35846",
   "metadata": {},
   "outputs": [],
   "source": [
    "async def get_terms(query: str) -> list[str]:\n",
    "    response = await es_client.indices.analyze(\n",
    "        index=\"dictionary\",\n",
    "        body={\n",
    "            \"analyzer\": \"korean_mixed_analyzer\",\n",
    "            \"text\": query\n",
    "        }\n",
    "    )\n",
    "    terms = [token[\"token\"] for token in response[\"tokens\"]]\n",
    "    return list(Counter(terms))"
   ]
  },
  {
   "cell_type": "code",
   "execution_count": 12,
   "id": "5f3115e2-73c5-494f-827e-f4993da7d9bf",
   "metadata": {},
   "outputs": [],
   "source": [
    "terms = await get_terms(\"안산시, 생활임금 시급 1만500원 의결\")"
   ]
  },
  {
   "cell_type": "markdown",
   "id": "e736467a-f6ee-40dd-808a-3dd60ae83a69",
   "metadata": {},
   "source": [
    "## fff"
   ]
  },
  {
   "cell_type": "code",
   "execution_count": 13,
   "id": "6c42921c-4904-4b9f-8265-2465b3a2f8e6",
   "metadata": {},
   "outputs": [],
   "source": [
    "dictionary_df = pd.DataFrame(columns=[\"dictionary\"])"
   ]
  },
  {
   "cell_type": "code",
   "execution_count": 14,
   "id": "3e4ee279-2521-463e-b261-98b0e86d54eb",
   "metadata": {},
   "outputs": [
    {
     "name": "stdout",
     "output_type": "stream",
     "text": [
      "0th row, 9.366699999979744e-05\n",
      "100th row, 0.3243147500000001\n",
      "200th row, 0.5984092090000006\n",
      "300th row, 0.852913\n",
      "400th row, 1.154368625\n",
      "500th row, 1.4685454170000005\n",
      "600th row, 1.7187252500000003\n",
      "700th row, 2.0154444170000003\n",
      "800th row, 2.3091982920000005\n",
      "900th row, 2.567639959\n",
      "1000th row, 2.8553194590000004\n",
      "1100th row, 3.1132139589999994\n",
      "1200th row, 3.3805720420000007\n",
      "1300th row, 3.665128834000001\n",
      "1400th row, 3.980722084\n",
      "1500th row, 4.383577959\n",
      "1600th row, 4.659521250000001\n",
      "1700th row, 4.984237542000001\n",
      "1800th row, 5.283519209\n",
      "1900th row, 5.649941084\n",
      "2000th row, 6.035315125\n",
      "2100th row, 6.398661209\n",
      "2200th row, 6.738504834\n",
      "2300th row, 7.163927709000001\n",
      "2400th row, 7.964307584\n",
      "2500th row, 8.445130875\n",
      "2600th row, 8.830494584\n",
      "2700th row, 9.174216334\n",
      "2800th row, 9.592409625\n",
      "2900th row, 9.942711917\n",
      "3000th row, 10.383452417\n",
      "3100th row, 10.739038584000001\n",
      "3200th row, 11.078501709\n",
      "3300th row, 11.435341917\n",
      "3400th row, 11.803134167000001\n",
      "3500th row, 12.187079250000002\n",
      "3600th row, 12.517053124999999\n",
      "3700th row, 12.798592334\n",
      "3800th row, 13.092740042\n",
      "3900th row, 13.429821417000001\n",
      "4000th row, 13.764556417\n",
      "4100th row, 14.062202084\n",
      "4200th row, 14.368824709\n",
      "4300th row, 14.666692542000002\n",
      "4400th row, 14.988034375\n",
      "4500th row, 15.31951425\n",
      "4600th row, 15.626001666999999\n",
      "4700th row, 15.948002542\n",
      "4800th row, 16.304311249999998\n",
      "4900th row, 16.593692834000002\n",
      "5000th row, 16.890481\n",
      "5100th row, 17.201106625\n",
      "5200th row, 17.551594416999997\n",
      "5300th row, 17.944275124999997\n",
      "5400th row, 18.347426084\n",
      "5500th row, 18.773456459000002\n",
      "5600th row, 19.185099084\n",
      "5700th row, 19.685845709\n",
      "5800th row, 20.1184285\n",
      "5900th row, 20.437195875\n",
      "6000th row, 20.813746125\n",
      "6100th row, 21.184216833999997\n",
      "6200th row, 21.600225584\n",
      "6300th row, 22.03116875\n",
      "6400th row, 22.504232209\n",
      "6500th row, 22.935382124999997\n",
      "6600th row, 23.40344925\n",
      "6700th row, 23.722134875000002\n",
      "6800th row, 24.200291792\n",
      "6900th row, 24.651264167\n",
      "7000th row, 25.146262334\n",
      "7100th row, 25.650823584\n",
      "7200th row, 26.106865292000002\n",
      "7300th row, 26.546832000000002\n",
      "7400th row, 26.997559125000002\n",
      "7500th row, 27.45302025\n",
      "7600th row, 28.135440375\n",
      "7700th row, 28.504720917\n",
      "7800th row, 28.888050375\n",
      "7900th row, 29.349317792\n",
      "8000th row, 29.834493667000004\n",
      "8100th row, 30.422182834000004\n",
      "8200th row, 30.905235667\n",
      "8300th row, 31.492736125\n",
      "8400th row, 31.943079209000004\n",
      "8500th row, 32.415973959\n",
      "8600th row, 32.804860459000004\n",
      "8700th row, 33.196929250000004\n",
      "8800th row, 33.524374084\n",
      "8900th row, 33.954174209\n",
      "9000th row, 34.337646750000005\n",
      "9100th row, 34.7177835\n",
      "9200th row, 35.106618084000004\n",
      "9300th row, 35.644645417\n",
      "9400th row, 36.133365792\n",
      "9500th row, 36.4960155\n",
      "9600th row, 36.859529667000004\n",
      "9700th row, 37.24079375\n",
      "9800th row, 37.51191325\n",
      "9900th row, 37.973894834\n",
      "10000th row, 38.381035834\n",
      "10100th row, 38.780223417\n",
      "10200th row, 39.249070209\n",
      "10300th row, 39.701736042\n",
      "10400th row, 40.366558334000004\n",
      "10500th row, 40.847679167\n",
      "10600th row, 41.321552834\n",
      "10700th row, 41.694742000000005\n",
      "10800th row, 42.055296792\n",
      "10900th row, 42.449180750000004\n",
      "11000th row, 42.820330084000005\n",
      "11100th row, 43.26769625\n",
      "11200th row, 43.623924834\n",
      "11300th row, 44.074842584\n",
      "11400th row, 44.527523292000005\n",
      "11500th row, 44.973106292000004\n",
      "11600th row, 45.489077584\n",
      "11700th row, 46.039264459\n",
      "11800th row, 46.57211075\n",
      "11900th row, 47.053427875000004\n",
      "12000th row, 47.400906959000004\n",
      "12100th row, 47.782536417\n",
      "12200th row, 48.176993959\n",
      "12300th row, 48.571876834\n",
      "12400th row, 49.028104209\n",
      "12500th row, 49.567571\n",
      "12600th row, 49.98973025\n",
      "12700th row, 50.582142834\n",
      "12800th row, 51.23426425\n",
      "12900th row, 51.717807792\n",
      "13000th row, 52.217119584\n",
      "13100th row, 52.759270334\n",
      "13200th row, 53.308797375000005\n",
      "13300th row, 53.729037000000005\n",
      "13400th row, 54.001900459000005\n",
      "13500th row, 54.300735959\n",
      "13600th row, 54.595088917000005\n",
      "13700th row, 54.937762042\n",
      "13800th row, 55.3253945\n",
      "13900th row, 55.674243125000004\n",
      "14000th row, 56.065718792000006\n",
      "14100th row, 56.408047\n",
      "14200th row, 57.053156875\n",
      "14300th row, 57.41789275\n",
      "14400th row, 57.713755750000004\n",
      "14500th row, 58.079758375000004\n",
      "14600th row, 58.963714292000006\n",
      "14700th row, 59.60872075\n",
      "14800th row, 60.229240542\n",
      "14900th row, 60.792693709000005\n",
      "15000th row, 61.550109584\n",
      "15100th row, 62.334316\n",
      "15200th row, 62.840476417000005\n",
      "15300th row, 63.25678375\n",
      "15400th row, 63.672888834000005\n",
      "15500th row, 64.085660292\n",
      "15600th row, 64.587607875\n",
      "15700th row, 65.055571792\n",
      "15800th row, 65.4257675\n",
      "15900th row, 65.770585584\n",
      "16000th row, 66.148145959\n",
      "16100th row, 66.523794917\n",
      "16200th row, 66.868079542\n",
      "16300th row, 67.277954209\n",
      "16400th row, 67.701536667\n",
      "16500th row, 68.146274792\n",
      "16600th row, 68.697744167\n",
      "16700th row, 69.22482037500001\n",
      "16800th row, 69.837027125\n",
      "16900th row, 70.54640195900001\n",
      "17000th row, 71.06423062500001\n",
      "17100th row, 71.55683875\n",
      "17200th row, 72.022844459\n",
      "17300th row, 72.546426959\n",
      "17400th row, 73.000787209\n",
      "17500th row, 73.468944459\n",
      "17600th row, 73.863260334\n",
      "17700th row, 74.320844417\n",
      "17800th row, 74.745320334\n",
      "17900th row, 75.33887495900001\n",
      "18000th row, 75.797253334\n",
      "18100th row, 76.269421209\n",
      "18200th row, 76.700058625\n",
      "18300th row, 77.104934834\n",
      "18400th row, 77.56096562500001\n",
      "18500th row, 78.006598459\n",
      "18600th row, 78.545551334\n",
      "18700th row, 79.039336667\n",
      "18800th row, 79.647270417\n",
      "18900th row, 80.188784459\n",
      "19000th row, 80.815065875\n",
      "19100th row, 81.347558542\n",
      "19200th row, 81.939340625\n",
      "19300th row, 82.63817975\n",
      "19400th row, 83.190946542\n",
      "19500th row, 83.662439167\n",
      "19600th row, 84.142135\n",
      "19700th row, 84.613752709\n",
      "19800th row, 85.155334917\n",
      "19900th row, 85.754051459\n"
     ]
    }
   ],
   "source": [
    "partial_series = target_df.loc[START:END, COLUMN_NAME]\n",
    "\n",
    "start = timeit.default_timer()\n",
    "for index, value in partial_series.items():\n",
    "    if index % 100 == 0:\n",
    "        stop = timeit.default_timer()\n",
    "        print(f\"{index}th row, {stop - start}\")\n",
    "    terms = await get_terms(value)\n",
    "    dictionary_df = pd.concat([dictionary_df, pd.DataFrame(data=terms, columns=[\"dictionary\"])], ignore_index=True)"
   ]
  },
  {
   "cell_type": "code",
   "execution_count": 15,
   "id": "5a36c5bb-696d-41e8-8c72-d80eff962426",
   "metadata": {},
   "outputs": [
    {
     "data": {
      "text/html": [
       "<div>\n",
       "<style scoped>\n",
       "    .dataframe tbody tr th:only-of-type {\n",
       "        vertical-align: middle;\n",
       "    }\n",
       "\n",
       "    .dataframe tbody tr th {\n",
       "        vertical-align: top;\n",
       "    }\n",
       "\n",
       "    .dataframe thead th {\n",
       "        text-align: right;\n",
       "    }\n",
       "</style>\n",
       "<table border=\"1\" class=\"dataframe\">\n",
       "  <thead>\n",
       "    <tr style=\"text-align: right;\">\n",
       "      <th></th>\n",
       "      <th>dictionary</th>\n",
       "    </tr>\n",
       "  </thead>\n",
       "  <tbody>\n",
       "    <tr>\n",
       "      <th>0</th>\n",
       "      <td>안산시</td>\n",
       "    </tr>\n",
       "    <tr>\n",
       "      <th>1</th>\n",
       "      <td>안산</td>\n",
       "    </tr>\n",
       "    <tr>\n",
       "      <th>2</th>\n",
       "      <td>시</td>\n",
       "    </tr>\n",
       "    <tr>\n",
       "      <th>3</th>\n",
       "      <td>생활</td>\n",
       "    </tr>\n",
       "    <tr>\n",
       "      <th>4</th>\n",
       "      <td>임금</td>\n",
       "    </tr>\n",
       "  </tbody>\n",
       "</table>\n",
       "</div>"
      ],
      "text/plain": [
       "  dictionary\n",
       "0        안산시\n",
       "1         안산\n",
       "2          시\n",
       "3         생활\n",
       "4         임금"
      ]
     },
     "execution_count": 15,
     "metadata": {},
     "output_type": "execute_result"
    }
   ],
   "source": [
    "dictionary_df.head()"
   ]
  },
  {
   "cell_type": "code",
   "execution_count": 16,
   "id": "61bc5f6f-83c3-44fd-b4f8-24ae67c28ae0",
   "metadata": {},
   "outputs": [
    {
     "data": {
      "text/plain": [
       "(185667, 1)"
      ]
     },
     "execution_count": 16,
     "metadata": {},
     "output_type": "execute_result"
    }
   ],
   "source": [
    "dictionary_df.shape"
   ]
  },
  {
   "cell_type": "code",
   "execution_count": 21,
   "id": "8b475e90-9a57-4706-b861-14c62250cfbb",
   "metadata": {},
   "outputs": [
    {
     "data": {
      "text/plain": [
       "(185667, 1)"
      ]
     },
     "execution_count": 21,
     "metadata": {},
     "output_type": "execute_result"
    }
   ],
   "source": [
    "dict_series = dictionary_df[\"dictionary\"]\n",
    "dict_series = dict_series.drop_duplicates(ignore_index=True)\n",
    "dict_series = dict_series.sort_values(ignore_index=True)\n",
    "len(dict_series)"
   ]
  },
  {
   "cell_type": "code",
   "execution_count": 25,
   "id": "f1a922e5-91c7-4666-bdb8-30ff5f6c9096",
   "metadata": {},
   "outputs": [
    {
     "data": {
      "text/html": [
       "<div>\n",
       "<style scoped>\n",
       "    .dataframe tbody tr th:only-of-type {\n",
       "        vertical-align: middle;\n",
       "    }\n",
       "\n",
       "    .dataframe tbody tr th {\n",
       "        vertical-align: top;\n",
       "    }\n",
       "\n",
       "    .dataframe thead th {\n",
       "        text-align: right;\n",
       "    }\n",
       "</style>\n",
       "<table border=\"1\" class=\"dataframe\">\n",
       "  <thead>\n",
       "    <tr style=\"text-align: right;\">\n",
       "      <th></th>\n",
       "      <th>dictionary</th>\n",
       "    </tr>\n",
       "  </thead>\n",
       "  <tbody>\n",
       "    <tr>\n",
       "      <th>0</th>\n",
       "      <td>가</td>\n",
       "    </tr>\n",
       "    <tr>\n",
       "      <th>1</th>\n",
       "      <td>가가</td>\n",
       "    </tr>\n",
       "    <tr>\n",
       "      <th>2</th>\n",
       "      <td>가감</td>\n",
       "    </tr>\n",
       "    <tr>\n",
       "      <th>3</th>\n",
       "      <td>가게</td>\n",
       "    </tr>\n",
       "    <tr>\n",
       "      <th>4</th>\n",
       "      <td>가격</td>\n",
       "    </tr>\n",
       "  </tbody>\n",
       "</table>\n",
       "</div>"
      ],
      "text/plain": [
       "  dictionary\n",
       "0          가\n",
       "1         가가\n",
       "2         가감\n",
       "3         가게\n",
       "4         가격"
      ]
     },
     "execution_count": 25,
     "metadata": {},
     "output_type": "execute_result"
    }
   ],
   "source": [
    "new_dict_df.head()"
   ]
  },
  {
   "cell_type": "code",
   "execution_count": 23,
   "id": "63b23c9e-4061-40ca-92f1-013a99e2009d",
   "metadata": {},
   "outputs": [
    {
     "data": {
      "text/plain": [
       "(20430, 1)"
      ]
     },
     "execution_count": 23,
     "metadata": {},
     "output_type": "execute_result"
    }
   ],
   "source": [
    "new_dict_df = pd.DataFrame(data=dict_series, columns=[\"dictionary\"])\n",
    "new_dict_df.shape"
   ]
  },
  {
   "cell_type": "code",
   "execution_count": 28,
   "id": "4a97ce85-725a-4fde-b954-90162b365dd8",
   "metadata": {},
   "outputs": [],
   "source": [
    "new_dict_df.to_csv(join(pre_path, f\"dictionary_{I}.csv\"), index=False, encoding=\"utf-8-sig\")"
   ]
  },
  {
   "cell_type": "code",
   "execution_count": 27,
   "id": "56131032-fd2f-4413-a55e-18a40f3035d5",
   "metadata": {},
   "outputs": [],
   "source": [
    "await es_client.close()"
   ]
  },
  {
   "cell_type": "code",
   "execution_count": null,
   "id": "3fb1d7af-c8d9-4cb2-9aa6-aefddf07c802",
   "metadata": {},
   "outputs": [],
   "source": []
  }
 ],
 "metadata": {
  "kernelspec": {
   "display_name": "es-ojt-data",
   "language": "python",
   "name": "es-ojt-data"
  },
  "language_info": {
   "codemirror_mode": {
    "name": "ipython",
    "version": 3
   },
   "file_extension": ".py",
   "mimetype": "text/x-python",
   "name": "python",
   "nbconvert_exporter": "python",
   "pygments_lexer": "ipython3",
   "version": "3.9.5"
  }
 },
 "nbformat": 4,
 "nbformat_minor": 5
}
