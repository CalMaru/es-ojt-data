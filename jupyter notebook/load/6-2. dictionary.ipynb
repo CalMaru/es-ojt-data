{
 "cells": [
  {
   "cell_type": "code",
   "execution_count": 1,
   "id": "71006f43-e9de-425e-9c4c-265f7790fc9f",
   "metadata": {},
   "outputs": [],
   "source": [
    "COLUMN_NAME = \"content\"\n",
    "I = 1\n",
    "START = (I - 1) * 20000\n",
    "END = START + 19999"
   ]
  },
  {
   "cell_type": "markdown",
   "id": "7cf36b8c-9cde-40b2-a848-ff8d5e03f14a",
   "metadata": {},
   "source": [
    "# Dictionary 적재"
   ]
  },
  {
   "cell_type": "code",
   "execution_count": 2,
   "id": "54e16471-fd57-4ddd-92c5-03723c9de43a",
   "metadata": {},
   "outputs": [],
   "source": [
    "from pathlib import Path\n",
    "import os\n",
    "\n",
    "os.chdir(Path(os.getcwd()).parent.parent)"
   ]
  },
  {
   "cell_type": "code",
   "execution_count": 3,
   "id": "0838e4c4-5c10-46e4-a135-bc0f8284cd42",
   "metadata": {},
   "outputs": [],
   "source": [
    "from os.path import join\n",
    "\n",
    "import json\n",
    "import ast\n",
    "import timeit\n",
    "\n",
    "import pandas as pd\n",
    "import numpy as np\n",
    "from elasticsearch import AsyncElasticsearch\n",
    "from collections import Counter"
   ]
  },
  {
   "cell_type": "code",
   "execution_count": 4,
   "id": "dd10c765-50a2-4b32-9927-2c286f2a490e",
   "metadata": {},
   "outputs": [],
   "source": [
    "root_path = os.getcwd()\n",
    "data_path = join(os.getcwd(), \"data\")\n",
    "raw_path = join(data_path, \"raw\")\n",
    "pre_path = join(data_path, \"preprocessing\")\n",
    "bulk_path = join(data_path, \"bulk\")"
   ]
  },
  {
   "cell_type": "markdown",
   "id": "8d71b1f5-f8da-46c0-bccb-8a17e6e6a2cc",
   "metadata": {},
   "source": [
    "## Elasticsearch client"
   ]
  },
  {
   "cell_type": "code",
   "execution_count": 5,
   "id": "a876c322-e981-44f0-9015-b496ce15a3f2",
   "metadata": {},
   "outputs": [],
   "source": [
    "async def close(es_client: AsyncElasticsearch):\n",
    "    await es_client.close()"
   ]
  },
  {
   "cell_type": "code",
   "execution_count": 6,
   "id": "2d5ffdd1-b814-4da0-94d1-8df4812c2cae",
   "metadata": {},
   "outputs": [],
   "source": [
    "es_config = {\n",
    "    \"hosts\": \"http://localhost:9200\",\n",
    "    \"http_auth\": (\"elastic\", \"42maru\"),\n",
    "    \"scheme\": \"http\"\n",
    "}"
   ]
  },
  {
   "cell_type": "code",
   "execution_count": 7,
   "id": "1cfabc59-bf6b-4579-bb2d-40899e192831",
   "metadata": {},
   "outputs": [],
   "source": [
    "es_client = AsyncElasticsearch(**es_config)"
   ]
  },
  {
   "cell_type": "markdown",
   "id": "c8761411-2381-4473-96f1-a06e7e2ecd86",
   "metadata": {},
   "source": [
    "## Load news_data_20000.csv"
   ]
  },
  {
   "cell_type": "code",
   "execution_count": 8,
   "id": "08a613ff-5228-45d7-b206-57bfca8c8003",
   "metadata": {},
   "outputs": [],
   "source": [
    "target_name = \"news\"\n",
    "target_file_name = \"news_data_20000.csv\""
   ]
  },
  {
   "cell_type": "code",
   "execution_count": 9,
   "id": "a73d472e-fb22-4498-9384-5a8e01150c33",
   "metadata": {},
   "outputs": [],
   "source": [
    "target_df = pd.read_csv(join(raw_path, target_file_name))[[\"title\", \"content\"]]"
   ]
  },
  {
   "cell_type": "code",
   "execution_count": 10,
   "id": "b38a58f5-cbd4-44c2-8cab-2d4e5f7898a5",
   "metadata": {},
   "outputs": [
    {
     "data": {
      "text/html": [
       "<div>\n",
       "<style scoped>\n",
       "    .dataframe tbody tr th:only-of-type {\n",
       "        vertical-align: middle;\n",
       "    }\n",
       "\n",
       "    .dataframe tbody tr th {\n",
       "        vertical-align: top;\n",
       "    }\n",
       "\n",
       "    .dataframe thead th {\n",
       "        text-align: right;\n",
       "    }\n",
       "</style>\n",
       "<table border=\"1\" class=\"dataframe\">\n",
       "  <thead>\n",
       "    <tr style=\"text-align: right;\">\n",
       "      <th></th>\n",
       "      <th>title</th>\n",
       "      <th>content</th>\n",
       "    </tr>\n",
       "  </thead>\n",
       "  <tbody>\n",
       "    <tr>\n",
       "      <th>0</th>\n",
       "      <td>안산시, 생활임금 시급 1만500원 의결</td>\n",
       "      <td>[헤럴드경제(안산)=박정규 기자]안산시(시장 윤화섭) 생활임금위원회는 2022년 생...</td>\n",
       "    </tr>\n",
       "    <tr>\n",
       "      <th>1</th>\n",
       "      <td>울산 하이본 병원, 6월부터 본격 진료 \"척추와 관절 분야 전문\"</td>\n",
       "      <td>척추와 관절 분야 전문인 울산 하이본 병원이 6월부터 본격 진료를 시작했다. \\n\\...</td>\n",
       "    </tr>\n",
       "    <tr>\n",
       "      <th>2</th>\n",
       "      <td>금융권 최초 공동 정보지갑서비스 출시…1호 증명서는 '뱅크아이디'</td>\n",
       "      <td>[아시아경제 송승섭 기자]금융분산ID 추진 협의회는 국내 최초 정보지갑인 마이인포에...</td>\n",
       "    </tr>\n",
       "    <tr>\n",
       "      <th>3</th>\n",
       "      <td>“총장 후보자 수사심의위 신청은 모순” “정치적 수단 전락”</td>\n",
       "      <td>서울 서초구 대검찰청 검찰기. 연합뉴스 “정치적 중립성을 지키고 수사 결정 전 과정...</td>\n",
       "    </tr>\n",
       "    <tr>\n",
       "      <th>4</th>\n",
       "      <td>[인사]현대해상</td>\n",
       "      <td>◆현대해상 ◇임원 전보 △리스크관리본부장 홍사경 △고객지원본부장 황미은 △CCO 윤...</td>\n",
       "    </tr>\n",
       "  </tbody>\n",
       "</table>\n",
       "</div>"
      ],
      "text/plain": [
       "                                  title  \\\n",
       "0                안산시, 생활임금 시급 1만500원 의결   \n",
       "1  울산 하이본 병원, 6월부터 본격 진료 \"척추와 관절 분야 전문\"   \n",
       "2  금융권 최초 공동 정보지갑서비스 출시…1호 증명서는 '뱅크아이디'   \n",
       "3     “총장 후보자 수사심의위 신청은 모순” “정치적 수단 전락”   \n",
       "4                              [인사]현대해상   \n",
       "\n",
       "                                             content  \n",
       "0  [헤럴드경제(안산)=박정규 기자]안산시(시장 윤화섭) 생활임금위원회는 2022년 생...  \n",
       "1  척추와 관절 분야 전문인 울산 하이본 병원이 6월부터 본격 진료를 시작했다. \\n\\...  \n",
       "2  [아시아경제 송승섭 기자]금융분산ID 추진 협의회는 국내 최초 정보지갑인 마이인포에...  \n",
       "3  서울 서초구 대검찰청 검찰기. 연합뉴스 “정치적 중립성을 지키고 수사 결정 전 과정...  \n",
       "4  ◆현대해상 ◇임원 전보 △리스크관리본부장 홍사경 △고객지원본부장 황미은 △CCO 윤...  "
      ]
     },
     "execution_count": 10,
     "metadata": {},
     "output_type": "execute_result"
    }
   ],
   "source": [
    "target_df.head()"
   ]
  },
  {
   "cell_type": "markdown",
   "id": "5019fbc1-a99d-49b0-96e4-f879d4fd1347",
   "metadata": {},
   "source": [
    "## ddd"
   ]
  },
  {
   "cell_type": "code",
   "execution_count": 11,
   "id": "6c85f24c-e616-4f92-9973-3c5304c35846",
   "metadata": {},
   "outputs": [],
   "source": [
    "async def get_terms(query: str) -> list[str]:\n",
    "    response = await es_client.indices.analyze(\n",
    "        index=\"dictionary\",\n",
    "        body={\n",
    "            \"analyzer\": \"korean_mixed_analyzer\",\n",
    "            \"text\": query\n",
    "        }\n",
    "    )\n",
    "    terms = [token[\"token\"] for token in response[\"tokens\"]]\n",
    "    return list(Counter(terms))"
   ]
  },
  {
   "cell_type": "code",
   "execution_count": 12,
   "id": "5f3115e2-73c5-494f-827e-f4993da7d9bf",
   "metadata": {},
   "outputs": [],
   "source": [
    "terms = await get_terms(\"안산시, 생활임금 시급 1만500원 의결\")"
   ]
  },
  {
   "cell_type": "markdown",
   "id": "e736467a-f6ee-40dd-808a-3dd60ae83a69",
   "metadata": {},
   "source": [
    "## fff"
   ]
  },
  {
   "cell_type": "code",
   "execution_count": 13,
   "id": "6c42921c-4904-4b9f-8265-2465b3a2f8e6",
   "metadata": {},
   "outputs": [],
   "source": [
    "dictionary_df = pd.DataFrame(columns=[\"dictionary\"])"
   ]
  },
  {
   "cell_type": "code",
   "execution_count": 14,
   "id": "3e4ee279-2521-463e-b261-98b0e86d54eb",
   "metadata": {},
   "outputs": [
    {
     "name": "stdout",
     "output_type": "stream",
     "text": [
      "0th row, 8.562499999964501e-05\n",
      "100th row, 0.4319714579999996\n",
      "200th row, 0.9411792080000003\n",
      "300th row, 1.4020822079999995\n",
      "400th row, 1.9199462499999997\n",
      "500th row, 2.46599275\n",
      "600th row, 3.134784917\n",
      "700th row, 3.6873559579999995\n",
      "800th row, 4.226666583\n",
      "900th row, 4.7891797920000005\n",
      "1000th row, 5.40172175\n",
      "1100th row, 5.920452542\n",
      "1200th row, 6.433045207999999\n",
      "1300th row, 7.077325875\n",
      "1400th row, 7.807831332999999\n",
      "1500th row, 8.403308707999999\n",
      "1600th row, 8.979479583\n",
      "1700th row, 9.537917292\n",
      "1800th row, 10.270692541999999\n",
      "1900th row, 10.85922375\n",
      "2000th row, 11.49976075\n",
      "2100th row, 12.146882332999999\n",
      "2200th row, 12.775832792000001\n",
      "2300th row, 13.463917167\n",
      "2400th row, 14.133349832999999\n",
      "2500th row, 14.831604042\n",
      "2600th row, 15.484729958\n",
      "2700th row, 16.206206792000003\n",
      "2800th row, 16.935765916999998\n",
      "2900th row, 17.647917874999997\n",
      "3000th row, 18.311192083\n",
      "3100th row, 18.964965458\n",
      "3200th row, 19.636684291999998\n",
      "3300th row, 20.37875925\n",
      "3400th row, 21.111317375\n",
      "3500th row, 21.862433333\n",
      "3600th row, 22.604693958\n",
      "3700th row, 23.337870208\n",
      "3800th row, 24.099631541999997\n",
      "3900th row, 24.869135917\n",
      "4000th row, 25.610307833\n",
      "4100th row, 26.488318583\n",
      "4200th row, 27.282353125\n",
      "4300th row, 28.163123333\n",
      "4400th row, 29.02924275\n",
      "4500th row, 29.850939125000004\n",
      "4600th row, 30.716509125\n",
      "4700th row, 31.609413833000005\n",
      "4800th row, 32.522912125000005\n",
      "4900th row, 33.495083167000004\n",
      "5000th row, 34.426899958\n",
      "5100th row, 35.438246792\n",
      "5200th row, 36.348584583000004\n",
      "5300th row, 37.341155458\n",
      "5400th row, 38.339286\n",
      "5500th row, 39.301438167\n",
      "5600th row, 40.361810208\n",
      "5700th row, 41.356889333000005\n",
      "5800th row, 42.39424725\n",
      "5900th row, 43.396932625000005\n",
      "6000th row, 44.423848875000004\n",
      "6100th row, 45.497187875\n",
      "6200th row, 46.580235583000004\n",
      "6300th row, 47.730782667\n",
      "6400th row, 48.827770667\n",
      "6500th row, 49.934615917\n",
      "6600th row, 51.081684083\n",
      "6700th row, 52.200507792\n",
      "6800th row, 53.4053965\n",
      "6900th row, 54.650761167\n",
      "7000th row, 55.838762292\n",
      "7100th row, 57.110427875\n",
      "7200th row, 58.342254042\n",
      "7300th row, 59.625476958\n",
      "7400th row, 60.939805458\n",
      "7500th row, 62.18705537500001\n",
      "7600th row, 63.438911\n",
      "7700th row, 64.673405875\n",
      "7800th row, 65.992964667\n",
      "7900th row, 67.242692333\n",
      "8000th row, 68.724362417\n",
      "8100th row, 70.12713124999999\n",
      "8200th row, 71.479563833\n",
      "8300th row, 72.81087199999999\n",
      "8400th row, 74.215753708\n",
      "8500th row, 75.55489329199999\n",
      "8600th row, 77.049979\n",
      "8700th row, 78.502025167\n",
      "8800th row, 79.963439583\n",
      "8900th row, 81.46821262499999\n",
      "9000th row, 82.89826491699999\n",
      "9100th row, 84.386288083\n",
      "9200th row, 85.796730042\n",
      "9300th row, 87.321804125\n",
      "9400th row, 88.979969375\n",
      "9500th row, 90.482715708\n",
      "9600th row, 92.07692937499999\n",
      "9700th row, 93.707078875\n",
      "9800th row, 95.36066970799999\n",
      "9900th row, 96.86093566699999\n",
      "10000th row, 98.455852\n",
      "10100th row, 100.098628042\n",
      "10200th row, 101.81843225\n",
      "10300th row, 103.366739375\n",
      "10400th row, 105.06313891699999\n",
      "10500th row, 106.69705512499999\n",
      "10600th row, 108.36253587499999\n",
      "10700th row, 110.08150925\n",
      "10800th row, 111.897791208\n",
      "10900th row, 113.638729375\n",
      "11000th row, 115.249127625\n",
      "11100th row, 117.088609042\n",
      "11200th row, 118.861891875\n",
      "11300th row, 120.61310558299999\n",
      "11400th row, 122.438841833\n",
      "11500th row, 124.299545708\n",
      "11600th row, 126.19206412499999\n",
      "11700th row, 128.095705458\n",
      "11800th row, 129.97691225\n",
      "11900th row, 131.995800667\n",
      "12000th row, 134.01001654200002\n",
      "12100th row, 135.930127375\n",
      "12200th row, 137.906648458\n",
      "12300th row, 139.868013708\n",
      "12400th row, 141.84209716700002\n",
      "12500th row, 143.70193225\n",
      "12600th row, 145.69383825\n",
      "12700th row, 147.79769891700002\n",
      "12800th row, 149.838224292\n",
      "12900th row, 151.82127762500002\n",
      "13000th row, 153.881517083\n",
      "13100th row, 155.98309625000002\n",
      "13200th row, 158.145345208\n",
      "13300th row, 160.23221666700002\n",
      "13400th row, 162.27214145800002\n",
      "13500th row, 164.30462358300002\n",
      "13600th row, 166.438582542\n",
      "13700th row, 168.581125542\n",
      "13800th row, 170.873136167\n",
      "13900th row, 172.95477241700002\n",
      "14000th row, 175.117563708\n",
      "14100th row, 177.369031083\n",
      "14200th row, 179.599570375\n",
      "14300th row, 181.9324665\n",
      "14400th row, 184.05249875\n",
      "14500th row, 186.362722625\n",
      "14600th row, 188.62740125000002\n",
      "14700th row, 190.89166825\n",
      "14800th row, 193.90711575\n",
      "14900th row, 196.947432875\n",
      "15000th row, 200.106763083\n",
      "15100th row, 202.95466158300002\n",
      "15200th row, 205.607419375\n",
      "15300th row, 208.230409667\n",
      "15400th row, 210.73125050000002\n",
      "15500th row, 213.51347620800001\n",
      "15600th row, 216.42744083300002\n",
      "15700th row, 219.080127083\n",
      "15800th row, 221.74089262500001\n",
      "15900th row, 224.75591837500002\n",
      "16000th row, 228.09892083300002\n",
      "16100th row, 231.22185595800002\n",
      "16200th row, 234.993859875\n",
      "16300th row, 238.16801808300002\n",
      "16400th row, 240.989306833\n",
      "16500th row, 244.001636542\n",
      "16600th row, 247.162229708\n",
      "16700th row, 250.12451791700002\n",
      "16800th row, 253.59536162499998\n",
      "16900th row, 257.203896375\n",
      "17000th row, 260.034609667\n",
      "17100th row, 263.5075885\n",
      "17200th row, 266.414564167\n",
      "17300th row, 269.398268375\n",
      "17400th row, 273.07412462499997\n",
      "17500th row, 276.629499792\n",
      "17600th row, 279.57098404199996\n",
      "17700th row, 282.48148583299997\n",
      "17800th row, 286.128965042\n",
      "17900th row, 289.1641585\n",
      "18000th row, 292.235797292\n",
      "18100th row, 295.661126917\n",
      "18200th row, 299.787238\n",
      "18300th row, 303.030369125\n",
      "18400th row, 306.301162375\n",
      "18500th row, 309.40457575\n",
      "18600th row, 312.56565829199997\n",
      "18700th row, 316.17260141699995\n",
      "18800th row, 320.067154375\n",
      "18900th row, 323.40900579199996\n",
      "19000th row, 326.827915958\n",
      "19100th row, 330.46340462499995\n",
      "19200th row, 334.40429391699996\n",
      "19300th row, 338.393421667\n",
      "19400th row, 342.07172987499996\n",
      "19500th row, 346.122380875\n",
      "19600th row, 349.947905667\n",
      "19700th row, 353.90712149999996\n",
      "19800th row, 357.495343458\n",
      "19900th row, 361.20855424999996\n"
     ]
    }
   ],
   "source": [
    "partial_series = target_df.loc[START:END, COLUMN_NAME]\n",
    "\n",
    "start = timeit.default_timer()\n",
    "for index, value in partial_series.items():\n",
    "    if index % 100 == 0:\n",
    "        stop = timeit.default_timer()\n",
    "        print(f\"{index}th row, {stop - start}\")\n",
    "    terms = await get_terms(value)\n",
    "    dictionary_df = pd.concat([dictionary_df, pd.DataFrame(data=terms, columns=[\"dictionary\"])], ignore_index=True)"
   ]
  },
  {
   "cell_type": "code",
   "execution_count": 15,
   "id": "5a36c5bb-696d-41e8-8c72-d80eff962426",
   "metadata": {},
   "outputs": [
    {
     "data": {
      "text/html": [
       "<div>\n",
       "<style scoped>\n",
       "    .dataframe tbody tr th:only-of-type {\n",
       "        vertical-align: middle;\n",
       "    }\n",
       "\n",
       "    .dataframe tbody tr th {\n",
       "        vertical-align: top;\n",
       "    }\n",
       "\n",
       "    .dataframe thead th {\n",
       "        text-align: right;\n",
       "    }\n",
       "</style>\n",
       "<table border=\"1\" class=\"dataframe\">\n",
       "  <thead>\n",
       "    <tr style=\"text-align: right;\">\n",
       "      <th></th>\n",
       "      <th>dictionary</th>\n",
       "    </tr>\n",
       "  </thead>\n",
       "  <tbody>\n",
       "    <tr>\n",
       "      <th>0</th>\n",
       "      <td>헤럴드</td>\n",
       "    </tr>\n",
       "    <tr>\n",
       "      <th>1</th>\n",
       "      <td>경제</td>\n",
       "    </tr>\n",
       "    <tr>\n",
       "      <th>2</th>\n",
       "      <td>안산</td>\n",
       "    </tr>\n",
       "    <tr>\n",
       "      <th>3</th>\n",
       "      <td>박정규</td>\n",
       "    </tr>\n",
       "    <tr>\n",
       "      <th>4</th>\n",
       "      <td>기자</td>\n",
       "    </tr>\n",
       "  </tbody>\n",
       "</table>\n",
       "</div>"
      ],
      "text/plain": [
       "  dictionary\n",
       "0        헤럴드\n",
       "1         경제\n",
       "2         안산\n",
       "3        박정규\n",
       "4         기자"
      ]
     },
     "execution_count": 15,
     "metadata": {},
     "output_type": "execute_result"
    }
   ],
   "source": [
    "dictionary_df.head()"
   ]
  },
  {
   "cell_type": "code",
   "execution_count": 16,
   "id": "61bc5f6f-83c3-44fd-b4f8-24ae67c28ae0",
   "metadata": {},
   "outputs": [
    {
     "data": {
      "text/plain": [
       "(2439344, 1)"
      ]
     },
     "execution_count": 16,
     "metadata": {},
     "output_type": "execute_result"
    }
   ],
   "source": [
    "dictionary_df.shape"
   ]
  },
  {
   "cell_type": "code",
   "execution_count": 17,
   "id": "8b475e90-9a57-4706-b861-14c62250cfbb",
   "metadata": {},
   "outputs": [
    {
     "data": {
      "text/plain": [
       "71714"
      ]
     },
     "execution_count": 17,
     "metadata": {},
     "output_type": "execute_result"
    }
   ],
   "source": [
    "dict_series = dictionary_df[\"dictionary\"]\n",
    "dict_series = dict_series.drop_duplicates(ignore_index=True)\n",
    "dict_series = dict_series.sort_values(ignore_index=True)\n",
    "len(dict_series)"
   ]
  },
  {
   "cell_type": "code",
   "execution_count": 18,
   "id": "ad7baa30-790d-4eac-93ca-b215a7236c83",
   "metadata": {},
   "outputs": [
    {
     "data": {
      "text/plain": [
       "(71714, 1)"
      ]
     },
     "execution_count": 18,
     "metadata": {},
     "output_type": "execute_result"
    }
   ],
   "source": [
    "new_dict_df = pd.DataFrame(data=dict_series, columns=[\"dictionary\"])\n",
    "new_dict_df.shape"
   ]
  },
  {
   "cell_type": "code",
   "execution_count": 19,
   "id": "079c92af-b4c7-40e4-adb4-71a46f73cdde",
   "metadata": {},
   "outputs": [
    {
     "data": {
      "text/html": [
       "<div>\n",
       "<style scoped>\n",
       "    .dataframe tbody tr th:only-of-type {\n",
       "        vertical-align: middle;\n",
       "    }\n",
       "\n",
       "    .dataframe tbody tr th {\n",
       "        vertical-align: top;\n",
       "    }\n",
       "\n",
       "    .dataframe thead th {\n",
       "        text-align: right;\n",
       "    }\n",
       "</style>\n",
       "<table border=\"1\" class=\"dataframe\">\n",
       "  <thead>\n",
       "    <tr style=\"text-align: right;\">\n",
       "      <th></th>\n",
       "      <th>dictionary</th>\n",
       "    </tr>\n",
       "  </thead>\n",
       "  <tbody>\n",
       "    <tr>\n",
       "      <th>0</th>\n",
       "      <td>read</td>\n",
       "    </tr>\n",
       "    <tr>\n",
       "      <th>1</th>\n",
       "      <td>ㄱ</td>\n",
       "    </tr>\n",
       "    <tr>\n",
       "      <th>2</th>\n",
       "      <td>ㄴ</td>\n",
       "    </tr>\n",
       "    <tr>\n",
       "      <th>3</th>\n",
       "      <td>ㄷ</td>\n",
       "    </tr>\n",
       "    <tr>\n",
       "      <th>4</th>\n",
       "      <td>ㄹ</td>\n",
       "    </tr>\n",
       "  </tbody>\n",
       "</table>\n",
       "</div>"
      ],
      "text/plain": [
       "  dictionary\n",
       "0       read\n",
       "1          ㄱ\n",
       "2          ㄴ\n",
       "3          ㄷ\n",
       "4          ㄹ"
      ]
     },
     "execution_count": 19,
     "metadata": {},
     "output_type": "execute_result"
    }
   ],
   "source": [
    "new_dict_df.head()"
   ]
  },
  {
   "cell_type": "code",
   "execution_count": 20,
   "id": "6e371643-194a-4d11-97dc-dfd047a51ed7",
   "metadata": {},
   "outputs": [],
   "source": [
    "new_dict_df.to_csv(join(pre_path, f\"dictionary_{I}.csv\"), index=False, encoding=\"utf-8-sig\")"
   ]
  },
  {
   "cell_type": "code",
   "execution_count": 21,
   "id": "34f4e160-765d-49eb-9535-4837177fde19",
   "metadata": {},
   "outputs": [],
   "source": [
    "await es_client.close()"
   ]
  },
  {
   "cell_type": "code",
   "execution_count": null,
   "id": "65324f21-82d8-4063-8ceb-dff4494b6ccc",
   "metadata": {},
   "outputs": [],
   "source": []
  }
 ],
 "metadata": {
  "kernelspec": {
   "display_name": "es-ojt-data",
   "language": "python",
   "name": "es-ojt-data"
  },
  "language_info": {
   "codemirror_mode": {
    "name": "ipython",
    "version": 3
   },
   "file_extension": ".py",
   "mimetype": "text/x-python",
   "name": "python",
   "nbconvert_exporter": "python",
   "pygments_lexer": "ipython3",
   "version": "3.9.5"
  }
 },
 "nbformat": 4,
 "nbformat_minor": 5
}
