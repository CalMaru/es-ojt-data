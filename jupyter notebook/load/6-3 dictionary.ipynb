{
 "cells": [
  {
   "cell_type": "code",
   "execution_count": 1,
   "id": "e7f38707-a5b5-42ed-a089-d53d85009c9e",
   "metadata": {},
   "outputs": [],
   "source": [
    "from pathlib import Path\n",
    "import os\n",
    "\n",
    "os.chdir(Path(os.getcwd()).parent.parent)"
   ]
  },
  {
   "cell_type": "code",
   "execution_count": 2,
   "id": "e8b786d6-48c0-44d8-8348-5838c0cdfd96",
   "metadata": {},
   "outputs": [],
   "source": [
    "from os.path import join\n",
    "\n",
    "import json\n",
    "import ast\n",
    "import timeit\n",
    "\n",
    "import pandas as pd\n",
    "import numpy as np\n",
    "from elasticsearch import AsyncElasticsearch\n",
    "from collections import Counter"
   ]
  },
  {
   "cell_type": "code",
   "execution_count": 3,
   "id": "433e065c-c9b2-4cb6-b346-813a2872d665",
   "metadata": {},
   "outputs": [],
   "source": [
    "root_path = os.getcwd()\n",
    "data_path = join(os.getcwd(), \"data\")\n",
    "raw_path = join(data_path, \"raw\")\n",
    "pre_path = join(data_path, \"preprocessing\")\n",
    "bulk_path = join(data_path, \"bulk\")"
   ]
  },
  {
   "cell_type": "markdown",
   "id": "e2ba590f-1ec0-456e-be74-6361635cd396",
   "metadata": {},
   "source": [
    "## Load dictionary_i.csv"
   ]
  },
  {
   "cell_type": "code",
   "execution_count": 4,
   "id": "86946480-55b3-4bab-ad71-dfe93767ba11",
   "metadata": {},
   "outputs": [],
   "source": [
    "dictionary_df = pd.DataFrame(columns=[\"dictionary\"])"
   ]
  },
  {
   "cell_type": "code",
   "execution_count": 5,
   "id": "d2592699-053a-474c-b6d4-6908c568198b",
   "metadata": {},
   "outputs": [
    {
     "name": "stdout",
     "output_type": "stream",
     "text": [
      "i: 0\n",
      "(20430, 1)\n",
      "i: 1\n",
      "(92144, 1)\n"
     ]
    }
   ],
   "source": [
    "for i in range(2):\n",
    "    print(f\"i: {i}\")\n",
    "    df = pd.read_csv(join(pre_path, f\"dictionary_{i}.csv\"))\n",
    "    dictionary_df = pd.concat([dictionary_df, df], ignore_index=True)\n",
    "    print(dictionary_df.shape)"
   ]
  },
  {
   "cell_type": "code",
   "execution_count": 6,
   "id": "48955b2c-a3a8-4e59-940f-afa16cb7a2c6",
   "metadata": {},
   "outputs": [
    {
     "data": {
      "text/plain": [
       "72091"
      ]
     },
     "execution_count": 6,
     "metadata": {},
     "output_type": "execute_result"
    }
   ],
   "source": [
    "dict_series = dictionary_df[\"dictionary\"]\n",
    "dict_series = dict_series.drop_duplicates(ignore_index=True)\n",
    "dict_series = dict_series.sort_values(ignore_index=True)\n",
    "len(dict_series)"
   ]
  },
  {
   "cell_type": "code",
   "execution_count": 7,
   "id": "f9ae0f0c-1bf7-4b08-b633-08401884a461",
   "metadata": {},
   "outputs": [
    {
     "data": {
      "text/plain": [
       "(72091, 1)"
      ]
     },
     "execution_count": 7,
     "metadata": {},
     "output_type": "execute_result"
    }
   ],
   "source": [
    "new_dict_df = pd.DataFrame(data=dict_series, columns=[\"dictionary\"])\n",
    "new_dict_df.shape"
   ]
  },
  {
   "cell_type": "code",
   "execution_count": 8,
   "id": "a75c6107-4266-43b8-9970-0cda527af35d",
   "metadata": {},
   "outputs": [
    {
     "data": {
      "text/html": [
       "<div>\n",
       "<style scoped>\n",
       "    .dataframe tbody tr th:only-of-type {\n",
       "        vertical-align: middle;\n",
       "    }\n",
       "\n",
       "    .dataframe tbody tr th {\n",
       "        vertical-align: top;\n",
       "    }\n",
       "\n",
       "    .dataframe thead th {\n",
       "        text-align: right;\n",
       "    }\n",
       "</style>\n",
       "<table border=\"1\" class=\"dataframe\">\n",
       "  <thead>\n",
       "    <tr style=\"text-align: right;\">\n",
       "      <th></th>\n",
       "      <th>dictionary</th>\n",
       "    </tr>\n",
       "  </thead>\n",
       "  <tbody>\n",
       "    <tr>\n",
       "      <th>0</th>\n",
       "      <td>read</td>\n",
       "    </tr>\n",
       "    <tr>\n",
       "      <th>1</th>\n",
       "      <td>ㄱ</td>\n",
       "    </tr>\n",
       "    <tr>\n",
       "      <th>2</th>\n",
       "      <td>ㄴ</td>\n",
       "    </tr>\n",
       "    <tr>\n",
       "      <th>3</th>\n",
       "      <td>ㄷ</td>\n",
       "    </tr>\n",
       "    <tr>\n",
       "      <th>4</th>\n",
       "      <td>ㄹ</td>\n",
       "    </tr>\n",
       "  </tbody>\n",
       "</table>\n",
       "</div>"
      ],
      "text/plain": [
       "  dictionary\n",
       "0       read\n",
       "1          ㄱ\n",
       "2          ㄴ\n",
       "3          ㄷ\n",
       "4          ㄹ"
      ]
     },
     "execution_count": 8,
     "metadata": {},
     "output_type": "execute_result"
    }
   ],
   "source": [
    "new_dict_df.head()"
   ]
  },
  {
   "cell_type": "code",
   "execution_count": 9,
   "id": "afa27694-a86a-4679-b8cf-ac4d404849ab",
   "metadata": {},
   "outputs": [],
   "source": [
    "new_dict_df.to_csv(join(pre_path, f\"dictionary.csv\"), index=False, encoding=\"utf-8-sig\")"
   ]
  },
  {
   "cell_type": "markdown",
   "id": "c65b262e-ec60-438e-95d1-79859d690bb9",
   "metadata": {},
   "source": [
    "## Bulk"
   ]
  },
  {
   "cell_type": "code",
   "execution_count": 14,
   "id": "9b9de274-2c15-46ef-a79d-c75bd1b1e6e3",
   "metadata": {},
   "outputs": [],
   "source": [
    "action_str = {\n",
    "    \"index\": {\n",
    "        \"_index\": \"dictionary\"\n",
    "    }\n",
    "}\n",
    "\n",
    "action = json.dumps(action_str)"
   ]
  },
  {
   "cell_type": "code",
   "execution_count": 15,
   "id": "4b8ab857-17b4-476f-b723-f2722665ca04",
   "metadata": {},
   "outputs": [],
   "source": [
    "bulk_data = \"\"\n",
    "\n",
    "count = 0\n",
    "for index, row in new_dict_df.iterrows():\n",
    "    row_dict = {\"item\": row[\"dictionary\"]}\n",
    "    row_bulk = json.dumps(row_dict, ensure_ascii=False)\n",
    "    bulk_data += f\"{action}\\n{row_bulk}\\n\""
   ]
  },
  {
   "cell_type": "code",
   "execution_count": 16,
   "id": "125eaba6-65f5-4331-87d8-e08f1b668ef6",
   "metadata": {},
   "outputs": [],
   "source": [
    "with open(join(bulk_path, \"dictionary.json\"), \"w\", encoding=\"utf-8\") as json_file:\n",
    "    json_file.write(bulk_data)"
   ]
  },
  {
   "cell_type": "code",
   "execution_count": null,
   "id": "58258a5b-abeb-4c45-ba82-9ed5f4a5e141",
   "metadata": {},
   "outputs": [],
   "source": []
  }
 ],
 "metadata": {
  "kernelspec": {
   "display_name": "es-ojt-data",
   "language": "python",
   "name": "es-ojt-data"
  },
  "language_info": {
   "codemirror_mode": {
    "name": "ipython",
    "version": 3
   },
   "file_extension": ".py",
   "mimetype": "text/x-python",
   "name": "python",
   "nbconvert_exporter": "python",
   "pygments_lexer": "ipython3",
   "version": "3.9.5"
  }
 },
 "nbformat": 4,
 "nbformat_minor": 5
}
