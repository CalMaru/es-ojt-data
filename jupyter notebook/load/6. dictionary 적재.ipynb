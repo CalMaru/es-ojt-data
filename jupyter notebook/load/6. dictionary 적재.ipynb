{
 "cells": [
  {
   "cell_type": "markdown",
   "id": "7cf36b8c-9cde-40b2-a848-ff8d5e03f14a",
   "metadata": {},
   "source": [
    "# Dictionary 적재"
   ]
  },
  {
   "cell_type": "code",
   "execution_count": 1,
   "id": "54e16471-fd57-4ddd-92c5-03723c9de43a",
   "metadata": {},
   "outputs": [],
   "source": [
    "from pathlib import Path\n",
    "import os\n",
    "\n",
    "os.chdir(Path(os.getcwd()).parent.parent)"
   ]
  },
  {
   "cell_type": "code",
   "execution_count": 49,
   "id": "0838e4c4-5c10-46e4-a135-bc0f8284cd42",
   "metadata": {},
   "outputs": [],
   "source": [
    "from os.path import join\n",
    "\n",
    "import json\n",
    "import ast\n",
    "import timeit\n",
    "\n",
    "import pandas as pd\n",
    "import numpy as np\n",
    "from elasticsearch import AsyncElasticsearch\n",
    "from collections import Counter"
   ]
  },
  {
   "cell_type": "code",
   "execution_count": 3,
   "id": "dd10c765-50a2-4b32-9927-2c286f2a490e",
   "metadata": {},
   "outputs": [],
   "source": [
    "root_path = os.getcwd()\n",
    "data_path = join(os.getcwd(), \"data\")\n",
    "raw_path = join(data_path, \"raw\")\n",
    "pre_path = join(data_path, \"preprocessing\")\n",
    "bulk_path = join(data_path, \"bulk\")"
   ]
  },
  {
   "cell_type": "markdown",
   "id": "8d71b1f5-f8da-46c0-bccb-8a17e6e6a2cc",
   "metadata": {},
   "source": [
    "## Elasticsearch client"
   ]
  },
  {
   "cell_type": "code",
   "execution_count": 13,
   "id": "a876c322-e981-44f0-9015-b496ce15a3f2",
   "metadata": {},
   "outputs": [],
   "source": [
    "async def close(es_client: AsyncElasticsearch):\n",
    "    await es_client.close()"
   ]
  },
  {
   "cell_type": "code",
   "execution_count": 15,
   "id": "2d5ffdd1-b814-4da0-94d1-8df4812c2cae",
   "metadata": {},
   "outputs": [],
   "source": [
    "es_config = {\n",
    "    \"hosts\": \"http://localhost:9200\",\n",
    "    \"http_auth\": (\"elastic\", \"42maru\"),\n",
    "    \"scheme\": \"http\"\n",
    "}"
   ]
  },
  {
   "cell_type": "code",
   "execution_count": 16,
   "id": "1cfabc59-bf6b-4579-bb2d-40899e192831",
   "metadata": {},
   "outputs": [],
   "source": [
    "es_client = AsyncElasticsearch(**es_config)"
   ]
  },
  {
   "cell_type": "code",
   "execution_count": null,
   "id": "d4edee35-1148-4d05-8fae-d2e9eb2db998",
   "metadata": {},
   "outputs": [],
   "source": [
    "es_client.close()"
   ]
  },
  {
   "cell_type": "markdown",
   "id": "c8761411-2381-4473-96f1-a06e7e2ecd86",
   "metadata": {},
   "source": [
    "## Load news_data_20000.csv"
   ]
  },
  {
   "cell_type": "code",
   "execution_count": 4,
   "id": "08a613ff-5228-45d7-b206-57bfca8c8003",
   "metadata": {},
   "outputs": [],
   "source": [
    "target_name = \"news\"\n",
    "target_file_name = \"news_data_20000.csv\""
   ]
  },
  {
   "cell_type": "code",
   "execution_count": 10,
   "id": "a73d472e-fb22-4498-9384-5a8e01150c33",
   "metadata": {},
   "outputs": [],
   "source": [
    "target_df = pd.read_csv(join(raw_path, target_file_name))[[\"title\", \"content\"]]"
   ]
  },
  {
   "cell_type": "code",
   "execution_count": 11,
   "id": "b38a58f5-cbd4-44c2-8cab-2d4e5f7898a5",
   "metadata": {},
   "outputs": [
    {
     "data": {
      "text/html": [
       "<div>\n",
       "<style scoped>\n",
       "    .dataframe tbody tr th:only-of-type {\n",
       "        vertical-align: middle;\n",
       "    }\n",
       "\n",
       "    .dataframe tbody tr th {\n",
       "        vertical-align: top;\n",
       "    }\n",
       "\n",
       "    .dataframe thead th {\n",
       "        text-align: right;\n",
       "    }\n",
       "</style>\n",
       "<table border=\"1\" class=\"dataframe\">\n",
       "  <thead>\n",
       "    <tr style=\"text-align: right;\">\n",
       "      <th></th>\n",
       "      <th>title</th>\n",
       "      <th>content</th>\n",
       "    </tr>\n",
       "  </thead>\n",
       "  <tbody>\n",
       "    <tr>\n",
       "      <th>0</th>\n",
       "      <td>안산시, 생활임금 시급 1만500원 의결</td>\n",
       "      <td>[헤럴드경제(안산)=박정규 기자]안산시(시장 윤화섭) 생활임금위원회는 2022년 생...</td>\n",
       "    </tr>\n",
       "    <tr>\n",
       "      <th>1</th>\n",
       "      <td>울산 하이본 병원, 6월부터 본격 진료 \"척추와 관절 분야 전문\"</td>\n",
       "      <td>척추와 관절 분야 전문인 울산 하이본 병원이 6월부터 본격 진료를 시작했다. \\r\\...</td>\n",
       "    </tr>\n",
       "    <tr>\n",
       "      <th>2</th>\n",
       "      <td>금융권 최초 공동 정보지갑서비스 출시…1호 증명서는 '뱅크아이디'</td>\n",
       "      <td>[아시아경제 송승섭 기자]금융분산ID 추진 협의회는 국내 최초 정보지갑인 마이인포에...</td>\n",
       "    </tr>\n",
       "    <tr>\n",
       "      <th>3</th>\n",
       "      <td>“총장 후보자 수사심의위 신청은 모순” “정치적 수단 전락”</td>\n",
       "      <td>서울 서초구 대검찰청 검찰기. 연합뉴스 “정치적 중립성을 지키고 수사 결정 전 과정...</td>\n",
       "    </tr>\n",
       "    <tr>\n",
       "      <th>4</th>\n",
       "      <td>[인사]현대해상</td>\n",
       "      <td>◆현대해상 ◇임원 전보 △리스크관리본부장 홍사경 △고객지원본부장 황미은 △CCO 윤...</td>\n",
       "    </tr>\n",
       "  </tbody>\n",
       "</table>\n",
       "</div>"
      ],
      "text/plain": [
       "                                  title  \\\n",
       "0                안산시, 생활임금 시급 1만500원 의결   \n",
       "1  울산 하이본 병원, 6월부터 본격 진료 \"척추와 관절 분야 전문\"   \n",
       "2  금융권 최초 공동 정보지갑서비스 출시…1호 증명서는 '뱅크아이디'   \n",
       "3     “총장 후보자 수사심의위 신청은 모순” “정치적 수단 전락”   \n",
       "4                              [인사]현대해상   \n",
       "\n",
       "                                             content  \n",
       "0  [헤럴드경제(안산)=박정규 기자]안산시(시장 윤화섭) 생활임금위원회는 2022년 생...  \n",
       "1  척추와 관절 분야 전문인 울산 하이본 병원이 6월부터 본격 진료를 시작했다. \\r\\...  \n",
       "2  [아시아경제 송승섭 기자]금융분산ID 추진 협의회는 국내 최초 정보지갑인 마이인포에...  \n",
       "3  서울 서초구 대검찰청 검찰기. 연합뉴스 “정치적 중립성을 지키고 수사 결정 전 과정...  \n",
       "4  ◆현대해상 ◇임원 전보 △리스크관리본부장 홍사경 △고객지원본부장 황미은 △CCO 윤...  "
      ]
     },
     "execution_count": 11,
     "metadata": {},
     "output_type": "execute_result"
    }
   ],
   "source": [
    "target_df.head()"
   ]
  },
  {
   "cell_type": "markdown",
   "id": "5019fbc1-a99d-49b0-96e4-f879d4fd1347",
   "metadata": {},
   "source": [
    "## ddd"
   ]
  },
  {
   "cell_type": "code",
   "execution_count": 20,
   "id": "c71bbd2d-40ba-4f21-bee1-005387e0f549",
   "metadata": {},
   "outputs": [],
   "source": [
    "INDEX = \"dictionary\""
   ]
  },
  {
   "cell_type": "code",
   "execution_count": 42,
   "id": "6c85f24c-e616-4f92-9973-3c5304c35846",
   "metadata": {},
   "outputs": [],
   "source": [
    "async def get_terms(query: str) -> list[str]:\n",
    "    response = await es_client.indices.analyze(\n",
    "        index=INDEX,\n",
    "        body={\n",
    "            \"analyzer\": \"korean_mixed_analyzer\",\n",
    "            \"text\": query\n",
    "        }\n",
    "    )\n",
    "    terms = [token[\"token\"] for token in response[\"tokens\"]]\n",
    "    return list(Counter(terms))"
   ]
  },
  {
   "cell_type": "code",
   "execution_count": 43,
   "id": "5f3115e2-73c5-494f-827e-f4993da7d9bf",
   "metadata": {},
   "outputs": [
    {
     "data": {
      "text/plain": [
       "['안산시', '안산', '시', '생활', '임금', '시급', '원', '의결']"
      ]
     },
     "execution_count": 43,
     "metadata": {},
     "output_type": "execute_result"
    }
   ],
   "source": [
    "await get_terms(\"안산시, 생활임금 시급 1만500원 의결\")"
   ]
  },
  {
   "cell_type": "markdown",
   "id": "e736467a-f6ee-40dd-808a-3dd60ae83a69",
   "metadata": {},
   "source": [
    "## fff"
   ]
  },
  {
   "cell_type": "code",
   "execution_count": 44,
   "id": "6c42921c-4904-4b9f-8265-2465b3a2f8e6",
   "metadata": {},
   "outputs": [],
   "source": [
    "dictionary_df = pd.DataFrame(columns=[\"dictoinary\"])"
   ]
  },
  {
   "cell_type": "code",
   "execution_count": 51,
   "id": "edca4c2e-8b49-42c4-9891-db8549a939e9",
   "metadata": {},
   "outputs": [
    {
     "name": "stdout",
     "output_type": "stream",
     "text": [
      "column: title\n",
      "0th row, 0.000537999999778549\n",
      "100th row, 9.456434499999887\n",
      "200th row, 18.995236100000056\n",
      "300th row, 28.787248899999668\n",
      "400th row, 38.58944519999977\n",
      "500th row, 48.246252399999776\n",
      "600th row, 58.12640209999972\n",
      "700th row, 68.12610349999977\n",
      "800th row, 78.28880290000006\n",
      "900th row, 89.08022170000004\n",
      "1000th row, 99.44027989999995\n",
      "1100th row, 109.75192870000001\n",
      "1200th row, 120.17947860000004\n",
      "1300th row, 130.60229459999982\n"
     ]
    },
    {
     "ename": "CancelledError",
     "evalue": "",
     "output_type": "error",
     "traceback": [
      "\u001b[1;31m---------------------------------------------------------------------------\u001b[0m",
      "\u001b[1;31mCancelledError\u001b[0m                            Traceback (most recent call last)",
      "Cell \u001b[1;32mIn[51], line 9\u001b[0m\n\u001b[0;32m      7\u001b[0m     stop \u001b[38;5;241m=\u001b[39m timeit\u001b[38;5;241m.\u001b[39mdefault_timer()\n\u001b[0;32m      8\u001b[0m     \u001b[38;5;28mprint\u001b[39m(\u001b[38;5;124mf\u001b[39m\u001b[38;5;124m\"\u001b[39m\u001b[38;5;132;01m{\u001b[39;00mindex\u001b[38;5;132;01m}\u001b[39;00m\u001b[38;5;124mth row, \u001b[39m\u001b[38;5;132;01m{\u001b[39;00mstop\u001b[38;5;250m \u001b[39m\u001b[38;5;241m-\u001b[39m\u001b[38;5;250m \u001b[39mstart\u001b[38;5;132;01m}\u001b[39;00m\u001b[38;5;124m\"\u001b[39m)\n\u001b[1;32m----> 9\u001b[0m terms \u001b[38;5;241m=\u001b[39m \u001b[38;5;28;01mawait\u001b[39;00m get_terms(value)\n\u001b[0;32m     10\u001b[0m dictionary_df \u001b[38;5;241m=\u001b[39m pd\u001b[38;5;241m.\u001b[39mconcat([dictionary_df, pd\u001b[38;5;241m.\u001b[39mDataFrame(terms)], ignore_index\u001b[38;5;241m=\u001b[39m\u001b[38;5;28;01mTrue\u001b[39;00m)\n",
      "Cell \u001b[1;32mIn[42], line 2\u001b[0m, in \u001b[0;36mget_terms\u001b[1;34m(query)\u001b[0m\n\u001b[0;32m      1\u001b[0m \u001b[38;5;28;01masync\u001b[39;00m \u001b[38;5;28;01mdef\u001b[39;00m \u001b[38;5;21mget_terms\u001b[39m(query: \u001b[38;5;28mstr\u001b[39m) \u001b[38;5;241m-\u001b[39m\u001b[38;5;241m>\u001b[39m \u001b[38;5;28mlist\u001b[39m[\u001b[38;5;28mstr\u001b[39m]:\n\u001b[1;32m----> 2\u001b[0m     response \u001b[38;5;241m=\u001b[39m \u001b[38;5;28;01mawait\u001b[39;00m es_client\u001b[38;5;241m.\u001b[39mindices\u001b[38;5;241m.\u001b[39manalyze(\n\u001b[0;32m      3\u001b[0m         index\u001b[38;5;241m=\u001b[39mINDEX,\n\u001b[0;32m      4\u001b[0m         body\u001b[38;5;241m=\u001b[39m{\n\u001b[0;32m      5\u001b[0m             \u001b[38;5;124m\"\u001b[39m\u001b[38;5;124manalyzer\u001b[39m\u001b[38;5;124m\"\u001b[39m: \u001b[38;5;124m\"\u001b[39m\u001b[38;5;124mkorean_mixed_analyzer\u001b[39m\u001b[38;5;124m\"\u001b[39m,\n\u001b[0;32m      6\u001b[0m             \u001b[38;5;124m\"\u001b[39m\u001b[38;5;124mtext\u001b[39m\u001b[38;5;124m\"\u001b[39m: query\n\u001b[0;32m      7\u001b[0m         }\n\u001b[0;32m      8\u001b[0m     )\n\u001b[0;32m      9\u001b[0m     terms \u001b[38;5;241m=\u001b[39m [token[\u001b[38;5;124m\"\u001b[39m\u001b[38;5;124mtoken\u001b[39m\u001b[38;5;124m\"\u001b[39m] \u001b[38;5;28;01mfor\u001b[39;00m token \u001b[38;5;129;01min\u001b[39;00m response[\u001b[38;5;124m\"\u001b[39m\u001b[38;5;124mtokens\u001b[39m\u001b[38;5;124m\"\u001b[39m]]\n\u001b[0;32m     10\u001b[0m     \u001b[38;5;28;01mreturn\u001b[39;00m \u001b[38;5;28mlist\u001b[39m(Counter(terms))\n",
      "File \u001b[1;32m~\\Desktop\\cal\\ojt\\es-ojt-api\\.venv\\lib\\site-packages\\elasticsearch\\_async\\client\\indices.py:37\u001b[0m, in \u001b[0;36mIndicesClient.analyze\u001b[1;34m(self, body, index, params, headers)\u001b[0m\n\u001b[0;32m     22\u001b[0m \u001b[38;5;129m@query_params\u001b[39m(\n\u001b[0;32m     23\u001b[0m     request_mimetypes\u001b[38;5;241m=\u001b[39m[\u001b[38;5;124m\"\u001b[39m\u001b[38;5;124mapplication/json\u001b[39m\u001b[38;5;124m\"\u001b[39m],\n\u001b[0;32m     24\u001b[0m     response_mimetypes\u001b[38;5;241m=\u001b[39m[\u001b[38;5;124m\"\u001b[39m\u001b[38;5;124mapplication/json\u001b[39m\u001b[38;5;124m\"\u001b[39m],\n\u001b[0;32m     25\u001b[0m )\n\u001b[0;32m     26\u001b[0m \u001b[38;5;28;01masync\u001b[39;00m \u001b[38;5;28;01mdef\u001b[39;00m \u001b[38;5;21manalyze\u001b[39m(\u001b[38;5;28mself\u001b[39m, body\u001b[38;5;241m=\u001b[39m\u001b[38;5;28;01mNone\u001b[39;00m, index\u001b[38;5;241m=\u001b[39m\u001b[38;5;28;01mNone\u001b[39;00m, params\u001b[38;5;241m=\u001b[39m\u001b[38;5;28;01mNone\u001b[39;00m, headers\u001b[38;5;241m=\u001b[39m\u001b[38;5;28;01mNone\u001b[39;00m):\n\u001b[0;32m     27\u001b[0m \u001b[38;5;250m    \u001b[39m\u001b[38;5;124;03m\"\"\"\u001b[39;00m\n\u001b[0;32m     28\u001b[0m \u001b[38;5;124;03m    Performs the analysis process on a text and return the tokens breakdown of the\u001b[39;00m\n\u001b[0;32m     29\u001b[0m \u001b[38;5;124;03m    text.\u001b[39;00m\n\u001b[1;32m   (...)\u001b[0m\n\u001b[0;32m     35\u001b[0m \u001b[38;5;124;03m    :arg index: The name of the index to scope the operation\u001b[39;00m\n\u001b[0;32m     36\u001b[0m \u001b[38;5;124;03m    \"\"\"\u001b[39;00m\n\u001b[1;32m---> 37\u001b[0m     \u001b[38;5;28;01mreturn\u001b[39;00m \u001b[38;5;28;01mawait\u001b[39;00m \u001b[38;5;28mself\u001b[39m\u001b[38;5;241m.\u001b[39mtransport\u001b[38;5;241m.\u001b[39mperform_request(\n\u001b[0;32m     38\u001b[0m         \u001b[38;5;124m\"\u001b[39m\u001b[38;5;124mPOST\u001b[39m\u001b[38;5;124m\"\u001b[39m,\n\u001b[0;32m     39\u001b[0m         _make_path(index, \u001b[38;5;124m\"\u001b[39m\u001b[38;5;124m_analyze\u001b[39m\u001b[38;5;124m\"\u001b[39m),\n\u001b[0;32m     40\u001b[0m         params\u001b[38;5;241m=\u001b[39mparams,\n\u001b[0;32m     41\u001b[0m         headers\u001b[38;5;241m=\u001b[39mheaders,\n\u001b[0;32m     42\u001b[0m         body\u001b[38;5;241m=\u001b[39mbody,\n\u001b[0;32m     43\u001b[0m     )\n",
      "File \u001b[1;32m~\\Desktop\\cal\\ojt\\es-ojt-api\\.venv\\lib\\site-packages\\elasticsearch\\_async\\transport.py:389\u001b[0m, in \u001b[0;36mAsyncTransport.perform_request\u001b[1;34m(self, method, url, headers, params, body)\u001b[0m\n\u001b[0;32m    386\u001b[0m connection \u001b[38;5;241m=\u001b[39m \u001b[38;5;28mself\u001b[39m\u001b[38;5;241m.\u001b[39mget_connection()\n\u001b[0;32m    388\u001b[0m \u001b[38;5;28;01mtry\u001b[39;00m:\n\u001b[1;32m--> 389\u001b[0m     status, headers_response, data \u001b[38;5;241m=\u001b[39m \u001b[38;5;28;01mawait\u001b[39;00m connection\u001b[38;5;241m.\u001b[39mperform_request(\n\u001b[0;32m    390\u001b[0m         method,\n\u001b[0;32m    391\u001b[0m         url,\n\u001b[0;32m    392\u001b[0m         params,\n\u001b[0;32m    393\u001b[0m         body,\n\u001b[0;32m    394\u001b[0m         headers\u001b[38;5;241m=\u001b[39mheaders,\n\u001b[0;32m    395\u001b[0m         ignore\u001b[38;5;241m=\u001b[39mignore,\n\u001b[0;32m    396\u001b[0m         timeout\u001b[38;5;241m=\u001b[39mtimeout,\n\u001b[0;32m    397\u001b[0m     )\n\u001b[0;32m    399\u001b[0m     \u001b[38;5;66;03m# Lowercase all the header names for consistency in accessing them.\u001b[39;00m\n\u001b[0;32m    400\u001b[0m     headers_response \u001b[38;5;241m=\u001b[39m {\n\u001b[0;32m    401\u001b[0m         header\u001b[38;5;241m.\u001b[39mlower(): value \u001b[38;5;28;01mfor\u001b[39;00m header, value \u001b[38;5;129;01min\u001b[39;00m headers_response\u001b[38;5;241m.\u001b[39mitems()\n\u001b[0;32m    402\u001b[0m     }\n",
      "File \u001b[1;32m~\\Desktop\\cal\\ojt\\es-ojt-api\\.venv\\lib\\site-packages\\elasticsearch\\_async\\http_aiohttp.py:297\u001b[0m, in \u001b[0;36mAIOHttpConnection.perform_request\u001b[1;34m(self, method, url, params, body, timeout, ignore, headers)\u001b[0m\n\u001b[0;32m    295\u001b[0m start \u001b[38;5;241m=\u001b[39m \u001b[38;5;28mself\u001b[39m\u001b[38;5;241m.\u001b[39mloop\u001b[38;5;241m.\u001b[39mtime()\n\u001b[0;32m    296\u001b[0m \u001b[38;5;28;01mtry\u001b[39;00m:\n\u001b[1;32m--> 297\u001b[0m     \u001b[38;5;28;01masync\u001b[39;00m \u001b[38;5;28;01mwith\u001b[39;00m \u001b[38;5;28mself\u001b[39m\u001b[38;5;241m.\u001b[39msession\u001b[38;5;241m.\u001b[39mrequest(\n\u001b[0;32m    298\u001b[0m         method,\n\u001b[0;32m    299\u001b[0m         url,\n\u001b[0;32m    300\u001b[0m         data\u001b[38;5;241m=\u001b[39mbody,\n\u001b[0;32m    301\u001b[0m         headers\u001b[38;5;241m=\u001b[39mreq_headers,\n\u001b[0;32m    302\u001b[0m         timeout\u001b[38;5;241m=\u001b[39mtimeout,\n\u001b[0;32m    303\u001b[0m         fingerprint\u001b[38;5;241m=\u001b[39m\u001b[38;5;28mself\u001b[39m\u001b[38;5;241m.\u001b[39mssl_assert_fingerprint,\n\u001b[0;32m    304\u001b[0m     ) \u001b[38;5;28;01mas\u001b[39;00m response:\n\u001b[0;32m    305\u001b[0m         response_headers \u001b[38;5;241m=\u001b[39m {\n\u001b[0;32m    306\u001b[0m             header\u001b[38;5;241m.\u001b[39mlower(): value \u001b[38;5;28;01mfor\u001b[39;00m header, value \u001b[38;5;129;01min\u001b[39;00m response\u001b[38;5;241m.\u001b[39mheaders\u001b[38;5;241m.\u001b[39mitems()\n\u001b[0;32m    307\u001b[0m         }\n\u001b[0;32m    308\u001b[0m         \u001b[38;5;28;01mif\u001b[39;00m is_head:  \u001b[38;5;66;03m# We actually called 'GET' so throw away the data.\u001b[39;00m\n",
      "File \u001b[1;32m~\\Desktop\\cal\\ojt\\es-ojt-api\\.venv\\lib\\site-packages\\aiohttp\\client.py:1197\u001b[0m, in \u001b[0;36m_BaseRequestContextManager.__aenter__\u001b[1;34m(self)\u001b[0m\n\u001b[0;32m   1196\u001b[0m \u001b[38;5;28;01masync\u001b[39;00m \u001b[38;5;28;01mdef\u001b[39;00m \u001b[38;5;21m__aenter__\u001b[39m(\u001b[38;5;28mself\u001b[39m) \u001b[38;5;241m-\u001b[39m\u001b[38;5;241m>\u001b[39m _RetType:\n\u001b[1;32m-> 1197\u001b[0m     \u001b[38;5;28mself\u001b[39m\u001b[38;5;241m.\u001b[39m_resp \u001b[38;5;241m=\u001b[39m \u001b[38;5;28;01mawait\u001b[39;00m \u001b[38;5;28mself\u001b[39m\u001b[38;5;241m.\u001b[39m_coro\n\u001b[0;32m   1198\u001b[0m     \u001b[38;5;28;01mreturn\u001b[39;00m \u001b[38;5;28mself\u001b[39m\u001b[38;5;241m.\u001b[39m_resp\n",
      "File \u001b[1;32m~\\Desktop\\cal\\ojt\\es-ojt-api\\.venv\\lib\\site-packages\\aiohttp\\client.py:608\u001b[0m, in \u001b[0;36mClientSession._request\u001b[1;34m(self, method, str_or_url, params, data, json, cookies, headers, skip_auto_headers, auth, allow_redirects, max_redirects, compress, chunked, expect100, raise_for_status, read_until_eof, proxy, proxy_auth, timeout, verify_ssl, fingerprint, ssl_context, ssl, server_hostname, proxy_headers, trace_request_ctx, read_bufsize, auto_decompress, max_line_size, max_field_size)\u001b[0m\n\u001b[0;32m    606\u001b[0m resp \u001b[38;5;241m=\u001b[39m \u001b[38;5;28;01mawait\u001b[39;00m req\u001b[38;5;241m.\u001b[39msend(conn)\n\u001b[0;32m    607\u001b[0m \u001b[38;5;28;01mtry\u001b[39;00m:\n\u001b[1;32m--> 608\u001b[0m     \u001b[38;5;28;01mawait\u001b[39;00m resp\u001b[38;5;241m.\u001b[39mstart(conn)\n\u001b[0;32m    609\u001b[0m \u001b[38;5;28;01mexcept\u001b[39;00m \u001b[38;5;167;01mBaseException\u001b[39;00m:\n\u001b[0;32m    610\u001b[0m     resp\u001b[38;5;241m.\u001b[39mclose()\n",
      "File \u001b[1;32m~\\Desktop\\cal\\ojt\\es-ojt-api\\.venv\\lib\\site-packages\\aiohttp\\client_reqrep.py:976\u001b[0m, in \u001b[0;36mClientResponse.start\u001b[1;34m(self, connection)\u001b[0m\n\u001b[0;32m    974\u001b[0m \u001b[38;5;28;01mtry\u001b[39;00m:\n\u001b[0;32m    975\u001b[0m     protocol \u001b[38;5;241m=\u001b[39m \u001b[38;5;28mself\u001b[39m\u001b[38;5;241m.\u001b[39m_protocol\n\u001b[1;32m--> 976\u001b[0m     message, payload \u001b[38;5;241m=\u001b[39m \u001b[38;5;28;01mawait\u001b[39;00m protocol\u001b[38;5;241m.\u001b[39mread()  \u001b[38;5;66;03m# type: ignore[union-attr]\u001b[39;00m\n\u001b[0;32m    977\u001b[0m \u001b[38;5;28;01mexcept\u001b[39;00m http\u001b[38;5;241m.\u001b[39mHttpProcessingError \u001b[38;5;28;01mas\u001b[39;00m exc:\n\u001b[0;32m    978\u001b[0m     \u001b[38;5;28;01mraise\u001b[39;00m ClientResponseError(\n\u001b[0;32m    979\u001b[0m         \u001b[38;5;28mself\u001b[39m\u001b[38;5;241m.\u001b[39mrequest_info,\n\u001b[0;32m    980\u001b[0m         \u001b[38;5;28mself\u001b[39m\u001b[38;5;241m.\u001b[39mhistory,\n\u001b[1;32m   (...)\u001b[0m\n\u001b[0;32m    983\u001b[0m         headers\u001b[38;5;241m=\u001b[39mexc\u001b[38;5;241m.\u001b[39mheaders,\n\u001b[0;32m    984\u001b[0m     ) \u001b[38;5;28;01mfrom\u001b[39;00m \u001b[38;5;21;01mexc\u001b[39;00m\n",
      "File \u001b[1;32m~\\Desktop\\cal\\ojt\\es-ojt-api\\.venv\\lib\\site-packages\\aiohttp\\streams.py:640\u001b[0m, in \u001b[0;36mDataQueue.read\u001b[1;34m(self)\u001b[0m\n\u001b[0;32m    638\u001b[0m \u001b[38;5;28mself\u001b[39m\u001b[38;5;241m.\u001b[39m_waiter \u001b[38;5;241m=\u001b[39m \u001b[38;5;28mself\u001b[39m\u001b[38;5;241m.\u001b[39m_loop\u001b[38;5;241m.\u001b[39mcreate_future()\n\u001b[0;32m    639\u001b[0m \u001b[38;5;28;01mtry\u001b[39;00m:\n\u001b[1;32m--> 640\u001b[0m     \u001b[38;5;28;01mawait\u001b[39;00m \u001b[38;5;28mself\u001b[39m\u001b[38;5;241m.\u001b[39m_waiter\n\u001b[0;32m    641\u001b[0m \u001b[38;5;28;01mexcept\u001b[39;00m (asyncio\u001b[38;5;241m.\u001b[39mCancelledError, asyncio\u001b[38;5;241m.\u001b[39mTimeoutError):\n\u001b[0;32m    642\u001b[0m     \u001b[38;5;28mself\u001b[39m\u001b[38;5;241m.\u001b[39m_waiter \u001b[38;5;241m=\u001b[39m \u001b[38;5;28;01mNone\u001b[39;00m\n",
      "\u001b[1;31mCancelledError\u001b[0m: "
     ]
    }
   ],
   "source": [
    "start = timeit.default_timer()\n",
    "\n",
    "for column, series in target_df.items():\n",
    "    print(f\"column: {column}\")\n",
    "    for index, value in series.items():\n",
    "        if index % 100 == 0:\n",
    "            stop = timeit.default_timer()\n",
    "            print(f\"{index}th row, {stop - start}\")\n",
    "        terms = await get_terms(value)\n",
    "        dictionary_df = pd.concat([dictionary_df, pd.DataFrame(terms)], ignore_index=True)"
   ]
  },
  {
   "cell_type": "code",
   "execution_count": null,
   "id": "8b475e90-9a57-4706-b861-14c62250cfbb",
   "metadata": {},
   "outputs": [],
   "source": [
    "dictionary_df = dictionary_df.sort_values(\"dictionary\").drop_duplicates(\"dictionary\").sort_index()"
   ]
  },
  {
   "cell_type": "code",
   "execution_count": null,
   "id": "4a97ce85-725a-4fde-b954-90162b365dd8",
   "metadata": {},
   "outputs": [],
   "source": [
    "dictionary_df.to_csv(join(pre_path, \"dictionary.csv\"), index=False, encoding=\"utf-8-sig\")"
   ]
  },
  {
   "cell_type": "markdown",
   "id": "50a39e09-954e-4e23-b226-456871e94b63",
   "metadata": {},
   "source": [
    "## bulk"
   ]
  },
  {
   "cell_type": "code",
   "execution_count": null,
   "id": "fbb06a5f-3ce5-47f8-aa65-d0dae00ea123",
   "metadata": {},
   "outputs": [],
   "source": [
    "action_str = {\n",
    "    \"index\": {\n",
    "        \"_index\": \"dictionary\"\n",
    "    }\n",
    "}\n",
    "\n",
    "action = json.dumps(action_str)"
   ]
  },
  {
   "cell_type": "code",
   "execution_count": null,
   "id": "e6695eea-3f00-4051-9fa7-2781b1c92788",
   "metadata": {},
   "outputs": [],
   "source": [
    "bulk_data = \"\"\n",
    "\n",
    "count = 0\n",
    "for index, row in dictionary_df.iterrows():\n",
    "    row_dict = {\"dictionary\": row[\"dictionary\"]}\n",
    "    row_bulk = json.dumps(row_dict, ensure_ascii=False)\n",
    "    bulk_data += f\"{action}\\n{row_bulk}\\n\""
   ]
  },
  {
   "cell_type": "code",
   "execution_count": null,
   "id": "d7521432-7fe1-4a9c-b448-f415e6367562",
   "metadata": {},
   "outputs": [],
   "source": [
    "with open(join(bulk_path, f\"dictionary.json\"), \"w\", encoding=\"utf-8\") as json_file:\n",
    "    json_file.write(bulk_data)"
   ]
  },
  {
   "cell_type": "code",
   "execution_count": null,
   "id": "56131032-fd2f-4413-a55e-18a40f3035d5",
   "metadata": {},
   "outputs": [],
   "source": []
  }
 ],
 "metadata": {
  "kernelspec": {
   "display_name": "es-ojt-data",
   "language": "python",
   "name": "es-ojt-data"
  },
  "language_info": {
   "codemirror_mode": {
    "name": "ipython",
    "version": 3
   },
   "file_extension": ".py",
   "mimetype": "text/x-python",
   "name": "python",
   "nbconvert_exporter": "python",
   "pygments_lexer": "ipython3",
   "version": "3.9.5"
  }
 },
 "nbformat": 4,
 "nbformat_minor": 5
}
