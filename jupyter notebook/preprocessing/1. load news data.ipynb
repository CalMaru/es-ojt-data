{
 "cells": [
  {
   "cell_type": "markdown",
   "id": "692e5238-94f0-414d-b3c3-6c27c1cdf9ce",
   "metadata": {},
   "source": [
    "# 빅카인즈 뉴스 데이터"
   ]
  },
  {
   "cell_type": "code",
   "execution_count": 1,
   "id": "8d60eaf7-4ad8-4b14-a455-6a48250d6b29",
   "metadata": {},
   "outputs": [],
   "source": [
    "from pathlib import Path\n",
    "import os\n",
    "\n",
    "os.chdir(Path(os.getcwd()).parent)"
   ]
  },
  {
   "cell_type": "code",
   "execution_count": 2,
   "id": "b61397fa-053b-4316-a430-2aae0008a74d",
   "metadata": {},
   "outputs": [],
   "source": [
    "from os.path import join\n",
    "\n",
    "import pandas as pd"
   ]
  },
  {
   "cell_type": "markdown",
   "id": "e3eac2ad-3c95-459e-990a-d04295efdbb0",
   "metadata": {},
   "source": [
    "## Load news data"
   ]
  },
  {
   "cell_type": "code",
   "execution_count": 3,
   "id": "309cd10f-f9d5-4f6e-adf7-74e1dfcda3d9",
   "metadata": {},
   "outputs": [],
   "source": [
    "root_path = os.getcwd()\n",
    "data_path = join(os.getcwd(), \"data\")"
   ]
  },
  {
   "cell_type": "code",
   "execution_count": 4,
   "id": "b8b2df84-e223-4ae5-af9d-658220b9c759",
   "metadata": {},
   "outputs": [],
   "source": [
    "news_df = pd.read_csv(join(data_path, \"raw\", \"news_data_20000.csv\"))\n",
    "columns = news_df.columns"
   ]
  },
  {
   "cell_type": "code",
   "execution_count": 5,
   "id": "4afe68b9-0056-4df9-a02b-90f263f96095",
   "metadata": {},
   "outputs": [
    {
     "data": {
      "text/html": [
       "<div>\n",
       "<style scoped>\n",
       "    .dataframe tbody tr th:only-of-type {\n",
       "        vertical-align: middle;\n",
       "    }\n",
       "\n",
       "    .dataframe tbody tr th {\n",
       "        vertical-align: top;\n",
       "    }\n",
       "\n",
       "    .dataframe thead th {\n",
       "        text-align: right;\n",
       "    }\n",
       "</style>\n",
       "<table border=\"1\" class=\"dataframe\">\n",
       "  <thead>\n",
       "    <tr style=\"text-align: right;\">\n",
       "      <th></th>\n",
       "      <th>id</th>\n",
       "      <th>title</th>\n",
       "      <th>content</th>\n",
       "      <th>provider</th>\n",
       "      <th>category</th>\n",
       "      <th>byline</th>\n",
       "      <th>dateline</th>\n",
       "    </tr>\n",
       "  </thead>\n",
       "  <tbody>\n",
       "    <tr>\n",
       "      <th>0</th>\n",
       "      <td>63792442</td>\n",
       "      <td>안산시, 생활임금 시급 1만500원 의결</td>\n",
       "      <td>[헤럴드경제(안산)=박정규 기자]안산시(시장 윤화섭) 생활임금위원회는 2022년 생...</td>\n",
       "      <td>헤럴드경제</td>\n",
       "      <td>['사회&gt;노동_복지', '경제&gt;자동차', '경제&gt;취업_창업']</td>\n",
       "      <td>박정규 기자</td>\n",
       "      <td>2021-09-09T07:44:33.000Z</td>\n",
       "    </tr>\n",
       "    <tr>\n",
       "      <th>1</th>\n",
       "      <td>62993103</td>\n",
       "      <td>울산 하이본 병원, 6월부터 본격 진료 \"척추와 관절 분야 전문\"</td>\n",
       "      <td>척추와 관절 분야 전문인 울산 하이본 병원이 6월부터 본격 진료를 시작했다. \\n\\...</td>\n",
       "      <td>울산매일</td>\n",
       "      <td>['사회&gt;의료_건강', '지역&gt;울산', '지역&gt;강원']</td>\n",
       "      <td>.</td>\n",
       "      <td>2021-08-05T07:49:07.000Z</td>\n",
       "    </tr>\n",
       "    <tr>\n",
       "      <th>2</th>\n",
       "      <td>63800371</td>\n",
       "      <td>금융권 최초 공동 정보지갑서비스 출시…1호 증명서는 '뱅크아이디'</td>\n",
       "      <td>[아시아경제 송승섭 기자]금융분산ID 추진 협의회는 국내 최초 정보지갑인 마이인포에...</td>\n",
       "      <td>아시아경제</td>\n",
       "      <td>['IT_과학&gt;보안', 'IT_과학&gt;모바일', '경제&gt;금융_재테크']</td>\n",
       "      <td>송승섭</td>\n",
       "      <td>2021-09-01T01:34:48.000Z</td>\n",
       "    </tr>\n",
       "    <tr>\n",
       "      <th>3</th>\n",
       "      <td>62398473</td>\n",
       "      <td>“총장 후보자 수사심의위 신청은 모순” “정치적 수단 전락”</td>\n",
       "      <td>서울 서초구 대검찰청 검찰기. 연합뉴스 “정치적 중립성을 지키고 수사 결정 전 과정...</td>\n",
       "      <td>세계일보</td>\n",
       "      <td>['사회&gt;사건_사고', '사회&gt;미디어']</td>\n",
       "      <td>이창훈</td>\n",
       "      <td>2021-04-25T10:18:14.000Z</td>\n",
       "    </tr>\n",
       "    <tr>\n",
       "      <th>4</th>\n",
       "      <td>63350588</td>\n",
       "      <td>[인사]현대해상</td>\n",
       "      <td>◆현대해상 ◇임원 전보 △리스크관리본부장 홍사경 △고객지원본부장 황미은 △CCO 윤...</td>\n",
       "      <td>전자신문</td>\n",
       "      <td>['경제&gt;금융_재테크', '경제&gt;자동차']</td>\n",
       "      <td>김현민</td>\n",
       "      <td>2021-07-01T00:40:53.000Z</td>\n",
       "    </tr>\n",
       "  </tbody>\n",
       "</table>\n",
       "</div>"
      ],
      "text/plain": [
       "         id                                 title  \\\n",
       "0  63792442                안산시, 생활임금 시급 1만500원 의결   \n",
       "1  62993103  울산 하이본 병원, 6월부터 본격 진료 \"척추와 관절 분야 전문\"   \n",
       "2  63800371  금융권 최초 공동 정보지갑서비스 출시…1호 증명서는 '뱅크아이디'   \n",
       "3  62398473     “총장 후보자 수사심의위 신청은 모순” “정치적 수단 전락”   \n",
       "4  63350588                              [인사]현대해상   \n",
       "\n",
       "                                             content provider  \\\n",
       "0  [헤럴드경제(안산)=박정규 기자]안산시(시장 윤화섭) 생활임금위원회는 2022년 생...    헤럴드경제   \n",
       "1  척추와 관절 분야 전문인 울산 하이본 병원이 6월부터 본격 진료를 시작했다. \\n\\...     울산매일   \n",
       "2  [아시아경제 송승섭 기자]금융분산ID 추진 협의회는 국내 최초 정보지갑인 마이인포에...    아시아경제   \n",
       "3  서울 서초구 대검찰청 검찰기. 연합뉴스 “정치적 중립성을 지키고 수사 결정 전 과정...     세계일보   \n",
       "4  ◆현대해상 ◇임원 전보 △리스크관리본부장 홍사경 △고객지원본부장 황미은 △CCO 윤...     전자신문   \n",
       "\n",
       "                                 category  byline                  dateline  \n",
       "0      ['사회>노동_복지', '경제>자동차', '경제>취업_창업']  박정규 기자  2021-09-09T07:44:33.000Z  \n",
       "1          ['사회>의료_건강', '지역>울산', '지역>강원']       .  2021-08-05T07:49:07.000Z  \n",
       "2  ['IT_과학>보안', 'IT_과학>모바일', '경제>금융_재테크']     송승섭  2021-09-01T01:34:48.000Z  \n",
       "3                  ['사회>사건_사고', '사회>미디어']     이창훈  2021-04-25T10:18:14.000Z  \n",
       "4                 ['경제>금융_재테크', '경제>자동차']     김현민  2021-07-01T00:40:53.000Z  "
      ]
     },
     "execution_count": 5,
     "metadata": {},
     "output_type": "execute_result"
    }
   ],
   "source": [
    "news_df.head()"
   ]
  },
  {
   "cell_type": "code",
   "execution_count": 6,
   "id": "804fd150-5276-44fe-933e-a6bb4289f2c3",
   "metadata": {},
   "outputs": [
    {
     "data": {
      "text/plain": [
       "Index(['id', 'title', 'content', 'provider', 'category', 'byline', 'dateline'], dtype='object')"
      ]
     },
     "execution_count": 6,
     "metadata": {},
     "output_type": "execute_result"
    }
   ],
   "source": [
    "columns"
   ]
  },
  {
   "cell_type": "code",
   "execution_count": 7,
   "id": "75b6b90c-9a93-4b85-8fa4-c42856fa5234",
   "metadata": {},
   "outputs": [
    {
     "data": {
      "text/plain": [
       "(20000, 7)"
      ]
     },
     "execution_count": 7,
     "metadata": {},
     "output_type": "execute_result"
    }
   ],
   "source": [
    "news_df.shape"
   ]
  },
  {
   "cell_type": "code",
   "execution_count": 8,
   "id": "f73cf555-14ce-417b-9ba0-3df319970266",
   "metadata": {},
   "outputs": [
    {
     "data": {
      "text/plain": [
       "20000"
      ]
     },
     "execution_count": 8,
     "metadata": {},
     "output_type": "execute_result"
    }
   ],
   "source": [
    "ids = news_df[\"id\"].unique()\n",
    "len(ids)"
   ]
  },
  {
   "cell_type": "code",
   "execution_count": 9,
   "id": "679bd01f-cb54-479b-858a-eee579681b72",
   "metadata": {},
   "outputs": [
    {
     "data": {
      "text/plain": [
       "52"
      ]
     },
     "execution_count": 9,
     "metadata": {},
     "output_type": "execute_result"
    }
   ],
   "source": [
    "providers = news_df[\"provider\"].unique()\n",
    "len(providers)"
   ]
  },
  {
   "cell_type": "code",
   "execution_count": 10,
   "id": "0167e885-32a9-4321-88b3-28b505b8ac03",
   "metadata": {},
   "outputs": [
    {
     "data": {
      "text/plain": [
       "4555"
      ]
     },
     "execution_count": 10,
     "metadata": {},
     "output_type": "execute_result"
    }
   ],
   "source": [
    "bylines = news_df[\"byline\"].unique()\n",
    "len(bylines)"
   ]
  },
  {
   "cell_type": "code",
   "execution_count": null,
   "id": "9603c8c2-7c2f-4fd5-b36d-d27447ed58e6",
   "metadata": {},
   "outputs": [],
   "source": []
  }
 ],
 "metadata": {
  "kernelspec": {
   "display_name": "es-ojt",
   "language": "python",
   "name": ".venv"
  },
  "language_info": {
   "codemirror_mode": {
    "name": "ipython",
    "version": 3
   },
   "file_extension": ".py",
   "mimetype": "text/x-python",
   "name": "python",
   "nbconvert_exporter": "python",
   "pygments_lexer": "ipython3",
   "version": "3.9.5"
  }
 },
 "nbformat": 4,
 "nbformat_minor": 5
}
