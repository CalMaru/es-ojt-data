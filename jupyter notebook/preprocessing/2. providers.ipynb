{
 "cells": [
  {
   "cell_type": "markdown",
   "id": "e6a6d7a6-3a16-4693-a5bb-662bc666f625",
   "metadata": {},
   "source": [
    "# Unique Providers"
   ]
  },
  {
   "cell_type": "code",
   "execution_count": 1,
   "id": "1fea92c5-1fea-4ce0-b2b2-e98ef298f14b",
   "metadata": {},
   "outputs": [],
   "source": [
    "from pathlib import Path\n",
    "import os\n",
    "\n",
    "os.chdir(Path(os.getcwd()).parent)"
   ]
  },
  {
   "cell_type": "code",
   "execution_count": 2,
   "id": "03969021-05f6-48ee-9a22-8ea56ce459ee",
   "metadata": {},
   "outputs": [],
   "source": [
    "from os.path import join\n",
    "\n",
    "import pandas as pd"
   ]
  },
  {
   "cell_type": "markdown",
   "id": "b5b3e1a1-4fec-411a-a4b4-605ea53df41d",
   "metadata": {},
   "source": [
    "## Load news data"
   ]
  },
  {
   "cell_type": "code",
   "execution_count": 3,
   "id": "0a15c4ed-d711-4131-b379-d6ecda3a5f9f",
   "metadata": {},
   "outputs": [],
   "source": [
    "root_path = os.getcwd()\n",
    "data_path = join(os.getcwd(), \"data\")\n",
    "raw_data_path = join(data_path, \"raw\")\n",
    "pre_data_path = join(data_path, \"preprocessing\")"
   ]
  },
  {
   "cell_type": "code",
   "execution_count": 4,
   "id": "247256d5-9667-4a86-854e-cd564a8c22f6",
   "metadata": {},
   "outputs": [],
   "source": [
    "news_df = pd.read_csv(join(raw_data_path, \"news_data_20000.csv\"))"
   ]
  },
  {
   "cell_type": "code",
   "execution_count": 5,
   "id": "64766265-3567-46f5-b3fb-543673455149",
   "metadata": {},
   "outputs": [],
   "source": [
    "providers = news_df[\"provider\"].unique()"
   ]
  },
  {
   "cell_type": "code",
   "execution_count": 6,
   "id": "09fa9e80-8020-45d2-b63a-6188cb9c0d1b",
   "metadata": {},
   "outputs": [
    {
     "data": {
      "text/plain": [
       "array(['헤럴드경제', '울산매일', '아시아경제', '세계일보', '전자신문', '부산일보', '서울경제', '전북도민일보',\n",
       "       '중부매일', 'YTN', 'MBC', '충청일보', '중앙일보', '한겨레', '국민일보', '머니투데이',\n",
       "       '한국경제', '중도일보', '제민일보', '동아일보', '강원일보', '한라일보', '경상일보', '아주경제',\n",
       "       '경인일보', 'KBS', '파이낸셜뉴스', 'OBS', '강원도민일보', '광주일보', '대구일보', '경기일보',\n",
       "       '중부일보', '디지털타임스', '서울신문', '매일신문', '충청투데이', '전남일보', '경향신문', '대전일보',\n",
       "       '조선일보', '문화일보', '전북일보', '충북일보', '광주매일신문', '경남도민일보', '내일신문', '영남일보',\n",
       "       '무등일보', '국제신문', 'SBS', '경남신문'], dtype=object)"
      ]
     },
     "execution_count": 6,
     "metadata": {},
     "output_type": "execute_result"
    }
   ],
   "source": [
    "providers"
   ]
  },
  {
   "cell_type": "code",
   "execution_count": 7,
   "id": "f90fd4fc-76e2-4c56-a5e6-6c064bbca222",
   "metadata": {},
   "outputs": [
    {
     "data": {
      "text/plain": [
       "52"
      ]
     },
     "execution_count": 7,
     "metadata": {},
     "output_type": "execute_result"
    }
   ],
   "source": [
    "len(providers)"
   ]
  },
  {
   "cell_type": "markdown",
   "id": "2cb36a54-2871-429c-b94c-e8b168a736a8",
   "metadata": {},
   "source": [
    "## Load Naver Providers"
   ]
  },
  {
   "cell_type": "code",
   "execution_count": 8,
   "id": "5145522d-c591-4fa0-9406-d6dad443bfcf",
   "metadata": {},
   "outputs": [],
   "source": [
    "naver_df = pd.read_csv(join(raw_data_path, \"providers.csv\"))"
   ]
  },
  {
   "cell_type": "code",
   "execution_count": 9,
   "id": "e1dfc4b4-523a-43f9-81f5-3843e7e1a8f4",
   "metadata": {},
   "outputs": [],
   "source": [
    "naver_providers = naver_df[\"이름\"].unique()"
   ]
  },
  {
   "cell_type": "markdown",
   "id": "c3d173b9-4b1b-41b1-8cbf-12a25f05f804",
   "metadata": {},
   "source": [
    "## 네이버 / 빅카인즈 언론사 비교"
   ]
  },
  {
   "cell_type": "code",
   "execution_count": 10,
   "id": "ff331f44-05c9-4440-9cc7-bbb7da9dd556",
   "metadata": {},
   "outputs": [
    {
     "name": "stdout",
     "output_type": "stream",
     "text": [
      "울산매일\n",
      "한라일보\n"
     ]
    }
   ],
   "source": [
    "for provider in providers:\n",
    "    if provider not in naver_providers:\n",
    "        print(provider)"
   ]
  },
  {
   "cell_type": "markdown",
   "id": "68ca3068-2f84-4c27-b69d-f1bb87118ef0",
   "metadata": {},
   "source": [
    "## 빅카인즈 언론사 저장"
   ]
  },
  {
   "cell_type": "code",
   "execution_count": 11,
   "id": "a5b488d2-50a8-4dd6-ae46-ce2c52ccf2c9",
   "metadata": {},
   "outputs": [],
   "source": [
    "provider_df = pd.DataFrame(columns=[\"이름\", \"분류\", \"지역\"])"
   ]
  },
  {
   "cell_type": "code",
   "execution_count": 12,
   "id": "f44d4fdc-11eb-4f5a-b52e-5fe5de334bb2",
   "metadata": {},
   "outputs": [],
   "source": [
    "for provider in providers:\n",
    "    if provider in naver_providers:\n",
    "        naver_row = naver_df[naver_df[\"이름\"] == provider]\n",
    "        provider_df = pd.concat([provider_df, naver_row], ignore_index=True)"
   ]
  },
  {
   "cell_type": "markdown",
   "id": "b0db5ccd-eaab-442c-b1dc-f2b198ca396b",
   "metadata": {},
   "source": [
    "울산매일, 한라일보 추가 저장"
   ]
  },
  {
   "cell_type": "code",
   "execution_count": 13,
   "id": "d0ba25b0-36d2-415b-93dd-e1289c8d102e",
   "metadata": {},
   "outputs": [],
   "source": [
    "add1 = {\"이름\": \"울산매일\", \"분류\": \"지역지\", \"지역\": \"울산\"}\n",
    "add2 = {\"이름\": \"한라일보\", \"분류\": \"지역지\", \"지역\": \"제주\"}\n",
    "\n",
    "provider_df = pd.concat([provider_df, pd.DataFrame([add1, add2])], ignore_index=True)"
   ]
  },
  {
   "cell_type": "code",
   "execution_count": 14,
   "id": "1866cd44-4538-4c26-87fa-07c8d7200d54",
   "metadata": {},
   "outputs": [
    {
     "data": {
      "text/html": [
       "<div>\n",
       "<style scoped>\n",
       "    .dataframe tbody tr th:only-of-type {\n",
       "        vertical-align: middle;\n",
       "    }\n",
       "\n",
       "    .dataframe tbody tr th {\n",
       "        vertical-align: top;\n",
       "    }\n",
       "\n",
       "    .dataframe thead th {\n",
       "        text-align: right;\n",
       "    }\n",
       "</style>\n",
       "<table border=\"1\" class=\"dataframe\">\n",
       "  <thead>\n",
       "    <tr style=\"text-align: right;\">\n",
       "      <th></th>\n",
       "      <th>이름</th>\n",
       "      <th>분류</th>\n",
       "      <th>지역</th>\n",
       "    </tr>\n",
       "  </thead>\n",
       "  <tbody>\n",
       "    <tr>\n",
       "      <th>0</th>\n",
       "      <td>헤럴드경제</td>\n",
       "      <td>경제/IT</td>\n",
       "      <td>NaN</td>\n",
       "    </tr>\n",
       "    <tr>\n",
       "      <th>1</th>\n",
       "      <td>아시아경제</td>\n",
       "      <td>경제/IT</td>\n",
       "      <td>NaN</td>\n",
       "    </tr>\n",
       "    <tr>\n",
       "      <th>2</th>\n",
       "      <td>세계일보</td>\n",
       "      <td>일간지</td>\n",
       "      <td>NaN</td>\n",
       "    </tr>\n",
       "    <tr>\n",
       "      <th>3</th>\n",
       "      <td>전자신문</td>\n",
       "      <td>경제/IT</td>\n",
       "      <td>NaN</td>\n",
       "    </tr>\n",
       "    <tr>\n",
       "      <th>4</th>\n",
       "      <td>부산일보</td>\n",
       "      <td>지역지</td>\n",
       "      <td>부산</td>\n",
       "    </tr>\n",
       "  </tbody>\n",
       "</table>\n",
       "</div>"
      ],
      "text/plain": [
       "      이름     분류   지역\n",
       "0  헤럴드경제  경제/IT  NaN\n",
       "1  아시아경제  경제/IT  NaN\n",
       "2   세계일보    일간지  NaN\n",
       "3   전자신문  경제/IT  NaN\n",
       "4   부산일보    지역지   부산"
      ]
     },
     "execution_count": 14,
     "metadata": {},
     "output_type": "execute_result"
    }
   ],
   "source": [
    "provider_df.head()"
   ]
  },
  {
   "cell_type": "code",
   "execution_count": 15,
   "id": "9e0e5843-3fa5-4c73-8389-8e9289536658",
   "metadata": {},
   "outputs": [
    {
     "data": {
      "text/plain": [
       "(52, 3)"
      ]
     },
     "execution_count": 15,
     "metadata": {},
     "output_type": "execute_result"
    }
   ],
   "source": [
    "provider_df.shape"
   ]
  },
  {
   "cell_type": "code",
   "execution_count": 16,
   "id": "7e658073-0d27-4b7f-943f-10366ab5da8b",
   "metadata": {},
   "outputs": [],
   "source": [
    "provider_df.to_csv(join(pre_data_path, \"providers.csv\"), index=False, encoding=\"utf-8-sig\")"
   ]
  },
  {
   "cell_type": "code",
   "execution_count": null,
   "id": "584a2e9e-4546-49d4-967d-8647289b2df6",
   "metadata": {},
   "outputs": [],
   "source": []
  }
 ],
 "metadata": {
  "kernelspec": {
   "display_name": "es-ojt",
   "language": "python",
   "name": ".venv"
  },
  "language_info": {
   "codemirror_mode": {
    "name": "ipython",
    "version": 3
   },
   "file_extension": ".py",
   "mimetype": "text/x-python",
   "name": "python",
   "nbconvert_exporter": "python",
   "pygments_lexer": "ipython3",
   "version": "3.9.5"
  }
 },
 "nbformat": 4,
 "nbformat_minor": 5
}
