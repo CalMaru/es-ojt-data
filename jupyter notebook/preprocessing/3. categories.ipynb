{
 "cells": [
  {
   "cell_type": "markdown",
   "id": "ea4524d4-8e33-4e55-b2b8-8baedc1d7a88",
   "metadata": {},
   "source": [
    "# 뉴스 카테고리"
   ]
  },
  {
   "cell_type": "code",
   "execution_count": 1,
   "id": "8d113cd7-0cb9-4b4e-9296-197bdb452992",
   "metadata": {},
   "outputs": [],
   "source": [
    "from pathlib import Path\n",
    "import os\n",
    "\n",
    "os.chdir(Path(os.getcwd()).parent)"
   ]
  },
  {
   "cell_type": "code",
   "execution_count": 2,
   "id": "72d8f6ab-e103-44d4-b3dc-fff5986f8151",
   "metadata": {},
   "outputs": [],
   "source": [
    "from os.path import join\n",
    "from collections import defaultdict\n",
    "import ast\n",
    "\n",
    "import pandas as pd"
   ]
  },
  {
   "cell_type": "markdown",
   "id": "b216c9a0-c6ce-4fd2-8507-3f3f34baf88e",
   "metadata": {},
   "source": [
    "## Load news data"
   ]
  },
  {
   "cell_type": "code",
   "execution_count": 3,
   "id": "ca7bbead-081b-469c-9413-0a87c27b61dd",
   "metadata": {},
   "outputs": [],
   "source": [
    "root_path = os.getcwd()\n",
    "data_path = join(os.getcwd(), \"data\")"
   ]
  },
  {
   "cell_type": "code",
   "execution_count": 4,
   "id": "bf6d8d8c-8284-479f-b5d6-f20131c13605",
   "metadata": {},
   "outputs": [],
   "source": [
    "news_df = pd.read_csv(join(data_path, \"news_data_20000.csv\"))"
   ]
  },
  {
   "cell_type": "code",
   "execution_count": 5,
   "id": "1949c44c-4eab-4431-8688-74385e9ed1dc",
   "metadata": {},
   "outputs": [
    {
     "data": {
      "text/plain": [
       "array([\"['사회>노동_복지', '경제>자동차', '경제>취업_창업']\",\n",
       "       \"['사회>의료_건강', '지역>울산', '지역>강원']\",\n",
       "       \"['IT_과학>보안', 'IT_과학>모바일', '경제>금융_재테크']\", \"['사회>사건_사고', '사회>미디어']\",\n",
       "       \"['경제>금융_재테크', '경제>자동차']\"], dtype=object)"
      ]
     },
     "execution_count": 5,
     "metadata": {},
     "output_type": "execute_result"
    }
   ],
   "source": [
    "categories = news_df[\"category\"].unique()\n",
    "categories[:5]"
   ]
  },
  {
   "cell_type": "code",
   "execution_count": 6,
   "id": "4c5936cd-2eba-4006-9890-62737a0aa3b2",
   "metadata": {},
   "outputs": [],
   "source": [
    "category_set = set()\n",
    "\n",
    "for category in categories:\n",
    "    category_list = ast.literal_eval(category)\n",
    "    for elem in category_list:\n",
    "        category_set.add(elem)\n",
    "\n",
    "categories = list(category_set)"
   ]
  },
  {
   "cell_type": "code",
   "execution_count": 7,
   "id": "418f96e5-4568-4212-97da-f3635281d4a1",
   "metadata": {},
   "outputs": [
    {
     "data": {
      "text/plain": [
       "78"
      ]
     },
     "execution_count": 7,
     "metadata": {},
     "output_type": "execute_result"
    }
   ],
   "source": [
    "len(categories)"
   ]
  },
  {
   "cell_type": "code",
   "execution_count": 8,
   "id": "c28d7a9c-42ce-46dc-83ac-3b1976ca67aa",
   "metadata": {},
   "outputs": [
    {
     "data": {
      "text/plain": [
       "['경제>부동산', '스포츠>월드컵', '문화>요리_여행', '문화>미술_건축', 'IT_과학>과학']"
      ]
     },
     "execution_count": 8,
     "metadata": {},
     "output_type": "execute_result"
    }
   ],
   "source": [
    "categories[:5]"
   ]
  },
  {
   "cell_type": "markdown",
   "id": "166c345f-8c0f-4cf9-9d43-bca6dcd57ae9",
   "metadata": {},
   "source": [
    "## 대/중/소 카테고리 분류"
   ]
  },
  {
   "cell_type": "code",
   "execution_count": 9,
   "id": "58ae685e-56e1-4b5f-8f18-15409cc460d1",
   "metadata": {},
   "outputs": [],
   "source": [
    "majors = set()\n",
    "\n",
    "for category in categories:\n",
    "    elems = category.split(\">\")\n",
    "    majors.add(elems[0])\n",
    "\n",
    "majors = list(majors)"
   ]
  },
  {
   "cell_type": "code",
   "execution_count": 10,
   "id": "5454caa2-edfc-4c93-9928-ed820a595bd5",
   "metadata": {},
   "outputs": [
    {
     "data": {
      "text/plain": [
       "7"
      ]
     },
     "execution_count": 10,
     "metadata": {},
     "output_type": "execute_result"
    }
   ],
   "source": [
    "len(majors)"
   ]
  },
  {
   "cell_type": "code",
   "execution_count": 11,
   "id": "8143be09-d1e7-4035-9740-746d55513fab",
   "metadata": {},
   "outputs": [
    {
     "data": {
      "text/plain": [
       "['경제', '사회', '지역', '문화', 'IT_과학', '국제', '스포츠']"
      ]
     },
     "execution_count": 11,
     "metadata": {},
     "output_type": "execute_result"
    }
   ],
   "source": [
    "majors"
   ]
  },
  {
   "cell_type": "code",
   "execution_count": 12,
   "id": "7c27add5-1abe-40a8-a132-c50e1c64aca8",
   "metadata": {},
   "outputs": [],
   "source": [
    "category_dict = defaultdict(set)"
   ]
  },
  {
   "cell_type": "code",
   "execution_count": 13,
   "id": "900e50bd-48cb-47c0-a0c6-2faceccabcec",
   "metadata": {},
   "outputs": [],
   "source": [
    "for category in categories:\n",
    "    elems = category.split(\">\")\n",
    "    category_dict[elems[0]].add(elems[1])"
   ]
  },
  {
   "cell_type": "code",
   "execution_count": 14,
   "id": "6df42414-49a6-4d58-9af8-e4f7807c386e",
   "metadata": {},
   "outputs": [
    {
     "name": "stdout",
     "output_type": "stream",
     "text": [
      "경제\n",
      "{'외환', '국제경제', '무역', '유통', '자동차', '서비스_쇼핑', '금융_재테크', '경제일반', '부동산', '취업_창업', '산업_기업', '반도체', '증권_증시', '자원'}\n",
      "\n",
      "스포츠\n",
      "{'농구_배구', '축구', '골프', '월드컵', '야구', '스포츠일반', '올림픽_아시안게임'}\n",
      "\n",
      "문화\n",
      "{'영화', '전시_공연', '생활', '종교', '미술_건축', '방송_연예', '문화일반', '음악', '요리_여행', '학술_문화재', '출판'}\n",
      "\n",
      "IT_과학\n",
      "{'IT_과학일반', '인터넷_SNS', '모바일', '콘텐츠', '과학', '보안'}\n",
      "\n",
      "지역\n",
      "{'경남', '강원', '충남', '지역일반', '경기', '경북', '제주', '대전', '충북', '전북', '대구', '광주', '울산', '전남', '부산'}\n",
      "\n",
      "사회\n",
      "{'미디어', '장애인', '교육_시험', '환경', '날씨', '노동_복지', '여성', '사건_사고', '사회일반', '의료_건강'}\n",
      "\n",
      "국제\n",
      "{'중동_아프리카', '중국', '미국_북미', '러시아', '유럽_EU', '아시아', '국제일반', '중남미', '일본'}\n",
      "\n"
     ]
    }
   ],
   "source": [
    "for major_category, minors in category_dict.items():\n",
    "    print(major_category)\n",
    "    print(minors)\n",
    "    print()"
   ]
  },
  {
   "cell_type": "markdown",
   "id": "755580b6-c52a-40af-838b-8c8e8c1ef96b",
   "metadata": {},
   "source": [
    "## 대분류/중분류 저장"
   ]
  },
  {
   "cell_type": "code",
   "execution_count": 19,
   "id": "b1309efd-7c62-41fc-aa88-047571981cc4",
   "metadata": {},
   "outputs": [],
   "source": [
    "category_df = pd.DataFrame(columns=[\"대분류\", \"중분류\"])"
   ]
  },
  {
   "cell_type": "code",
   "execution_count": 21,
   "id": "0aedb48c-b52c-4671-b421-2059ee22ee3e",
   "metadata": {},
   "outputs": [],
   "source": [
    "for major_category, minors in category_dict.items():\n",
    "    for minor in list(minors):\n",
    "        category_df = pd.concat([category_df, pd.DataFrame([{\"대분류\": major_category, \"중분류\": minor}])], ignore_index=True)"
   ]
  },
  {
   "cell_type": "code",
   "execution_count": 22,
   "id": "382c38cb-b9f8-4d45-89b3-86289565750d",
   "metadata": {},
   "outputs": [
    {
     "data": {
      "text/html": [
       "<div>\n",
       "<style scoped>\n",
       "    .dataframe tbody tr th:only-of-type {\n",
       "        vertical-align: middle;\n",
       "    }\n",
       "\n",
       "    .dataframe tbody tr th {\n",
       "        vertical-align: top;\n",
       "    }\n",
       "\n",
       "    .dataframe thead th {\n",
       "        text-align: right;\n",
       "    }\n",
       "</style>\n",
       "<table border=\"1\" class=\"dataframe\">\n",
       "  <thead>\n",
       "    <tr style=\"text-align: right;\">\n",
       "      <th></th>\n",
       "      <th>대분류</th>\n",
       "      <th>중분류</th>\n",
       "    </tr>\n",
       "  </thead>\n",
       "  <tbody>\n",
       "    <tr>\n",
       "      <th>0</th>\n",
       "      <td>경제</td>\n",
       "      <td>외환</td>\n",
       "    </tr>\n",
       "    <tr>\n",
       "      <th>1</th>\n",
       "      <td>경제</td>\n",
       "      <td>국제경제</td>\n",
       "    </tr>\n",
       "    <tr>\n",
       "      <th>2</th>\n",
       "      <td>경제</td>\n",
       "      <td>무역</td>\n",
       "    </tr>\n",
       "    <tr>\n",
       "      <th>3</th>\n",
       "      <td>경제</td>\n",
       "      <td>유통</td>\n",
       "    </tr>\n",
       "    <tr>\n",
       "      <th>4</th>\n",
       "      <td>경제</td>\n",
       "      <td>자동차</td>\n",
       "    </tr>\n",
       "  </tbody>\n",
       "</table>\n",
       "</div>"
      ],
      "text/plain": [
       "  대분류   중분류\n",
       "0  경제    외환\n",
       "1  경제  국제경제\n",
       "2  경제    무역\n",
       "3  경제    유통\n",
       "4  경제   자동차"
      ]
     },
     "execution_count": 22,
     "metadata": {},
     "output_type": "execute_result"
    }
   ],
   "source": [
    "category_df.head()"
   ]
  },
  {
   "cell_type": "code",
   "execution_count": 24,
   "id": "a572be74-f90a-4e5e-9872-50f645421631",
   "metadata": {},
   "outputs": [],
   "source": [
    "category_df.to_csv(join(data_path, \"categories.csv\"), index=False, encoding=\"utf-8-sig\")"
   ]
  },
  {
   "cell_type": "code",
   "execution_count": null,
   "id": "1b86426f-4056-40d8-bd39-62d119b76a75",
   "metadata": {},
   "outputs": [],
   "source": []
  }
 ],
 "metadata": {
  "kernelspec": {
   "display_name": "es-ojt",
   "language": "python",
   "name": ".venv"
  },
  "language_info": {
   "codemirror_mode": {
    "name": "ipython",
    "version": 3
   },
   "file_extension": ".py",
   "mimetype": "text/x-python",
   "name": "python",
   "nbconvert_exporter": "python",
   "pygments_lexer": "ipython3",
   "version": "3.9.5"
  }
 },
 "nbformat": 4,
 "nbformat_minor": 5
}
