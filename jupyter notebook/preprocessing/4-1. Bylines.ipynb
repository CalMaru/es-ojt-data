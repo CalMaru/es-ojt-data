{
 "cells": [
  {
   "cell_type": "markdown",
   "id": "e6dbc70c-98aa-4138-878d-81dfd8436e01",
   "metadata": {},
   "source": [
    "# 기자"
   ]
  },
  {
   "cell_type": "code",
   "execution_count": 1,
   "id": "1f0fba6f-1db2-4b51-a6b9-e4355d3da2d3",
   "metadata": {},
   "outputs": [],
   "source": [
    "from pathlib import Path\n",
    "import os\n",
    "\n",
    "os.chdir(Path(os.getcwd()).parent)"
   ]
  },
  {
   "cell_type": "code",
   "execution_count": 2,
   "id": "69cf73a5-23c2-470e-b7b5-249c64dc0a24",
   "metadata": {},
   "outputs": [],
   "source": [
    "from os.path import join\n",
    "\n",
    "import pandas as pd\n",
    "import numpy as np"
   ]
  },
  {
   "cell_type": "markdown",
   "id": "d7f828c2-4b1c-4c26-a4c2-bb69878e56a7",
   "metadata": {},
   "source": [
    "## Load news data"
   ]
  },
  {
   "cell_type": "code",
   "execution_count": 3,
   "id": "6a9aa210-87f8-45d0-80ac-19ca97be638d",
   "metadata": {},
   "outputs": [],
   "source": [
    "root_path = os.getcwd()\n",
    "data_path = join(os.getcwd(), \"data\")"
   ]
  },
  {
   "cell_type": "code",
   "execution_count": 4,
   "id": "2dd30a3c-c746-45c3-a93b-aefccd306dd2",
   "metadata": {},
   "outputs": [],
   "source": [
    "news_df = pd.read_csv(join(data_path, \"news_data_20000.csv\"))"
   ]
  },
  {
   "cell_type": "code",
   "execution_count": 5,
   "id": "9c32823d-b2cd-4070-92e3-512d10cf7827",
   "metadata": {},
   "outputs": [],
   "source": [
    "bylines = sorted(news_df[\"byline\"].dropna().unique())"
   ]
  },
  {
   "cell_type": "code",
   "execution_count": 6,
   "id": "1f2a9173-f1da-4197-aa2d-f341ded3dbcb",
   "metadata": {},
   "outputs": [
    {
     "data": {
      "text/plain": [
       "4554"
      ]
     },
     "execution_count": 6,
     "metadata": {},
     "output_type": "execute_result"
    }
   ],
   "source": [
    "len(bylines)"
   ]
  },
  {
   "cell_type": "code",
   "execution_count": 7,
   "id": "1ec26e84-b003-403f-96b8-e13463ef24eb",
   "metadata": {},
   "outputs": [
    {
     "data": {
      "text/plain": [
       "['(中）/[번역]강지혜\\n[번역]강지혜',\n",
       " '(강원)강대웅·위준휘\\n위준휘',\n",
       " '(경주) 최주호\\n최주호',\n",
       " '(과천) 박재천\\n박재천',\n",
       " '(광주)박승호\\n박승호']"
      ]
     },
     "execution_count": 7,
     "metadata": {},
     "output_type": "execute_result"
    }
   ],
   "source": [
    "bylines[:5]"
   ]
  },
  {
   "cell_type": "markdown",
   "id": "f22dc10c-0513-4d39-b490-86940e33d5e5",
   "metadata": {},
   "source": [
    "## 기자명 저장"
   ]
  },
  {
   "cell_type": "code",
   "execution_count": 8,
   "id": "3a814e7d-62a9-4e5e-9c63-6a7dc56db18e",
   "metadata": {},
   "outputs": [],
   "source": [
    "byline_df = pd.DataFrame(columns=[\"이름\"])\n",
    "\n",
    "for byline in bylines:\n",
    "    byline_df = pd.concat([byline_df, pd.DataFrame([{\"이름\": byline}])], ignore_index=True)"
   ]
  },
  {
   "cell_type": "code",
   "execution_count": 9,
   "id": "0f6d87ca-91b8-4cd4-9e43-98d69ddb4cfe",
   "metadata": {},
   "outputs": [
    {
     "data": {
      "text/html": [
       "<div>\n",
       "<style scoped>\n",
       "    .dataframe tbody tr th:only-of-type {\n",
       "        vertical-align: middle;\n",
       "    }\n",
       "\n",
       "    .dataframe tbody tr th {\n",
       "        vertical-align: top;\n",
       "    }\n",
       "\n",
       "    .dataframe thead th {\n",
       "        text-align: right;\n",
       "    }\n",
       "</style>\n",
       "<table border=\"1\" class=\"dataframe\">\n",
       "  <thead>\n",
       "    <tr style=\"text-align: right;\">\n",
       "      <th></th>\n",
       "      <th>이름</th>\n",
       "    </tr>\n",
       "  </thead>\n",
       "  <tbody>\n",
       "    <tr>\n",
       "      <th>0</th>\n",
       "      <td>(中）/[번역]강지혜\\n[번역]강지혜</td>\n",
       "    </tr>\n",
       "    <tr>\n",
       "      <th>1</th>\n",
       "      <td>(강원)강대웅·위준휘\\n위준휘</td>\n",
       "    </tr>\n",
       "    <tr>\n",
       "      <th>2</th>\n",
       "      <td>(경주) 최주호\\n최주호</td>\n",
       "    </tr>\n",
       "    <tr>\n",
       "      <th>3</th>\n",
       "      <td>(과천) 박재천\\n박재천</td>\n",
       "    </tr>\n",
       "    <tr>\n",
       "      <th>4</th>\n",
       "      <td>(광주)박승호\\n박승호</td>\n",
       "    </tr>\n",
       "  </tbody>\n",
       "</table>\n",
       "</div>"
      ],
      "text/plain": [
       "                     이름\n",
       "0  (中）/[번역]강지혜\\n[번역]강지혜\n",
       "1      (강원)강대웅·위준휘\\n위준휘\n",
       "2         (경주) 최주호\\n최주호\n",
       "3         (과천) 박재천\\n박재천\n",
       "4          (광주)박승호\\n박승호"
      ]
     },
     "execution_count": 9,
     "metadata": {},
     "output_type": "execute_result"
    }
   ],
   "source": [
    "byline_df.head()"
   ]
  },
  {
   "cell_type": "code",
   "execution_count": 11,
   "id": "dfc08ebc-639b-44a0-91a8-53fe786f8d5b",
   "metadata": {},
   "outputs": [],
   "source": [
    "byline_df.to_csv(join(data_path, \"bylines\", \"bylines.csv\"), index=False, encoding=\"utf-8-sig\")"
   ]
  },
  {
   "cell_type": "code",
   "execution_count": null,
   "id": "367e5d15-3c8d-408e-b1b2-1ca45df490b4",
   "metadata": {},
   "outputs": [],
   "source": []
  }
 ],
 "metadata": {
  "kernelspec": {
   "display_name": "es-ojt",
   "language": "python",
   "name": ".venv"
  },
  "language_info": {
   "codemirror_mode": {
    "name": "ipython",
    "version": 3
   },
   "file_extension": ".py",
   "mimetype": "text/x-python",
   "name": "python",
   "nbconvert_exporter": "python",
   "pygments_lexer": "ipython3",
   "version": "3.9.5"
  }
 },
 "nbformat": 4,
 "nbformat_minor": 5
}
