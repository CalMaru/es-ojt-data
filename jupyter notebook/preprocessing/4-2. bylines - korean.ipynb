{
 "cells": [
  {
   "cell_type": "markdown",
   "id": "760ee24f-740c-4d65-9ea2-90d990db6b83",
   "metadata": {},
   "source": [
    "# 기자 전처리1"
   ]
  },
  {
   "cell_type": "code",
   "execution_count": 1,
   "id": "95550659-d91a-4caf-9134-e71bce43e51a",
   "metadata": {},
   "outputs": [],
   "source": [
    "from pathlib import Path\n",
    "import os\n",
    "\n",
    "os.chdir(Path(os.getcwd()).parent)"
   ]
  },
  {
   "cell_type": "code",
   "execution_count": 2,
   "id": "0b13a44a-f6c0-4cce-9bd3-56f0f1a2476a",
   "metadata": {},
   "outputs": [],
   "source": [
    "from os.path import join\n",
    "\n",
    "import pandas as pd"
   ]
  },
  {
   "cell_type": "markdown",
   "id": "dbada5f2-cc26-45ff-a77f-78f3a114dd02",
   "metadata": {},
   "source": [
    "## Load byline data"
   ]
  },
  {
   "cell_type": "code",
   "execution_count": 3,
   "id": "ec209083-9a79-4aa7-89d2-9e2a4e401653",
   "metadata": {},
   "outputs": [],
   "source": [
    "root_path = os.getcwd()\n",
    "data_path = join(os.getcwd(), \"data\", \"preprocessing\")\n",
    "byline_path = join(data_path, \"bylines\")"
   ]
  },
  {
   "cell_type": "code",
   "execution_count": 4,
   "id": "957b3dbb-3468-4909-9d1c-e023fc6c3797",
   "metadata": {},
   "outputs": [
    {
     "data": {
      "text/html": [
       "<div>\n",
       "<style scoped>\n",
       "    .dataframe tbody tr th:only-of-type {\n",
       "        vertical-align: middle;\n",
       "    }\n",
       "\n",
       "    .dataframe tbody tr th {\n",
       "        vertical-align: top;\n",
       "    }\n",
       "\n",
       "    .dataframe thead th {\n",
       "        text-align: right;\n",
       "    }\n",
       "</style>\n",
       "<table border=\"1\" class=\"dataframe\">\n",
       "  <thead>\n",
       "    <tr style=\"text-align: right;\">\n",
       "      <th></th>\n",
       "      <th>이름</th>\n",
       "    </tr>\n",
       "  </thead>\n",
       "  <tbody>\n",
       "    <tr>\n",
       "      <th>0</th>\n",
       "      <td>(中）/[번역]강지혜\\n[번역]강지혜</td>\n",
       "    </tr>\n",
       "    <tr>\n",
       "      <th>1</th>\n",
       "      <td>(강원)강대웅·위준휘\\n위준휘</td>\n",
       "    </tr>\n",
       "    <tr>\n",
       "      <th>2</th>\n",
       "      <td>(경주) 최주호\\n최주호</td>\n",
       "    </tr>\n",
       "    <tr>\n",
       "      <th>3</th>\n",
       "      <td>(과천) 박재천\\n박재천</td>\n",
       "    </tr>\n",
       "    <tr>\n",
       "      <th>4</th>\n",
       "      <td>(광주)박승호\\n박승호</td>\n",
       "    </tr>\n",
       "  </tbody>\n",
       "</table>\n",
       "</div>"
      ],
      "text/plain": [
       "                     이름\n",
       "0  (中）/[번역]강지혜\\n[번역]강지혜\n",
       "1      (강원)강대웅·위준휘\\n위준휘\n",
       "2         (경주) 최주호\\n최주호\n",
       "3         (과천) 박재천\\n박재천\n",
       "4          (광주)박승호\\n박승호"
      ]
     },
     "execution_count": 4,
     "metadata": {},
     "output_type": "execute_result"
    }
   ],
   "source": [
    "byline_df = pd.read_csv(join(byline_path, \"bylines.csv\"))\n",
    "byline_df.head()"
   ]
  },
  {
   "cell_type": "markdown",
   "id": "6c4d764b-5fdf-4c9e-810f-df8484e69589",
   "metadata": {},
   "source": [
    "## 이름 분류\n",
    "- normal: 이름이 3글자인 경우\n",
    "- abnormal: 그외"
   ]
  },
  {
   "cell_type": "code",
   "execution_count": 5,
   "id": "f927966c-e0c4-432b-9ef5-464a1b039633",
   "metadata": {},
   "outputs": [],
   "source": [
    "names = byline_df[\"이름\"]"
   ]
  },
  {
   "cell_type": "code",
   "execution_count": 6,
   "id": "f06b4a91-400b-4277-9422-020b43a52db6",
   "metadata": {},
   "outputs": [],
   "source": [
    "normal_names, abnormal_names = set(), set()\n",
    "\n",
    "for name in names:\n",
    "    if len(name) == 3:\n",
    "        normal_names.add(name)\n",
    "    else:\n",
    "        abnormal_names.add(name)"
   ]
  },
  {
   "cell_type": "code",
   "execution_count": 7,
   "id": "918e8e9a-38ee-4325-994d-3dddd7fe3e65",
   "metadata": {},
   "outputs": [
    {
     "data": {
      "text/plain": [
       "(2260, 2294)"
      ]
     },
     "execution_count": 7,
     "metadata": {},
     "output_type": "execute_result"
    }
   ],
   "source": [
    "len(normal_names), len(abnormal_names)"
   ]
  },
  {
   "cell_type": "code",
   "execution_count": 8,
   "id": "bda47514-f655-4e17-8605-94f6753fe6ba",
   "metadata": {},
   "outputs": [],
   "source": [
    "normal_names = sorted(normal_names)\n",
    "abnormal_names = sorted(abnormal_names)"
   ]
  },
  {
   "cell_type": "code",
   "execution_count": 9,
   "id": "985ff217-5e28-4a43-818c-c2b121677858",
   "metadata": {},
   "outputs": [],
   "source": [
    "name_df = pd.DataFrame(columns=[\"이름\"])\n",
    "\n",
    "for name in normal_names:\n",
    "    name_df = pd.concat([name_df, pd.DataFrame([{\"이름\": name}])], ignore_index=True)\n",
    "\n",
    "name_df.to_csv(join(byline_path, \"names.csv\"), index=False, encoding=\"utf-8-sig\")"
   ]
  },
  {
   "cell_type": "code",
   "execution_count": 10,
   "id": "20411011-f9be-4ce9-a8bc-b50dce60e5ca",
   "metadata": {},
   "outputs": [],
   "source": [
    "name_to_process_df = pd.DataFrame(columns=[\"이름\"])\n",
    "\n",
    "for name in abnormal_names:\n",
    "    name_to_process_df = pd.concat([name_to_process_df, pd.DataFrame([{\"이름\": name}])], ignore_index=True)\n",
    "\n",
    "name_to_process_df.to_csv(join(byline_path, \"abnormal_names.csv\"), index=False, encoding=\"utf-8-sig\")"
   ]
  },
  {
   "cell_type": "markdown",
   "id": "6a95a21e-600d-4288-af8c-448fc2fd3d21",
   "metadata": {},
   "source": [
    "## 전처리 할 이름 분류"
   ]
  },
  {
   "cell_type": "code",
   "execution_count": 11,
   "id": "032a6941-8d0c-4601-bbaf-073aa6a3e291",
   "metadata": {},
   "outputs": [
    {
     "data": {
      "text/html": [
       "<div>\n",
       "<style scoped>\n",
       "    .dataframe tbody tr th:only-of-type {\n",
       "        vertical-align: middle;\n",
       "    }\n",
       "\n",
       "    .dataframe tbody tr th {\n",
       "        vertical-align: top;\n",
       "    }\n",
       "\n",
       "    .dataframe thead th {\n",
       "        text-align: right;\n",
       "    }\n",
       "</style>\n",
       "<table border=\"1\" class=\"dataframe\">\n",
       "  <thead>\n",
       "    <tr style=\"text-align: right;\">\n",
       "      <th></th>\n",
       "      <th>이름</th>\n",
       "    </tr>\n",
       "  </thead>\n",
       "  <tbody>\n",
       "    <tr>\n",
       "      <th>0</th>\n",
       "      <td>(中）/[번역]강지혜\\n[번역]강지혜</td>\n",
       "    </tr>\n",
       "    <tr>\n",
       "      <th>1</th>\n",
       "      <td>(강원)강대웅·위준휘\\n위준휘</td>\n",
       "    </tr>\n",
       "    <tr>\n",
       "      <th>2</th>\n",
       "      <td>(경주) 최주호\\n최주호</td>\n",
       "    </tr>\n",
       "    <tr>\n",
       "      <th>3</th>\n",
       "      <td>(과천) 박재천\\n박재천</td>\n",
       "    </tr>\n",
       "    <tr>\n",
       "      <th>4</th>\n",
       "      <td>(광주)박승호\\n박승호</td>\n",
       "    </tr>\n",
       "  </tbody>\n",
       "</table>\n",
       "</div>"
      ],
      "text/plain": [
       "                     이름\n",
       "0  (中）/[번역]강지혜\\n[번역]강지혜\n",
       "1      (강원)강대웅·위준휘\\n위준휘\n",
       "2         (경주) 최주호\\n최주호\n",
       "3         (과천) 박재천\\n박재천\n",
       "4          (광주)박승호\\n박승호"
      ]
     },
     "execution_count": 11,
     "metadata": {},
     "output_type": "execute_result"
    }
   ],
   "source": [
    "name_to_process_df.head()"
   ]
  },
  {
   "cell_type": "markdown",
   "id": "a337b533-072e-4a93-8964-160dc04cba7b",
   "metadata": {},
   "source": [
    "### Case1 - 개행이 있는 경우"
   ]
  },
  {
   "cell_type": "code",
   "execution_count": 17,
   "id": "5c1c1f44-5124-4ea5-92e4-d2bce4afafb4",
   "metadata": {},
   "outputs": [
    {
     "data": {
      "text/plain": [
       "(97, 2197)"
      ]
     },
     "execution_count": 17,
     "metadata": {},
     "output_type": "execute_result"
    }
   ],
   "source": [
    "names = abnormal_names\n",
    "names_with_newline, others = [], []\n",
    "\n",
    "for name in names:\n",
    "    if len(name.splitlines()) > 1:\n",
    "        names_with_newline.append(name)\n",
    "    else:\n",
    "        others.append(name)\n",
    "\n",
    "len(names_with_newline), len(others)"
   ]
  },
  {
   "cell_type": "code",
   "execution_count": 16,
   "id": "6eb3cdb8-8ff4-44e4-a9ee-2eb086023554",
   "metadata": {},
   "outputs": [],
   "source": [
    "names_newline_df = pd.DataFrame()\n",
    "names_newline_df[\"이름\"] = names_with_newline\n",
    "names_newline_df.to_csv(join(byline_path, \"names_newline.csv\"), index=False, encoding=\"utf-8-sig\")"
   ]
  },
  {
   "cell_type": "code",
   "execution_count": 18,
   "id": "a1ec1fc8-152c-400c-8796-e4404bf4a734",
   "metadata": {},
   "outputs": [],
   "source": [
    "others_df = pd.DataFrame()\n",
    "others_df[\"이름\"] = others\n",
    "others_df.to_csv(join(byline_path, \"names_others.csv\"), index=False, encoding=\"utf-8-sig\")"
   ]
  },
  {
   "cell_type": "code",
   "execution_count": null,
   "id": "66ce7172-4566-44fc-a762-d52ed9f85af3",
   "metadata": {},
   "outputs": [],
   "source": []
  }
 ],
 "metadata": {
  "kernelspec": {
   "display_name": "es-ojt",
   "language": "python",
   "name": ".venv"
  },
  "language_info": {
   "codemirror_mode": {
    "name": "ipython",
    "version": 3
   },
   "file_extension": ".py",
   "mimetype": "text/x-python",
   "name": "python",
   "nbconvert_exporter": "python",
   "pygments_lexer": "ipython3",
   "version": "3.9.5"
  }
 },
 "nbformat": 4,
 "nbformat_minor": 5
}
