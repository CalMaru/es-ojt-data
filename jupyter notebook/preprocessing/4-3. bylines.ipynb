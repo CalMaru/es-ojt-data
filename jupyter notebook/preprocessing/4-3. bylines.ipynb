{
 "cells": [
  {
   "cell_type": "markdown",
   "id": "4f2b98c0-10af-446b-a6a2-9af351bf456a",
   "metadata": {},
   "source": [
    "# 기자 전처리 2"
   ]
  },
  {
   "cell_type": "code",
   "execution_count": 1,
   "id": "214b6594-74de-430b-855c-4d38abf41633",
   "metadata": {},
   "outputs": [],
   "source": [
    "from pathlib import Path\n",
    "import os\n",
    "\n",
    "os.chdir(Path(os.getcwd()).parent)"
   ]
  },
  {
   "cell_type": "code",
   "execution_count": 8,
   "id": "26163b19-16b6-44a1-b299-d819fc374e43",
   "metadata": {},
   "outputs": [],
   "source": [
    "from os.path import join\n",
    "\n",
    "import pandas as pd\n",
    "import numpy as np"
   ]
  },
  {
   "cell_type": "markdown",
   "id": "be66b5a4-7b17-4553-9b69-fc46f7bce523",
   "metadata": {},
   "source": [
    "## Load Others data"
   ]
  },
  {
   "cell_type": "code",
   "execution_count": 3,
   "id": "dc0ec7e0-3bba-41b5-b305-5d6c48c3f021",
   "metadata": {},
   "outputs": [],
   "source": [
    "root_path = os.getcwd()\n",
    "data_path = join(os.getcwd(), \"data\", \"preprocessing\")\n",
    "byline_path = join(data_path, \"bylines\")"
   ]
  },
  {
   "cell_type": "code",
   "execution_count": 29,
   "id": "2251e7b3-3912-44c7-a76c-f213f36f5020",
   "metadata": {},
   "outputs": [
    {
     "data": {
      "text/html": [
       "<div>\n",
       "<style scoped>\n",
       "    .dataframe tbody tr th:only-of-type {\n",
       "        vertical-align: middle;\n",
       "    }\n",
       "\n",
       "    .dataframe tbody tr th {\n",
       "        vertical-align: top;\n",
       "    }\n",
       "\n",
       "    .dataframe thead th {\n",
       "        text-align: right;\n",
       "    }\n",
       "</style>\n",
       "<table border=\"1\" class=\"dataframe\">\n",
       "  <thead>\n",
       "    <tr style=\"text-align: right;\">\n",
       "      <th></th>\n",
       "      <th>이름</th>\n",
       "    </tr>\n",
       "  </thead>\n",
       "  <tbody>\n",
       "    <tr>\n",
       "      <th>0</th>\n",
       "      <td>.</td>\n",
       "    </tr>\n",
       "    <tr>\n",
       "      <th>1</th>\n",
       "      <td>/ 이준헌 기자</td>\n",
       "    </tr>\n",
       "    <tr>\n",
       "      <th>2</th>\n",
       "      <td>/인천=장현일 기자 hichang@sedaily.com</td>\n",
       "    </tr>\n",
       "    <tr>\n",
       "      <th>3</th>\n",
       "      <td>2006022;2021005 기자</td>\n",
       "    </tr>\n",
       "    <tr>\n",
       "      <th>4</th>\n",
       "      <td>2016004;2020021 기자</td>\n",
       "    </tr>\n",
       "  </tbody>\n",
       "</table>\n",
       "</div>"
      ],
      "text/plain": [
       "                               이름\n",
       "0                               .\n",
       "1                        / 이준헌 기자\n",
       "2  /인천=장현일 기자 hichang@sedaily.com\n",
       "3              2006022;2021005 기자\n",
       "4              2016004;2020021 기자"
      ]
     },
     "execution_count": 29,
     "metadata": {},
     "output_type": "execute_result"
    }
   ],
   "source": [
    "byline_df = pd.read_csv(join(byline_path, \"names_others.csv\"))\n",
    "byline_df.head()"
   ]
  },
  {
   "cell_type": "markdown",
   "id": "03126338-3c80-495b-b544-8a2c14c9af0d",
   "metadata": {},
   "source": [
    "### Case 2\n",
    "ooo 기자"
   ]
  },
  {
   "cell_type": "code",
   "execution_count": 30,
   "id": "0f855528-c9bf-49f6-880d-1440b361c5c0",
   "metadata": {},
   "outputs": [],
   "source": [
    "byline_df[\"정규화\"] = np.nan"
   ]
  },
  {
   "cell_type": "code",
   "execution_count": 31,
   "id": "8cf191e7-54b9-4406-8be6-f7cd3927cad5",
   "metadata": {},
   "outputs": [],
   "source": [
    "def iter_loop(name: str) -> tuple[bool, str]:\n",
    "    name_splits = name.split(\" \")\n",
    "    \n",
    "    if len(name_splits) == 2:\n",
    "        if name_splits[1] == \"기자\":\n",
    "            return True, name_splits[0]\n",
    "        else:\n",
    "            return False, name\n",
    "    else:\n",
    "        return False, name"
   ]
  },
  {
   "cell_type": "code",
   "execution_count": 34,
   "id": "b3ca19fb-a2e2-414a-ae86-8488ed689de6",
   "metadata": {},
   "outputs": [
    {
     "data": {
      "text/plain": [
       "1343"
      ]
     },
     "execution_count": 34,
     "metadata": {},
     "output_type": "execute_result"
    }
   ],
   "source": [
    "others = []\n",
    "\n",
    "for index, row in byline_df.iterrows():\n",
    "    is_reporter, name = iter_loop(row[\"이름\"])\n",
    "\n",
    "    if is_reporter:\n",
    "        byline_df.at[index, \"정규화\"] = name\n",
    "    else:\n",
    "        others.append(name)\n",
    "\n",
    "len(others)"
   ]
  },
  {
   "cell_type": "code",
   "execution_count": 37,
   "id": "223947af-b5ea-4f19-812f-6a172522a928",
   "metadata": {},
   "outputs": [],
   "source": [
    "byline_df.to_csv(join(byline_path, \"names_others.csv\"), index=False, encoding=\"utf-8-sig\")"
   ]
  },
  {
   "cell_type": "code",
   "execution_count": 38,
   "id": "e29286f0-adc0-41f5-93a7-07a822597743",
   "metadata": {},
   "outputs": [],
   "source": [
    "others_df = pd.DataFrame()\n",
    "others_df[\"이름\"] = others\n",
    "others_df.to_csv(join(byline_path, \"names_others1.csv\"), index=False, encoding=\"utf-8-sig\")"
   ]
  },
  {
   "cell_type": "code",
   "execution_count": null,
   "id": "0e507c36-6aaa-4030-96c7-ccf248646b55",
   "metadata": {},
   "outputs": [],
   "source": []
  }
 ],
 "metadata": {
  "kernelspec": {
   "display_name": "es-ojt",
   "language": "python",
   "name": ".venv"
  },
  "language_info": {
   "codemirror_mode": {
    "name": "ipython",
    "version": 3
   },
   "file_extension": ".py",
   "mimetype": "text/x-python",
   "name": "python",
   "nbconvert_exporter": "python",
   "pygments_lexer": "ipython3",
   "version": "3.9.5"
  }
 },
 "nbformat": 4,
 "nbformat_minor": 5
}
