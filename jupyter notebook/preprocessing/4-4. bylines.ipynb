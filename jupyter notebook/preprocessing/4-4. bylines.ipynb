{
 "cells": [
  {
   "cell_type": "markdown",
   "id": "899279c4-340d-41ac-9150-3e47027bc192",
   "metadata": {},
   "source": [
    "# 기자 전처리 3"
   ]
  },
  {
   "cell_type": "markdown",
   "id": "c18f83d7-25ea-4935-8e8f-bbedc111fe53",
   "metadata": {},
   "source": [
    "### csv 정보\n",
    "- bylines.csv: 원본 기자명\n",
    "- names.csv: 3글자 기자명\n",
    "  - 수동 정규화 - 단체 이름 제거\n",
    "- names_newline.csv: 개행 문자 포함한 기자명\n",
    "  - 수동 정규화\n",
    "- names_others.csv\n",
    "  - `OOO 기자` 정규화\n",
    "  - `OOO` 수동 정규화\n",
    "- names_others1.csv\n",
    "  - 나머지 이름 수동 정규화"
   ]
  },
  {
   "cell_type": "code",
   "execution_count": 1,
   "id": "5c486a62-7b7e-4eee-9fab-cfd2c98193b8",
   "metadata": {},
   "outputs": [],
   "source": [
    "from pathlib import Path\n",
    "import os\n",
    "\n",
    "os.chdir(Path(os.getcwd()).parent)"
   ]
  },
  {
   "cell_type": "code",
   "execution_count": 2,
   "id": "cae65f71-6bef-4d43-b9fc-276e3ecb84cb",
   "metadata": {},
   "outputs": [],
   "source": [
    "from os.path import join\n",
    "\n",
    "import pandas as pd\n",
    "import numpy as np"
   ]
  },
  {
   "cell_type": "code",
   "execution_count": 3,
   "id": "04f3c320-7b1b-4333-93f4-d623186eb124",
   "metadata": {},
   "outputs": [],
   "source": [
    "root_path = os.getcwd()\n",
    "data_path = join(os.getcwd(), \"data\", \"preprocessing\")\n",
    "byline_path = join(data_path, \"bylines\")\n",
    "reporter_path = join(data_path, \"bylines.csv\")"
   ]
  },
  {
   "cell_type": "markdown",
   "id": "11d9e23e-68fa-4f93-9abe-bce87dff3090",
   "metadata": {},
   "source": [
    "## 1. bylines -> reporters\n",
    "- 수동 복사"
   ]
  },
  {
   "cell_type": "code",
   "execution_count": 4,
   "id": "1aefd770-681d-4a26-a17f-eb9ca3fc7028",
   "metadata": {},
   "outputs": [],
   "source": [
    "reporter_df = pd.read_csv(reporter_path)"
   ]
  },
  {
   "cell_type": "code",
   "execution_count": 5,
   "id": "25594c8b-ec16-49be-9ede-9943c52244de",
   "metadata": {},
   "outputs": [
    {
     "data": {
      "text/html": [
       "<div>\n",
       "<style scoped>\n",
       "    .dataframe tbody tr th:only-of-type {\n",
       "        vertical-align: middle;\n",
       "    }\n",
       "\n",
       "    .dataframe tbody tr th {\n",
       "        vertical-align: top;\n",
       "    }\n",
       "\n",
       "    .dataframe thead th {\n",
       "        text-align: right;\n",
       "    }\n",
       "</style>\n",
       "<table border=\"1\" class=\"dataframe\">\n",
       "  <thead>\n",
       "    <tr style=\"text-align: right;\">\n",
       "      <th></th>\n",
       "      <th>이름</th>\n",
       "    </tr>\n",
       "  </thead>\n",
       "  <tbody>\n",
       "    <tr>\n",
       "      <th>0</th>\n",
       "      <td>(中）/[번역]강지혜\\n[번역]강지혜</td>\n",
       "    </tr>\n",
       "    <tr>\n",
       "      <th>1</th>\n",
       "      <td>(강원)강대웅·위준휘\\n위준휘</td>\n",
       "    </tr>\n",
       "    <tr>\n",
       "      <th>2</th>\n",
       "      <td>(경주) 최주호\\n최주호</td>\n",
       "    </tr>\n",
       "    <tr>\n",
       "      <th>3</th>\n",
       "      <td>(과천) 박재천\\n박재천</td>\n",
       "    </tr>\n",
       "    <tr>\n",
       "      <th>4</th>\n",
       "      <td>(광주)박승호\\n박승호</td>\n",
       "    </tr>\n",
       "  </tbody>\n",
       "</table>\n",
       "</div>"
      ],
      "text/plain": [
       "                     이름\n",
       "0  (中）/[번역]강지혜\\n[번역]강지혜\n",
       "1      (강원)강대웅·위준휘\\n위준휘\n",
       "2         (경주) 최주호\\n최주호\n",
       "3         (과천) 박재천\\n박재천\n",
       "4          (광주)박승호\\n박승호"
      ]
     },
     "execution_count": 5,
     "metadata": {},
     "output_type": "execute_result"
    }
   ],
   "source": [
    "reporter_df.head()"
   ]
  },
  {
   "cell_type": "code",
   "execution_count": 6,
   "id": "f797b3a7-f8f7-409b-857e-b21cd5f9f5ee",
   "metadata": {},
   "outputs": [
    {
     "data": {
      "text/plain": [
       "(4554, 1)"
      ]
     },
     "execution_count": 6,
     "metadata": {},
     "output_type": "execute_result"
    }
   ],
   "source": [
    "reporter_df.shape"
   ]
  },
  {
   "cell_type": "code",
   "execution_count": 7,
   "id": "2bf4d491-93cb-4dbe-8c39-a2da429a3f41",
   "metadata": {},
   "outputs": [],
   "source": [
    "reporter_df[\"정규화\"] = np.nan"
   ]
  },
  {
   "cell_type": "code",
   "execution_count": 8,
   "id": "c291fda7-fdb4-4376-a1fc-06e5a3905190",
   "metadata": {},
   "outputs": [
    {
     "data": {
      "text/plain": [
       "이름     object\n",
       "정규화    object\n",
       "dtype: object"
      ]
     },
     "execution_count": 8,
     "metadata": {},
     "output_type": "execute_result"
    }
   ],
   "source": [
    "reporter_df= reporter_df.astype({\"정규화\": \"object\"})\n",
    "reporter_df.dtypes"
   ]
  },
  {
   "cell_type": "markdown",
   "id": "4664d24c-cd05-41b8-b8f2-9203f2070408",
   "metadata": {},
   "source": [
    "## 2. names → reporters"
   ]
  },
  {
   "cell_type": "code",
   "execution_count": 9,
   "id": "67c267be-9634-4ba5-a782-76d3bd105a3e",
   "metadata": {},
   "outputs": [],
   "source": [
    "names_df = pd.read_csv(join(byline_path, \"names.csv\"))"
   ]
  },
  {
   "cell_type": "code",
   "execution_count": 10,
   "id": "f14b2c8c-eac3-43a2-b70f-9a1babe1de40",
   "metadata": {},
   "outputs": [
    {
     "data": {
      "text/html": [
       "<div>\n",
       "<style scoped>\n",
       "    .dataframe tbody tr th:only-of-type {\n",
       "        vertical-align: middle;\n",
       "    }\n",
       "\n",
       "    .dataframe tbody tr th {\n",
       "        vertical-align: top;\n",
       "    }\n",
       "\n",
       "    .dataframe thead th {\n",
       "        text-align: right;\n",
       "    }\n",
       "</style>\n",
       "<table border=\"1\" class=\"dataframe\">\n",
       "  <thead>\n",
       "    <tr style=\"text-align: right;\">\n",
       "      <th></th>\n",
       "      <th>이름</th>\n",
       "      <th>정규화</th>\n",
       "    </tr>\n",
       "  </thead>\n",
       "  <tbody>\n",
       "    <tr>\n",
       "      <th>0</th>\n",
       "      <td>FTV</td>\n",
       "      <td>NaN</td>\n",
       "    </tr>\n",
       "    <tr>\n",
       "      <th>1</th>\n",
       "      <td>KBS</td>\n",
       "      <td>NaN</td>\n",
       "    </tr>\n",
       "    <tr>\n",
       "      <th>2</th>\n",
       "      <td>KNN</td>\n",
       "      <td>NaN</td>\n",
       "    </tr>\n",
       "    <tr>\n",
       "      <th>3</th>\n",
       "      <td>TBC</td>\n",
       "      <td>NaN</td>\n",
       "    </tr>\n",
       "    <tr>\n",
       "      <th>4</th>\n",
       "      <td>UBC</td>\n",
       "      <td>NaN</td>\n",
       "    </tr>\n",
       "  </tbody>\n",
       "</table>\n",
       "</div>"
      ],
      "text/plain": [
       "    이름  정규화\n",
       "0  FTV  NaN\n",
       "1  KBS  NaN\n",
       "2  KNN  NaN\n",
       "3  TBC  NaN\n",
       "4  UBC  NaN"
      ]
     },
     "execution_count": 10,
     "metadata": {},
     "output_type": "execute_result"
    }
   ],
   "source": [
    "names_df.head()"
   ]
  },
  {
   "cell_type": "code",
   "execution_count": 11,
   "id": "bc1a5c29-20e9-4859-a75e-072410de453b",
   "metadata": {},
   "outputs": [],
   "source": [
    "for index, row in names_df.iterrows():\n",
    "    name, new_name = row[\"이름\"], row[\"정규화\"]\n",
    "    if new_name is not np.nan:\n",
    "        reporter_df.loc[reporter_df[\"이름\"] == name, \"정규화\"] = new_name"
   ]
  },
  {
   "cell_type": "markdown",
   "id": "b735e7d1-ae1a-4fe8-b819-c3b2802c99de",
   "metadata": {},
   "source": [
    "## 3. names_newline → reporters"
   ]
  },
  {
   "cell_type": "code",
   "execution_count": 12,
   "id": "b9654752-b2ab-40b8-bb77-86dd4ba63e09",
   "metadata": {},
   "outputs": [],
   "source": [
    "names_newline_df = pd.read_csv(join(byline_path, \"names_newline.csv\"))"
   ]
  },
  {
   "cell_type": "code",
   "execution_count": 13,
   "id": "be32f601-9e92-42fd-91d3-f3d240a0c41c",
   "metadata": {},
   "outputs": [
    {
     "data": {
      "text/html": [
       "<div>\n",
       "<style scoped>\n",
       "    .dataframe tbody tr th:only-of-type {\n",
       "        vertical-align: middle;\n",
       "    }\n",
       "\n",
       "    .dataframe tbody tr th {\n",
       "        vertical-align: top;\n",
       "    }\n",
       "\n",
       "    .dataframe thead th {\n",
       "        text-align: right;\n",
       "    }\n",
       "</style>\n",
       "<table border=\"1\" class=\"dataframe\">\n",
       "  <thead>\n",
       "    <tr style=\"text-align: right;\">\n",
       "      <th></th>\n",
       "      <th>이름</th>\n",
       "      <th>정규화</th>\n",
       "    </tr>\n",
       "  </thead>\n",
       "  <tbody>\n",
       "    <tr>\n",
       "      <th>0</th>\n",
       "      <td>(中）/[번역]강지혜\\n[번역]강지혜</td>\n",
       "      <td>강지혜</td>\n",
       "    </tr>\n",
       "    <tr>\n",
       "      <th>1</th>\n",
       "      <td>(강원)강대웅·위준휘\\n위준휘</td>\n",
       "      <td>강대웅||위준휘</td>\n",
       "    </tr>\n",
       "    <tr>\n",
       "      <th>2</th>\n",
       "      <td>(경주) 최주호\\n최주호</td>\n",
       "      <td>최주호</td>\n",
       "    </tr>\n",
       "    <tr>\n",
       "      <th>3</th>\n",
       "      <td>(과천) 박재천\\n박재천</td>\n",
       "      <td>박재천</td>\n",
       "    </tr>\n",
       "    <tr>\n",
       "      <th>4</th>\n",
       "      <td>(광주)박승호\\n박승호</td>\n",
       "      <td>박승호</td>\n",
       "    </tr>\n",
       "  </tbody>\n",
       "</table>\n",
       "</div>"
      ],
      "text/plain": [
       "                     이름       정규화\n",
       "0  (中）/[번역]강지혜\\n[번역]강지혜       강지혜\n",
       "1      (강원)강대웅·위준휘\\n위준휘  강대웅||위준휘\n",
       "2         (경주) 최주호\\n최주호       최주호\n",
       "3         (과천) 박재천\\n박재천       박재천\n",
       "4          (광주)박승호\\n박승호       박승호"
      ]
     },
     "execution_count": 13,
     "metadata": {},
     "output_type": "execute_result"
    }
   ],
   "source": [
    "names_newline_df.head()"
   ]
  },
  {
   "cell_type": "code",
   "execution_count": 14,
   "id": "98a8b620-2f49-4eb2-8902-539a5dc4fe52",
   "metadata": {},
   "outputs": [],
   "source": [
    "for index, row in names_newline_df.iterrows():\n",
    "    name, new_name = row[\"이름\"], row[\"정규화\"]\n",
    "    if new_name is not np.nan:\n",
    "        reporter_df.loc[reporter_df[\"이름\"] == name, \"정규화\"] = new_name"
   ]
  },
  {
   "cell_type": "markdown",
   "id": "a437abe7-251c-4afc-9cc5-ccd2911fbaf5",
   "metadata": {},
   "source": [
    "## 4. names_others → reporters"
   ]
  },
  {
   "cell_type": "code",
   "execution_count": 15,
   "id": "8464dc8f-6c1c-45bf-a976-12714b20356f",
   "metadata": {},
   "outputs": [],
   "source": [
    "others_df = pd.read_csv(join(byline_path, \"names_others.csv\"))"
   ]
  },
  {
   "cell_type": "code",
   "execution_count": 16,
   "id": "002d2c75-8450-4372-9761-ed6c2c17e752",
   "metadata": {},
   "outputs": [
    {
     "data": {
      "text/html": [
       "<div>\n",
       "<style scoped>\n",
       "    .dataframe tbody tr th:only-of-type {\n",
       "        vertical-align: middle;\n",
       "    }\n",
       "\n",
       "    .dataframe tbody tr th {\n",
       "        vertical-align: top;\n",
       "    }\n",
       "\n",
       "    .dataframe thead th {\n",
       "        text-align: right;\n",
       "    }\n",
       "</style>\n",
       "<table border=\"1\" class=\"dataframe\">\n",
       "  <thead>\n",
       "    <tr style=\"text-align: right;\">\n",
       "      <th></th>\n",
       "      <th>이름</th>\n",
       "      <th>정규화</th>\n",
       "    </tr>\n",
       "  </thead>\n",
       "  <tbody>\n",
       "    <tr>\n",
       "      <th>0</th>\n",
       "      <td>.</td>\n",
       "      <td>NaN</td>\n",
       "    </tr>\n",
       "    <tr>\n",
       "      <th>1</th>\n",
       "      <td>/ 이준헌 기자</td>\n",
       "      <td>NaN</td>\n",
       "    </tr>\n",
       "    <tr>\n",
       "      <th>2</th>\n",
       "      <td>/인천=장현일 기자 hichang@sedaily.com</td>\n",
       "      <td>NaN</td>\n",
       "    </tr>\n",
       "    <tr>\n",
       "      <th>3</th>\n",
       "      <td>2006022;2021005 기자</td>\n",
       "      <td>NaN</td>\n",
       "    </tr>\n",
       "    <tr>\n",
       "      <th>4</th>\n",
       "      <td>2016004;2020021 기자</td>\n",
       "      <td>NaN</td>\n",
       "    </tr>\n",
       "  </tbody>\n",
       "</table>\n",
       "</div>"
      ],
      "text/plain": [
       "                               이름  정규화\n",
       "0                               .  NaN\n",
       "1                        / 이준헌 기자  NaN\n",
       "2  /인천=장현일 기자 hichang@sedaily.com  NaN\n",
       "3              2006022;2021005 기자  NaN\n",
       "4              2016004;2020021 기자  NaN"
      ]
     },
     "execution_count": 16,
     "metadata": {},
     "output_type": "execute_result"
    }
   ],
   "source": [
    "others_df.head()"
   ]
  },
  {
   "cell_type": "code",
   "execution_count": 17,
   "id": "7efc29c7-f20a-462c-9a37-5e8a9dfe9604",
   "metadata": {},
   "outputs": [],
   "source": [
    "for index, row in others_df.iterrows():\n",
    "    name, new_name = row[\"이름\"], row[\"정규화\"]\n",
    "    if new_name is not np.nan:\n",
    "        reporter_df.loc[reporter_df[\"이름\"] == name, \"정규화\"] = new_name"
   ]
  },
  {
   "cell_type": "markdown",
   "id": "9973e448-e040-499f-9b32-b8b989017551",
   "metadata": {},
   "source": [
    "## 5. names_others1 → reporters"
   ]
  },
  {
   "cell_type": "code",
   "execution_count": 18,
   "id": "9e904813-d36c-4afa-8430-00c648d167da",
   "metadata": {},
   "outputs": [],
   "source": [
    "others1_df = pd.read_csv(join(byline_path, \"names_others1.csv\"))"
   ]
  },
  {
   "cell_type": "code",
   "execution_count": 19,
   "id": "b745a4ee-6871-4bc7-b3e7-24cfa48f0e3d",
   "metadata": {},
   "outputs": [
    {
     "data": {
      "text/html": [
       "<div>\n",
       "<style scoped>\n",
       "    .dataframe tbody tr th:only-of-type {\n",
       "        vertical-align: middle;\n",
       "    }\n",
       "\n",
       "    .dataframe tbody tr th {\n",
       "        vertical-align: top;\n",
       "    }\n",
       "\n",
       "    .dataframe thead th {\n",
       "        text-align: right;\n",
       "    }\n",
       "</style>\n",
       "<table border=\"1\" class=\"dataframe\">\n",
       "  <thead>\n",
       "    <tr style=\"text-align: right;\">\n",
       "      <th></th>\n",
       "      <th>이름</th>\n",
       "      <th>정규화</th>\n",
       "    </tr>\n",
       "  </thead>\n",
       "  <tbody>\n",
       "    <tr>\n",
       "      <th>0</th>\n",
       "      <td>.</td>\n",
       "      <td>NaN</td>\n",
       "    </tr>\n",
       "    <tr>\n",
       "      <th>1</th>\n",
       "      <td>/ 이준헌 기자</td>\n",
       "      <td>이준헌</td>\n",
       "    </tr>\n",
       "    <tr>\n",
       "      <th>2</th>\n",
       "      <td>/인천=장현일 기자 hichang@sedaily.com</td>\n",
       "      <td>장현일</td>\n",
       "    </tr>\n",
       "    <tr>\n",
       "      <th>3</th>\n",
       "      <td>G1 박성준</td>\n",
       "      <td>박성준</td>\n",
       "    </tr>\n",
       "    <tr>\n",
       "      <th>4</th>\n",
       "      <td>Hoàng Phương Ly</td>\n",
       "      <td>Hoàng Phương Ly</td>\n",
       "    </tr>\n",
       "  </tbody>\n",
       "</table>\n",
       "</div>"
      ],
      "text/plain": [
       "                               이름              정규화\n",
       "0                               .              NaN\n",
       "1                        / 이준헌 기자              이준헌\n",
       "2  /인천=장현일 기자 hichang@sedaily.com              장현일\n",
       "3                          G1 박성준              박성준\n",
       "4                 Hoàng Phương Ly  Hoàng Phương Ly"
      ]
     },
     "execution_count": 19,
     "metadata": {},
     "output_type": "execute_result"
    }
   ],
   "source": [
    "others1_df.head()"
   ]
  },
  {
   "cell_type": "code",
   "execution_count": 20,
   "id": "5a6da253-fbf5-4517-abad-c6bf0e164c1e",
   "metadata": {},
   "outputs": [],
   "source": [
    "for index, row in others1_df.iterrows():\n",
    "    name, new_name = row[\"이름\"], row[\"정규화\"]\n",
    "    if new_name is not np.nan:\n",
    "        reporter_df.loc[reporter_df[\"이름\"] == name, \"정규화\"] = new_name"
   ]
  },
  {
   "cell_type": "markdown",
   "id": "8523cfd0-d274-4607-b5db-96e9a1e6dd51",
   "metadata": {},
   "source": [
    "## 6. 저장"
   ]
  },
  {
   "cell_type": "code",
   "execution_count": 21,
   "id": "4fa8f68f-85d7-43e3-8995-590c22ce48b3",
   "metadata": {},
   "outputs": [
    {
     "data": {
      "text/plain": [
       "(4554, 2)"
      ]
     },
     "execution_count": 21,
     "metadata": {},
     "output_type": "execute_result"
    }
   ],
   "source": [
    "reporter_df.shape"
   ]
  },
  {
   "cell_type": "code",
   "execution_count": 22,
   "id": "e9607296-67ff-4b05-a7ba-5a6eb1917cbc",
   "metadata": {},
   "outputs": [
    {
     "data": {
      "text/html": [
       "<div>\n",
       "<style scoped>\n",
       "    .dataframe tbody tr th:only-of-type {\n",
       "        vertical-align: middle;\n",
       "    }\n",
       "\n",
       "    .dataframe tbody tr th {\n",
       "        vertical-align: top;\n",
       "    }\n",
       "\n",
       "    .dataframe thead th {\n",
       "        text-align: right;\n",
       "    }\n",
       "</style>\n",
       "<table border=\"1\" class=\"dataframe\">\n",
       "  <thead>\n",
       "    <tr style=\"text-align: right;\">\n",
       "      <th></th>\n",
       "      <th>이름</th>\n",
       "      <th>정규화</th>\n",
       "    </tr>\n",
       "  </thead>\n",
       "  <tbody>\n",
       "    <tr>\n",
       "      <th>0</th>\n",
       "      <td>(中）/[번역]강지혜\\n[번역]강지혜</td>\n",
       "      <td>강지혜</td>\n",
       "    </tr>\n",
       "    <tr>\n",
       "      <th>1</th>\n",
       "      <td>(강원)강대웅·위준휘\\n위준휘</td>\n",
       "      <td>강대웅||위준휘</td>\n",
       "    </tr>\n",
       "    <tr>\n",
       "      <th>2</th>\n",
       "      <td>(경주) 최주호\\n최주호</td>\n",
       "      <td>최주호</td>\n",
       "    </tr>\n",
       "    <tr>\n",
       "      <th>3</th>\n",
       "      <td>(과천) 박재천\\n박재천</td>\n",
       "      <td>박재천</td>\n",
       "    </tr>\n",
       "    <tr>\n",
       "      <th>4</th>\n",
       "      <td>(광주)박승호\\n박승호</td>\n",
       "      <td>박승호</td>\n",
       "    </tr>\n",
       "  </tbody>\n",
       "</table>\n",
       "</div>"
      ],
      "text/plain": [
       "                     이름       정규화\n",
       "0  (中）/[번역]강지혜\\n[번역]강지혜       강지혜\n",
       "1      (강원)강대웅·위준휘\\n위준휘  강대웅||위준휘\n",
       "2         (경주) 최주호\\n최주호       최주호\n",
       "3         (과천) 박재천\\n박재천       박재천\n",
       "4          (광주)박승호\\n박승호       박승호"
      ]
     },
     "execution_count": 22,
     "metadata": {},
     "output_type": "execute_result"
    }
   ],
   "source": [
    "reporter_df.head()"
   ]
  },
  {
   "cell_type": "code",
   "execution_count": 23,
   "id": "008480a3-6d2a-47f3-9008-37856b1c9ba5",
   "metadata": {},
   "outputs": [],
   "source": [
    "reporter_df.to_csv(reporter_path, index=False, encoding=\"utf-8-sig\")"
   ]
  },
  {
   "cell_type": "code",
   "execution_count": null,
   "id": "7a557855-6a5f-42fd-88be-67cc2aca453a",
   "metadata": {},
   "outputs": [],
   "source": []
  }
 ],
 "metadata": {
  "kernelspec": {
   "display_name": "es-ojt",
   "language": "python",
   "name": ".venv"
  },
  "language_info": {
   "codemirror_mode": {
    "name": "ipython",
    "version": 3
   },
   "file_extension": ".py",
   "mimetype": "text/x-python",
   "name": "python",
   "nbconvert_exporter": "python",
   "pygments_lexer": "ipython3",
   "version": "3.9.5"
  }
 },
 "nbformat": 4,
 "nbformat_minor": 5
}
