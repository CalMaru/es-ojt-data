{
 "cells": [
  {
   "cell_type": "markdown",
   "id": "ae16e4c3-6ae4-430a-a9ef-d4683a274ca5",
   "metadata": {},
   "source": [
    "# Reporters"
   ]
  },
  {
   "cell_type": "code",
   "execution_count": 1,
   "id": "a636cdd3-f87f-44f7-a77f-da9fd58cff1e",
   "metadata": {},
   "outputs": [],
   "source": [
    "from pathlib import Path\n",
    "import os\n",
    "\n",
    "os.chdir(Path(os.getcwd()).parent)"
   ]
  },
  {
   "cell_type": "code",
   "execution_count": 2,
   "id": "19676c31-8d7e-4b20-b51c-6c3349a25a47",
   "metadata": {},
   "outputs": [],
   "source": [
    "from os.path import join\n",
    "\n",
    "import pandas as pd\n",
    "import numpy as np"
   ]
  },
  {
   "cell_type": "code",
   "execution_count": 3,
   "id": "24c980da-4207-40c9-a4d1-712820db1ada",
   "metadata": {},
   "outputs": [],
   "source": [
    "root_path = os.getcwd()\n",
    "data_path = join(os.getcwd(), \"data\", \"preprocessing\")\n",
    "byline_path = join(data_path, \"bylines.csv\")\n",
    "reporter_path = join(data_path, \"reporters.csv\")"
   ]
  },
  {
   "cell_type": "code",
   "execution_count": 4,
   "id": "d0031134-2362-4353-9458-0ec12983a5e6",
   "metadata": {},
   "outputs": [
    {
     "data": {
      "text/plain": [
       "3908"
      ]
     },
     "execution_count": 4,
     "metadata": {},
     "output_type": "execute_result"
    }
   ],
   "source": [
    "byline_df = pd.read_csv(byline_path)\n",
    "raw_names = sorted(byline_df[\"정규화\"].dropna().unique())\n",
    "len(raw_names)"
   ]
  },
  {
   "cell_type": "code",
   "execution_count": 5,
   "id": "e93f4354-e0a9-40a1-9249-cb25f04de522",
   "metadata": {},
   "outputs": [
    {
     "data": {
      "text/plain": [
       "3783"
      ]
     },
     "execution_count": 5,
     "metadata": {},
     "output_type": "execute_result"
    }
   ],
   "source": [
    "names = set()\n",
    "\n",
    "for raw_name in raw_names:\n",
    "    for name in raw_name.split(\"||\"):\n",
    "        names.add(name)\n",
    "\n",
    "names = (sorted(names))\n",
    "len(names)"
   ]
  },
  {
   "cell_type": "code",
   "execution_count": 6,
   "id": "3ca368d7-baf7-4aa1-bb06-39d14077bd4d",
   "metadata": {},
   "outputs": [
    {
     "data": {
      "text/plain": [
       "['Hoàng Phương Ly', '갈태웅', '강갑생', '강경루', '강경민']"
      ]
     },
     "execution_count": 6,
     "metadata": {},
     "output_type": "execute_result"
    }
   ],
   "source": [
    "names[:5]"
   ]
  },
  {
   "cell_type": "code",
   "execution_count": 7,
   "id": "330bd7a8-dae6-4f97-9566-af4d93bd77bf",
   "metadata": {},
   "outputs": [],
   "source": [
    "reporter_df = pd.DataFrame()\n",
    "reporter_df[\"이름\"] = names"
   ]
  },
  {
   "cell_type": "code",
   "execution_count": 8,
   "id": "f7b0d99d-13c9-4fe4-bc8b-16866bd152ac",
   "metadata": {},
   "outputs": [
    {
     "data": {
      "text/plain": [
       "(3783, 1)"
      ]
     },
     "execution_count": 8,
     "metadata": {},
     "output_type": "execute_result"
    }
   ],
   "source": [
    "reporter_df.shape"
   ]
  },
  {
   "cell_type": "code",
   "execution_count": 9,
   "id": "aaa07255-506e-4a69-8bbf-e4a55362c28f",
   "metadata": {},
   "outputs": [],
   "source": [
    "reporter_df.to_csv(reporter_path, index=False, encoding=\"utf-8-sig\")"
   ]
  },
  {
   "cell_type": "code",
   "execution_count": null,
   "id": "e0fba0b6-af02-4139-87ce-9d57652ba01f",
   "metadata": {},
   "outputs": [],
   "source": []
  }
 ],
 "metadata": {
  "kernelspec": {
   "display_name": "es-ojt",
   "language": "python",
   "name": ".venv"
  },
  "language_info": {
   "codemirror_mode": {
    "name": "ipython",
    "version": 3
   },
   "file_extension": ".py",
   "mimetype": "text/x-python",
   "name": "python",
   "nbconvert_exporter": "python",
   "pygments_lexer": "ipython3",
   "version": "3.9.5"
  }
 },
 "nbformat": 4,
 "nbformat_minor": 5
}
